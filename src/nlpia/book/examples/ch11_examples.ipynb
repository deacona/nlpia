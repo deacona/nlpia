{
 "cells": [
  {
   "cell_type": "markdown",
   "id": "43e5b253-49da-49fa-bdfe-84f54928dfac",
   "metadata": {},
   "source": [
    "# 11. Information extraction (named entity extraction and question answering)"
   ]
  },
  {
   "cell_type": "markdown",
   "id": "50f8a823-b9de-4b26-913e-4a68468bd81e",
   "metadata": {},
   "source": [
    "###  11.2 Regular patterns"
   ]
  },
  {
   "cell_type": "code",
   "execution_count": 1,
   "id": "79e22d79",
   "metadata": {},
   "outputs": [],
   "source": [
    "def find_greeting(s):\n",
    "    \"\"\" Return the the greeting string Hi, Hello, or Yo if it occurs at the beginning of a string \"\"\"\n",
    "    if s[0] == 'H':\n",
    "        if s[:3] in ['Hi', 'Hi ', 'Hi,', 'Hi!']:\n",
    "            return s[:2]\n",
    "        elif s[:6] in ['Hello', 'Hello ', 'Hello,', 'Hello!']:\n",
    "            return s[:5]\n",
    "    elif s[0] == 'Y':\n",
    "        if s[1] == 'o' and s[:3] in ['Yo', 'Yo,', 'Yo ', 'Yo!']:\n",
    "            return s[:2]\n",
    "    return None"
   ]
  },
  {
   "cell_type": "code",
   "execution_count": 2,
   "id": "aa2a50f5",
   "metadata": {},
   "outputs": [
    {
     "data": {
      "text/plain": [
       "'Hi'"
      ]
     },
     "execution_count": 2,
     "metadata": {},
     "output_type": "execute_result"
    }
   ],
   "source": [
    "find_greeting('Hi Mr. Turing!')"
   ]
  },
  {
   "cell_type": "code",
   "execution_count": 3,
   "id": "a8efc55b",
   "metadata": {},
   "outputs": [
    {
     "data": {
      "text/plain": [
       "'Hello'"
      ]
     },
     "execution_count": 3,
     "metadata": {},
     "output_type": "execute_result"
    }
   ],
   "source": [
    "find_greeting('Hello, Rosa.')"
   ]
  },
  {
   "cell_type": "code",
   "execution_count": 4,
   "id": "9ac872ce",
   "metadata": {},
   "outputs": [
    {
     "data": {
      "text/plain": [
       "'Yo'"
      ]
     },
     "execution_count": 4,
     "metadata": {},
     "output_type": "execute_result"
    }
   ],
   "source": [
    "find_greeting(\"Yo, what's up?\")"
   ]
  },
  {
   "cell_type": "code",
   "execution_count": 5,
   "id": "26fd01d8",
   "metadata": {},
   "outputs": [
    {
     "data": {
      "text/plain": [
       "'Hello'"
      ]
     },
     "execution_count": 5,
     "metadata": {},
     "output_type": "execute_result"
    }
   ],
   "source": [
    "find_greeting(\"Hello\")"
   ]
  },
  {
   "cell_type": "code",
   "execution_count": 6,
   "id": "cd185e92",
   "metadata": {},
   "outputs": [
    {
     "name": "stdout",
     "output_type": "stream",
     "text": [
      "None\n"
     ]
    }
   ],
   "source": [
    "print(find_greeting(\"hello\"))"
   ]
  },
  {
   "cell_type": "code",
   "execution_count": 7,
   "id": "4bdfc017",
   "metadata": {},
   "outputs": [
    {
     "name": "stdout",
     "output_type": "stream",
     "text": [
      "None\n"
     ]
    }
   ],
   "source": [
    "print(find_greeting(\"HelloWorld\"))"
   ]
  },
  {
   "cell_type": "markdown",
   "id": "7fd01ce0",
   "metadata": {},
   "source": [
    "### 11.3.1 Extracting GPS locations"
   ]
  },
  {
   "cell_type": "code",
   "execution_count": 8,
   "id": "acd8b2a8",
   "metadata": {},
   "outputs": [],
   "source": [
    "import re\n",
    "\n",
    "lat = r'([-]?[0-9]?[0-9][.][0-9]{2,10})'\n",
    "lon = r'([-]?1?[0-9]?[0-9][.][0-9]{2,10})'\n",
    "sep = r'[,/ ]{1,3}'\n",
    "re_gps = re.compile(lat + sep + lon)"
   ]
  },
  {
   "cell_type": "code",
   "execution_count": 9,
   "id": "8a8f9645",
   "metadata": {},
   "outputs": [
    {
     "data": {
      "text/plain": [
       "[('34.0551066', '-118.2496763')]"
      ]
     },
     "execution_count": 9,
     "metadata": {},
     "output_type": "execute_result"
    }
   ],
   "source": [
    "re_gps.findall('http://...maps/@34.0551066,-118.2496763...')\n",
    "# [(34.0551066, -118.2496763)]"
   ]
  },
  {
   "cell_type": "code",
   "execution_count": 10,
   "id": "990faf4c",
   "metadata": {},
   "outputs": [
    {
     "data": {
      "text/plain": [
       "[('5.9666', '116.0566')]"
      ]
     },
     "execution_count": 10,
     "metadata": {},
     "output_type": "execute_result"
    }
   ],
   "source": [
    "re_gps.findall(\"https://www.openstreetmap.org/#map=10/5.9666/116.0566\")\n",
    "# [('5.9666', '116.0566')]"
   ]
  },
  {
   "cell_type": "code",
   "execution_count": 11,
   "id": "e1b68bd0",
   "metadata": {},
   "outputs": [
    {
     "data": {
      "text/plain": [
       "[('45.344', '-121.9431')]"
      ]
     },
     "execution_count": 11,
     "metadata": {},
     "output_type": "execute_result"
    }
   ],
   "source": [
    "re_gps.findall(\"Zig Zag Cafe is at 45.344, -121.9431 on my GPS.\")\n",
    "# [('45.3440', '-121.9431')]"
   ]
  },
  {
   "cell_type": "markdown",
   "id": "3bc8d14d",
   "metadata": {},
   "source": [
    "### 11.3.2 Extracting dates"
   ]
  },
  {
   "cell_type": "code",
   "execution_count": 22,
   "id": "42e4bd66",
   "metadata": {},
   "outputs": [
    {
     "data": {
      "text/plain": [
       "[('12/25/2017', '12/25', '12', '25', '/2017', '20'),\n",
       " ('12/12', '12/12', '12', '12', '', '')]"
      ]
     },
     "execution_count": 22,
     "metadata": {},
     "output_type": "execute_result"
    }
   ],
   "source": [
    "us = r'((([01]?\\d)[-/]([0123]?\\d))([-/]([012]\\d)\\d\\d)?)'\n",
    "mdy = re.findall(us, 'Santa came 12/25/2017. An elf appeared 12/12')\n",
    "mdy\n",
    "# [('12/25/2017', '12', '25', '/2017', '20'), ('12/12', '12', '12', '', '')]"
   ]
  },
  {
   "cell_type": "code",
   "execution_count": 23,
   "id": "4d0e4338",
   "metadata": {},
   "outputs": [
    {
     "data": {
      "text/plain": [
       "[{'mdy': '12/25/2017', 'my': '12/25', 'm': 12, 'd': 25, 'y': 2017, 'c': 20},\n",
       " {'mdy': '12/12', 'my': '12/12', 'm': 12, 'd': 12, 'y': 0, 'c': 0}]"
      ]
     },
     "execution_count": 23,
     "metadata": {},
     "output_type": "execute_result"
    }
   ],
   "source": [
    "dates = [{'mdy': x[0], 'my': x[1], 'm': int(x[2]), 'd': int(x[3]),\n",
    "        'y': int(x[4].lstrip('/') or 0), 'c': int(x[5] or 0)} for x in mdy]\n",
    "dates"
   ]
  },
  {
   "cell_type": "code",
   "execution_count": 24,
   "id": "ba5cd69d",
   "metadata": {},
   "outputs": [
    {
     "data": {
      "text/plain": [
       "[{'mdy': '12/25/2017', 'my': '12/25', 'm': 12, 'd': 25, 'y': 2017, 'c': 20},\n",
       " {'mdy': '12/12', 'my': '12/12', 'm': 12, 'd': 12, 'y': 2017, 'c': 20}]"
      ]
     },
     "execution_count": 24,
     "metadata": {},
     "output_type": "execute_result"
    }
   ],
   "source": [
    "for i, d in enumerate(dates):\n",
    "    for k, v in d.items():\n",
    "        if not v:\n",
    "            d[k] = dates[max(i - 1, 0)][k]\n",
    "\n",
    "dates"
   ]
  },
  {
   "cell_type": "code",
   "execution_count": 25,
   "id": "63d37fce",
   "metadata": {},
   "outputs": [
    {
     "data": {
      "text/plain": [
       "[datetime.date(2017, 12, 25), datetime.date(2017, 12, 12)]"
      ]
     },
     "execution_count": 25,
     "metadata": {},
     "output_type": "execute_result"
    }
   ],
   "source": [
    "from datetime import date\n",
    "\n",
    "datetimes = [date(d['y'], d['m'], d['d']) for d in dates]\n",
    "datetimes"
   ]
  },
  {
   "cell_type": "code",
   "execution_count": 27,
   "id": "e8b8fc48",
   "metadata": {},
   "outputs": [
    {
     "data": {
      "text/plain": [
       "[('23/6/1912', '23/6', '23', '6', '/1912', '19'),\n",
       " ('7/6/1954', '7/6', '7', '6', '/1954', '19')]"
      ]
     },
     "execution_count": 27,
     "metadata": {},
     "output_type": "execute_result"
    }
   ],
   "source": [
    "eu = r'((([0123]?\\d)[-/]([01]?\\d))([-/]([012]\\d)?\\d\\d)?)'\n",
    "dmy = re.findall(eu, 'Alan Mathison Turing OBE FRS (23/6/1912-7/6/1954) was an English computer scientist.')\n",
    "dmy\n",
    "# [('23/6/1912', '23', '6', '/1912', '19'),\n",
    "#  ('7/6/1954', '7', '6', '/1954', '19')]"
   ]
  },
  {
   "cell_type": "code",
   "execution_count": 28,
   "id": "6b2e3609",
   "metadata": {},
   "outputs": [
    {
     "data": {
      "text/plain": [
       "[('23/6/12', '23/6', '23', '6', '/12', ''),\n",
       " ('7/6/54', '7/6', '7', '6', '/54', '')]"
      ]
     },
     "execution_count": 28,
     "metadata": {},
     "output_type": "execute_result"
    }
   ],
   "source": [
    "dmy = re.findall(eu, 'Alan Mathison Turing OBE FRS (23/6/12-7/6/54) was an English computer scientist.')\n",
    "dmy"
   ]
  },
  {
   "cell_type": "code",
   "execution_count": 48,
   "id": "30414b2d",
   "metadata": {},
   "outputs": [
    {
     "data": {
      "text/plain": [
       "['2000', '01', '08', '99', '1984', '2030', '1970', '85', '47', '66']"
      ]
     },
     "execution_count": 48,
     "metadata": {},
     "output_type": "execute_result"
    }
   ],
   "source": [
    "# Deal with 2-digit and 4-digit and even 1-digit years from Year 0  to 3999 AD\n",
    "# And lets name the parts of our year so we can easily coerce it into a datetime object\n",
    "yr_19xx = (\n",
    "    r'\\b(?P<yr_19xx>' +\n",
    "    '|'.join('{}'.format(i) for i in range(30, 100)) +\n",
    "    r')\\b'\n",
    "    )\n",
    "# print(f\"yr_19xx: {yr_19xx}\")\n",
    "yr_20xx = (\n",
    "    r'\\b(?P<yr_20xx>' +\n",
    "    '|'.join('{:02d}'.format(i) for i in range(10)) + '|' +\n",
    "    '|'.join('{}'.format(i) for i in range(10, 30)) +\n",
    "    r')\\b'\n",
    "    )\n",
    "# print(f\"yr_20xx: {yr_20xx}\")\n",
    "yr_cent = r'\\b(?P<yr_cent>' + '|'.join('{}'.format(i) for i in range(1, 40)) + r')'\n",
    "# print(f\"yr_cent: {yr_cent}\")\n",
    "yr_ccxx = r'(?P<yr_ccxx>' + '|'.join('{:02d}'.format(i) for i in range(0, 100)) + r')\\b'\n",
    "# print(f\"yr_ccxx: {yr_ccxx}\")\n",
    "yr_xxxx = r'(?P<yr_xxxx>(' + yr_cent + ')(' + yr_ccxx + '))'\n",
    "yr = (\n",
    "    r'\\b(?P<yr>' +\n",
    "    yr_19xx + '|' + yr_20xx + '|' + yr_xxxx +\n",
    "    r')\\b'\n",
    "    )\n",
    "\n",
    "groups = list(re.finditer(\n",
    "    yr, \"0, 2000, 01, '08, 99, 1984, 2030/1970 85 47 `66\"\n",
    "))\n",
    "full_years = [g['yr'] for g in groups]\n",
    "full_years"
   ]
  },
  {
   "cell_type": "code",
   "execution_count": 63,
   "id": "e3c6ad80",
   "metadata": {},
   "outputs": [
    {
     "data": {
      "text/plain": [
       "['January', 'February', '12']"
      ]
     },
     "execution_count": 63,
     "metadata": {},
     "output_type": "execute_result"
    }
   ],
   "source": [
    "mon_words = 'January February March April May June July ' \\\n",
    "    'August September October November December'\n",
    "\n",
    "mon = (r\"\\b(?P<mon>\" + '|'.join('{}|{}|{}|{}|{:02d}'.format(\n",
    "    m, m[:4], m[:3], i + 1, i + 1) for i, m in enumerate(mon_words.split())) + \n",
    "       r\")\\b\")\n",
    "\n",
    "re.findall(mon, 'January has 31 days, February the 2nd month of 12, has 28, except in a Leap Year.')"
   ]
  },
  {
   "cell_type": "code",
   "execution_count": 157,
   "id": "17d7c0f0",
   "metadata": {},
   "outputs": [
    {
     "data": {
      "text/plain": [
       "[<re.Match object; span=(0, 16), match='31 October, 1970'>,\n",
       " <re.Match object; span=(17, 27), match='25/12/2017'>]"
      ]
     },
     "execution_count": 157,
     "metadata": {},
     "output_type": "execute_result"
    }
   ],
   "source": [
    "day = (r\"\\b(?P<day>\" + r'|'.join('{:02d}|{}'.format(i, i) for i in range(1, 32)) + \n",
    "       r\")\\b\")\n",
    "\n",
    "# eu = r'\\b((' + day + r')\\b[-,/ ]{0,2}\\b(' + mon + r')\\b[-,/ ]{0,2}\\b(' + yr + r'))\\b'\n",
    "# eu = r'(([0123]?\\d)[-/ ]([01]?\\d|' + mon + r')((\\,[ ]|[-/ ])([012]\\d)?\\d\\d)?)'\n",
    "\n",
    "eu = (r\"\\b(\" + day.replace(\"<day\", \"<eu_day\") + r\")\\b[-,/ ]{0,2}\\b(\" + mon.replace(\"<mon\", \"<eu_mon\") + r\")\\b[-,/ ]{0,2}\\b(\" + yr.replace(\"<yr\", \"<eu_yr\") +r\")\\b\")\n",
    "\n",
    "us = (r\"\\b(\" + mon.replace(\"<mon\", \"<us_mon\") + r\")\\b[-,/ ]{0,2}\\b(\" + day.replace(\"<day\", \"<us_day\") + r\")\\b[-,/ ]{0,2}\\b(\" + yr.replace(\"<yr\", \"<us_yr\") +r\")\\b\")\n",
    "\n",
    "date_pattern = r\"\\b(\" + eu + \"|\" + us + r\")\\b\"\n",
    "\n",
    "groups = list(re.finditer(date_pattern, \"31 October, 1970 25/12/2017\"))\n",
    "groups"
   ]
  },
  {
   "cell_type": "code",
   "execution_count": 159,
   "id": "e49a301f",
   "metadata": {},
   "outputs": [
    {
     "data": {
      "text/plain": [
       "[datetime.date(1970, 10, 31), datetime.date(2017, 12, 25)]"
      ]
     },
     "execution_count": 159,
     "metadata": {},
     "output_type": "execute_result"
    }
   ],
   "source": [
    "import datetime\n",
    "\n",
    "dates = []\n",
    "\n",
    "for g in groups:\n",
    "    month_num = (g[\"us_mon\"] or g[\"eu_mon\"]).strip()\n",
    "    try:\n",
    "        month_num = int(month_num)\n",
    "    except ValueError:\n",
    "        month_num = [w[:len(month_num)] for w in mon_words.split()].index(month_num) + 1\n",
    "\n",
    "    date = datetime.date(\n",
    "        int(g[\"us_yr\"] or g[\"eu_yr\"]),\n",
    "        month_num,\n",
    "        int(g[\"us_day\"] or g[\"eu_day\"])\n",
    "    )\n",
    "    dates.append(date)\n",
    "\n",
    "dates"
   ]
  },
  {
   "cell_type": "markdown",
   "id": "dab24f52",
   "metadata": {},
   "source": [
    "### 11.4.1 Part-of-speech (POS) tagging"
   ]
  },
  {
   "cell_type": "code",
   "execution_count": 72,
   "id": "6adf9342-51fc-499d-9596-384604bcc1f2",
   "metadata": {},
   "outputs": [
    {
     "name": "stdout",
     "output_type": "stream",
     "text": [
      "2022-12-22 16:44:59.533116: I tensorflow/core/platform/cpu_feature_guard.cc:193] This TensorFlow binary is optimized with oneAPI Deep Neural Network Library (oneDNN) to use the following CPU instructions in performance-critical operations:  AVX2 FMA\n",
      "To enable them in other operations, rebuild TensorFlow with the appropriate compiler flags.\n",
      "2022-12-22 16:44:59.740282: W tensorflow/compiler/xla/stream_executor/platform/default/dso_loader.cc:64] Could not load dynamic library 'libcudart.so.11.0'; dlerror: libcudart.so.11.0: cannot open shared object file: No such file or directory\n",
      "2022-12-22 16:44:59.740378: I tensorflow/compiler/xla/stream_executor/cuda/cudart_stub.cc:29] Ignore above cudart dlerror if you do not have a GPU set up on your machine.\n",
      "2022-12-22 16:45:00.537452: W tensorflow/compiler/xla/stream_executor/platform/default/dso_loader.cc:64] Could not load dynamic library 'libnvinfer.so.7'; dlerror: libnvinfer.so.7: cannot open shared object file: No such file or directory\n",
      "2022-12-22 16:45:00.537606: W tensorflow/compiler/xla/stream_executor/platform/default/dso_loader.cc:64] Could not load dynamic library 'libnvinfer_plugin.so.7'; dlerror: libnvinfer_plugin.so.7: cannot open shared object file: No such file or directory\n",
      "2022-12-22 16:45:00.537643: W tensorflow/compiler/tf2tensorrt/utils/py_utils.cc:38] TF-TRT Warning: Cannot dlopen some TensorRT libraries. If you would like to use Nvidia GPU with TensorRT, please make sure the missing libraries mentioned above are installed properly.\n",
      "2022-12-22 16:45:01.515281: W tensorflow/compiler/xla/stream_executor/platform/default/dso_loader.cc:64] Could not load dynamic library 'libcuda.so.1'; dlerror: libcuda.so.1: cannot open shared object file: No such file or directory\n",
      "2022-12-22 16:45:01.515325: W tensorflow/compiler/xla/stream_executor/cuda/cuda_driver.cc:265] failed call to cuInit: UNKNOWN ERROR (303)\n",
      "2022-12-22 16:45:01.515344: I tensorflow/compiler/xla/stream_executor/cuda/cuda_diagnostics.cc:156] kernel driver does not appear to be running on this host (7c2c748d9859): /proc/driver/nvidia/version does not exist\n",
      "Collecting en-core-web-md==3.4.1\n",
      "  Downloading https://github.com/explosion/spacy-models/releases/download/en_core_web_md-3.4.1/en_core_web_md-3.4.1-py3-none-any.whl (42.8 MB)\n",
      "\u001b[2K     \u001b[90m━━━━━━━━━━━━━━━━━━━━━━━━━━━━━━━━━━━━━━━━\u001b[0m \u001b[32m42.8/42.8 MB\u001b[0m \u001b[31m6.0 MB/s\u001b[0m eta \u001b[36m0:00:00\u001b[0m00:01\u001b[0m00:01\u001b[0mm\n",
      "\u001b[?25hRequirement already satisfied: spacy<3.5.0,>=3.4.0 in /opt/conda/lib/python3.10/site-packages (from en-core-web-md==3.4.1) (3.4.3)\n",
      "Requirement already satisfied: thinc<8.2.0,>=8.1.0 in /opt/conda/lib/python3.10/site-packages (from spacy<3.5.0,>=3.4.0->en-core-web-md==3.4.1) (8.1.5)\n",
      "Requirement already satisfied: pydantic!=1.8,!=1.8.1,<1.11.0,>=1.7.4 in /opt/conda/lib/python3.10/site-packages (from spacy<3.5.0,>=3.4.0->en-core-web-md==3.4.1) (1.10.2)\n",
      "Requirement already satisfied: tqdm<5.0.0,>=4.38.0 in /opt/conda/lib/python3.10/site-packages (from spacy<3.5.0,>=3.4.0->en-core-web-md==3.4.1) (4.64.1)\n",
      "Requirement already satisfied: jinja2 in /opt/conda/lib/python3.10/site-packages (from spacy<3.5.0,>=3.4.0->en-core-web-md==3.4.1) (3.1.2)\n",
      "Requirement already satisfied: murmurhash<1.1.0,>=0.28.0 in /opt/conda/lib/python3.10/site-packages (from spacy<3.5.0,>=3.4.0->en-core-web-md==3.4.1) (1.0.9)\n",
      "Requirement already satisfied: wasabi<1.1.0,>=0.9.1 in /opt/conda/lib/python3.10/site-packages (from spacy<3.5.0,>=3.4.0->en-core-web-md==3.4.1) (0.10.1)\n",
      "Requirement already satisfied: catalogue<2.1.0,>=2.0.6 in /opt/conda/lib/python3.10/site-packages (from spacy<3.5.0,>=3.4.0->en-core-web-md==3.4.1) (2.0.8)\n",
      "Requirement already satisfied: cymem<2.1.0,>=2.0.2 in /opt/conda/lib/python3.10/site-packages (from spacy<3.5.0,>=3.4.0->en-core-web-md==3.4.1) (2.0.7)\n",
      "Requirement already satisfied: pathy>=0.3.5 in /opt/conda/lib/python3.10/site-packages (from spacy<3.5.0,>=3.4.0->en-core-web-md==3.4.1) (0.8.1)\n",
      "Requirement already satisfied: langcodes<4.0.0,>=3.2.0 in /opt/conda/lib/python3.10/site-packages (from spacy<3.5.0,>=3.4.0->en-core-web-md==3.4.1) (3.3.0)\n",
      "Requirement already satisfied: srsly<3.0.0,>=2.4.3 in /opt/conda/lib/python3.10/site-packages (from spacy<3.5.0,>=3.4.0->en-core-web-md==3.4.1) (2.4.5)\n",
      "Requirement already satisfied: typer<0.8.0,>=0.3.0 in /opt/conda/lib/python3.10/site-packages (from spacy<3.5.0,>=3.4.0->en-core-web-md==3.4.1) (0.7.0)\n",
      "Requirement already satisfied: packaging>=20.0 in /opt/conda/lib/python3.10/site-packages (from spacy<3.5.0,>=3.4.0->en-core-web-md==3.4.1) (21.3)\n",
      "Requirement already satisfied: spacy-legacy<3.1.0,>=3.0.10 in /opt/conda/lib/python3.10/site-packages (from spacy<3.5.0,>=3.4.0->en-core-web-md==3.4.1) (3.0.10)\n",
      "Requirement already satisfied: numpy>=1.15.0 in /opt/conda/lib/python3.10/site-packages (from spacy<3.5.0,>=3.4.0->en-core-web-md==3.4.1) (1.23.5)\n",
      "Requirement already satisfied: preshed<3.1.0,>=3.0.2 in /opt/conda/lib/python3.10/site-packages (from spacy<3.5.0,>=3.4.0->en-core-web-md==3.4.1) (3.0.8)\n",
      "Requirement already satisfied: setuptools in /opt/conda/lib/python3.10/site-packages (from spacy<3.5.0,>=3.4.0->en-core-web-md==3.4.1) (65.5.1)\n",
      "Requirement already satisfied: spacy-loggers<2.0.0,>=1.0.0 in /opt/conda/lib/python3.10/site-packages (from spacy<3.5.0,>=3.4.0->en-core-web-md==3.4.1) (1.0.3)\n",
      "Requirement already satisfied: requests<3.0.0,>=2.13.0 in /opt/conda/lib/python3.10/site-packages (from spacy<3.5.0,>=3.4.0->en-core-web-md==3.4.1) (2.28.1)\n",
      "Requirement already satisfied: pyparsing!=3.0.5,>=2.0.2 in /opt/conda/lib/python3.10/site-packages (from packaging>=20.0->spacy<3.5.0,>=3.4.0->en-core-web-md==3.4.1) (3.0.9)\n",
      "Requirement already satisfied: smart-open<6.0.0,>=5.2.1 in /opt/conda/lib/python3.10/site-packages (from pathy>=0.3.5->spacy<3.5.0,>=3.4.0->en-core-web-md==3.4.1) (5.2.1)\n",
      "Requirement already satisfied: typing-extensions>=4.1.0 in /opt/conda/lib/python3.10/site-packages (from pydantic!=1.8,!=1.8.1,<1.11.0,>=1.7.4->spacy<3.5.0,>=3.4.0->en-core-web-md==3.4.1) (4.4.0)\n",
      "Requirement already satisfied: idna<4,>=2.5 in /opt/conda/lib/python3.10/site-packages (from requests<3.0.0,>=2.13.0->spacy<3.5.0,>=3.4.0->en-core-web-md==3.4.1) (3.4)\n",
      "Requirement already satisfied: certifi>=2017.4.17 in /opt/conda/lib/python3.10/site-packages (from requests<3.0.0,>=2.13.0->spacy<3.5.0,>=3.4.0->en-core-web-md==3.4.1) (2022.9.24)\n",
      "Requirement already satisfied: urllib3<1.27,>=1.21.1 in /opt/conda/lib/python3.10/site-packages (from requests<3.0.0,>=2.13.0->spacy<3.5.0,>=3.4.0->en-core-web-md==3.4.1) (1.26.11)\n",
      "Requirement already satisfied: charset-normalizer<3,>=2 in /opt/conda/lib/python3.10/site-packages (from requests<3.0.0,>=2.13.0->spacy<3.5.0,>=3.4.0->en-core-web-md==3.4.1) (2.1.1)\n",
      "Requirement already satisfied: blis<0.8.0,>=0.7.8 in /opt/conda/lib/python3.10/site-packages (from thinc<8.2.0,>=8.1.0->spacy<3.5.0,>=3.4.0->en-core-web-md==3.4.1) (0.7.9)\n",
      "Requirement already satisfied: confection<1.0.0,>=0.0.1 in /opt/conda/lib/python3.10/site-packages (from thinc<8.2.0,>=8.1.0->spacy<3.5.0,>=3.4.0->en-core-web-md==3.4.1) (0.0.3)\n",
      "Requirement already satisfied: click<9.0.0,>=7.1.1 in /opt/conda/lib/python3.10/site-packages (from typer<0.8.0,>=0.3.0->spacy<3.5.0,>=3.4.0->en-core-web-md==3.4.1) (8.1.3)\n",
      "Requirement already satisfied: MarkupSafe>=2.0 in /opt/conda/lib/python3.10/site-packages (from jinja2->spacy<3.5.0,>=3.4.0->en-core-web-md==3.4.1) (2.1.1)\n",
      "Installing collected packages: en-core-web-md\n",
      "Successfully installed en-core-web-md-3.4.1\n",
      "\u001b[38;5;2m✔ Download and installation successful\u001b[0m\n",
      "You can now load the package via spacy.load('en_core_web_md')\n"
     ]
    }
   ],
   "source": [
    "!python -m spacy download en_core_web_md"
   ]
  },
  {
   "cell_type": "code",
   "execution_count": 73,
   "id": "b8b8851f",
   "metadata": {},
   "outputs": [],
   "source": [
    "import spacy\n",
    "\n",
    "en_model = spacy.load(\"en_core_web_md\")"
   ]
  },
  {
   "cell_type": "code",
   "execution_count": 74,
   "id": "8a2a0e63",
   "metadata": {},
   "outputs": [
    {
     "data": {
      "text/plain": [
       "(1541, Desoto, Pascagoula, Chickasawhay, 30.4)"
      ]
     },
     "execution_count": 74,
     "metadata": {},
     "output_type": "execute_result"
    }
   ],
   "source": [
    "sentence = (\"In 1541 Desoto wrote in his journal that the Pascagoula people \" +\n",
    "    \"ranged as far north as the confluence of the Leaf and Chickasawhay rivers at 30.4, -88.5.\")\n",
    "\n",
    "parsed_sent = en_model(sentence)\n",
    "parsed_sent.ents"
   ]
  },
  {
   "cell_type": "code",
   "execution_count": 76,
   "id": "d92e4d64",
   "metadata": {},
   "outputs": [
    {
     "data": {
      "text/plain": [
       "'In_IN 1541_CD Desoto_NN wrote_VBD in_IN his_PRP$ journal_NN that_IN the_DT Pascagoula_NNP people_NNS ranged_VBD as_RB far_RB north_RB as_IN the_DT confluence_NN of_IN the_DT Leaf_NNP and_CC Chickasawhay_NNP rivers_NNS at_IN 30.4_CD ,_, -88.5_NN ._.'"
      ]
     },
     "execution_count": 76,
     "metadata": {},
     "output_type": "execute_result"
    }
   ],
   "source": [
    "\" \".join([\"{}_{}\".format(tok, tok.tag_) for tok in parsed_sent])"
   ]
  },
  {
   "cell_type": "code",
   "execution_count": 154,
   "id": "47f7e547",
   "metadata": {},
   "outputs": [
    {
     "data": {
      "text/html": [
       "<span class=\"tex2jax_ignore\"><!DOCTYPE html>\n",
       "<html lang=\"en\">\n",
       "    <head>\n",
       "        <title>displaCy</title>\n",
       "    </head>\n",
       "\n",
       "    <body style=\"font-size: 16px; font-family: -apple-system, BlinkMacSystemFont, 'Segoe UI', Helvetica, Arial, sans-serif, 'Apple Color Emoji', 'Segoe UI Emoji', 'Segoe UI Symbol'; padding: 4rem 2rem; direction: ltr\">\n",
       "<figure style=\"margin-bottom: 6rem\">\n",
       "<svg xmlns=\"http://www.w3.org/2000/svg\" xmlns:xlink=\"http://www.w3.org/1999/xlink\" xml:lang=\"en\" id=\"9f9a7a1c85d8458aae5a2f755ac84df1-0\" class=\"displacy\" width=\"1550\" height=\"287.0\" direction=\"ltr\" style=\"max-width: none; height: 287.0px; color: #000000; background: #ffffff; font-family: Arial; direction: ltr\">\n",
       "<text class=\"displacy-token\" fill=\"currentColor\" text-anchor=\"middle\" y=\"197.0\">\n",
       "    <tspan class=\"displacy-word\" fill=\"currentColor\" x=\"50\">In</tspan>\n",
       "    <tspan class=\"displacy-tag\" dy=\"2em\" fill=\"currentColor\" x=\"50\">ADP</tspan>\n",
       "</text>\n",
       "\n",
       "<text class=\"displacy-token\" fill=\"currentColor\" text-anchor=\"middle\" y=\"197.0\">\n",
       "    <tspan class=\"displacy-word\" fill=\"currentColor\" x=\"200\">1541</tspan>\n",
       "    <tspan class=\"displacy-tag\" dy=\"2em\" fill=\"currentColor\" x=\"200\">NUM</tspan>\n",
       "</text>\n",
       "\n",
       "<text class=\"displacy-token\" fill=\"currentColor\" text-anchor=\"middle\" y=\"197.0\">\n",
       "    <tspan class=\"displacy-word\" fill=\"currentColor\" x=\"350\">Desoto</tspan>\n",
       "    <tspan class=\"displacy-tag\" dy=\"2em\" fill=\"currentColor\" x=\"350\">NOUN</tspan>\n",
       "</text>\n",
       "\n",
       "<text class=\"displacy-token\" fill=\"currentColor\" text-anchor=\"middle\" y=\"197.0\">\n",
       "    <tspan class=\"displacy-word\" fill=\"currentColor\" x=\"500\">wrote</tspan>\n",
       "    <tspan class=\"displacy-tag\" dy=\"2em\" fill=\"currentColor\" x=\"500\">VERB</tspan>\n",
       "</text>\n",
       "\n",
       "<text class=\"displacy-token\" fill=\"currentColor\" text-anchor=\"middle\" y=\"197.0\">\n",
       "    <tspan class=\"displacy-word\" fill=\"currentColor\" x=\"650\">in</tspan>\n",
       "    <tspan class=\"displacy-tag\" dy=\"2em\" fill=\"currentColor\" x=\"650\">ADP</tspan>\n",
       "</text>\n",
       "\n",
       "<text class=\"displacy-token\" fill=\"currentColor\" text-anchor=\"middle\" y=\"197.0\">\n",
       "    <tspan class=\"displacy-word\" fill=\"currentColor\" x=\"800\">his</tspan>\n",
       "    <tspan class=\"displacy-tag\" dy=\"2em\" fill=\"currentColor\" x=\"800\">PRON</tspan>\n",
       "</text>\n",
       "\n",
       "<text class=\"displacy-token\" fill=\"currentColor\" text-anchor=\"middle\" y=\"197.0\">\n",
       "    <tspan class=\"displacy-word\" fill=\"currentColor\" x=\"950\">journal</tspan>\n",
       "    <tspan class=\"displacy-tag\" dy=\"2em\" fill=\"currentColor\" x=\"950\">NOUN</tspan>\n",
       "</text>\n",
       "\n",
       "<text class=\"displacy-token\" fill=\"currentColor\" text-anchor=\"middle\" y=\"197.0\">\n",
       "    <tspan class=\"displacy-word\" fill=\"currentColor\" x=\"1100\">about</tspan>\n",
       "    <tspan class=\"displacy-tag\" dy=\"2em\" fill=\"currentColor\" x=\"1100\">ADP</tspan>\n",
       "</text>\n",
       "\n",
       "<text class=\"displacy-token\" fill=\"currentColor\" text-anchor=\"middle\" y=\"197.0\">\n",
       "    <tspan class=\"displacy-word\" fill=\"currentColor\" x=\"1250\">the</tspan>\n",
       "    <tspan class=\"displacy-tag\" dy=\"2em\" fill=\"currentColor\" x=\"1250\">DET</tspan>\n",
       "</text>\n",
       "\n",
       "<text class=\"displacy-token\" fill=\"currentColor\" text-anchor=\"middle\" y=\"197.0\">\n",
       "    <tspan class=\"displacy-word\" fill=\"currentColor\" x=\"1400\">Pascagoula.</tspan>\n",
       "    <tspan class=\"displacy-tag\" dy=\"2em\" fill=\"currentColor\" x=\"1400\">PROPN</tspan>\n",
       "</text>\n",
       "\n",
       "<g class=\"displacy-arrow\">\n",
       "    <path class=\"displacy-arc\" id=\"arrow-9f9a7a1c85d8458aae5a2f755ac84df1-0-0\" stroke-width=\"2px\" d=\"M62,152.0 62,102.0 500.0,102.0 500.0,152.0\" fill=\"none\" stroke=\"currentColor\"/>\n",
       "    <text dy=\"1.25em\" style=\"font-size: 0.8em; letter-spacing: 1px\">\n",
       "        <textPath xlink:href=\"#arrow-9f9a7a1c85d8458aae5a2f755ac84df1-0-0\" class=\"displacy-label\" startOffset=\"50%\" side=\"left\" fill=\"currentColor\" text-anchor=\"middle\">prep</textPath>\n",
       "    </text>\n",
       "    <path class=\"displacy-arrowhead\" d=\"M62,154.0 L58,146.0 66,146.0\" fill=\"currentColor\"/>\n",
       "</g>\n",
       "\n",
       "<g class=\"displacy-arrow\">\n",
       "    <path class=\"displacy-arc\" id=\"arrow-9f9a7a1c85d8458aae5a2f755ac84df1-0-1\" stroke-width=\"2px\" d=\"M62,152.0 62,127.0 197.0,127.0 197.0,152.0\" fill=\"none\" stroke=\"currentColor\"/>\n",
       "    <text dy=\"1.25em\" style=\"font-size: 0.8em; letter-spacing: 1px\">\n",
       "        <textPath xlink:href=\"#arrow-9f9a7a1c85d8458aae5a2f755ac84df1-0-1\" class=\"displacy-label\" startOffset=\"50%\" side=\"left\" fill=\"currentColor\" text-anchor=\"middle\">pobj</textPath>\n",
       "    </text>\n",
       "    <path class=\"displacy-arrowhead\" d=\"M197.0,154.0 L201.0,146.0 193.0,146.0\" fill=\"currentColor\"/>\n",
       "</g>\n",
       "\n",
       "<g class=\"displacy-arrow\">\n",
       "    <path class=\"displacy-arc\" id=\"arrow-9f9a7a1c85d8458aae5a2f755ac84df1-0-2\" stroke-width=\"2px\" d=\"M362,152.0 362,127.0 497.0,127.0 497.0,152.0\" fill=\"none\" stroke=\"currentColor\"/>\n",
       "    <text dy=\"1.25em\" style=\"font-size: 0.8em; letter-spacing: 1px\">\n",
       "        <textPath xlink:href=\"#arrow-9f9a7a1c85d8458aae5a2f755ac84df1-0-2\" class=\"displacy-label\" startOffset=\"50%\" side=\"left\" fill=\"currentColor\" text-anchor=\"middle\">nsubj</textPath>\n",
       "    </text>\n",
       "    <path class=\"displacy-arrowhead\" d=\"M362,154.0 L358,146.0 366,146.0\" fill=\"currentColor\"/>\n",
       "</g>\n",
       "\n",
       "<g class=\"displacy-arrow\">\n",
       "    <path class=\"displacy-arc\" id=\"arrow-9f9a7a1c85d8458aae5a2f755ac84df1-0-3\" stroke-width=\"2px\" d=\"M512,152.0 512,127.0 647.0,127.0 647.0,152.0\" fill=\"none\" stroke=\"currentColor\"/>\n",
       "    <text dy=\"1.25em\" style=\"font-size: 0.8em; letter-spacing: 1px\">\n",
       "        <textPath xlink:href=\"#arrow-9f9a7a1c85d8458aae5a2f755ac84df1-0-3\" class=\"displacy-label\" startOffset=\"50%\" side=\"left\" fill=\"currentColor\" text-anchor=\"middle\">prep</textPath>\n",
       "    </text>\n",
       "    <path class=\"displacy-arrowhead\" d=\"M647.0,154.0 L651.0,146.0 643.0,146.0\" fill=\"currentColor\"/>\n",
       "</g>\n",
       "\n",
       "<g class=\"displacy-arrow\">\n",
       "    <path class=\"displacy-arc\" id=\"arrow-9f9a7a1c85d8458aae5a2f755ac84df1-0-4\" stroke-width=\"2px\" d=\"M812,152.0 812,127.0 947.0,127.0 947.0,152.0\" fill=\"none\" stroke=\"currentColor\"/>\n",
       "    <text dy=\"1.25em\" style=\"font-size: 0.8em; letter-spacing: 1px\">\n",
       "        <textPath xlink:href=\"#arrow-9f9a7a1c85d8458aae5a2f755ac84df1-0-4\" class=\"displacy-label\" startOffset=\"50%\" side=\"left\" fill=\"currentColor\" text-anchor=\"middle\">poss</textPath>\n",
       "    </text>\n",
       "    <path class=\"displacy-arrowhead\" d=\"M812,154.0 L808,146.0 816,146.0\" fill=\"currentColor\"/>\n",
       "</g>\n",
       "\n",
       "<g class=\"displacy-arrow\">\n",
       "    <path class=\"displacy-arc\" id=\"arrow-9f9a7a1c85d8458aae5a2f755ac84df1-0-5\" stroke-width=\"2px\" d=\"M662,152.0 662,102.0 950.0,102.0 950.0,152.0\" fill=\"none\" stroke=\"currentColor\"/>\n",
       "    <text dy=\"1.25em\" style=\"font-size: 0.8em; letter-spacing: 1px\">\n",
       "        <textPath xlink:href=\"#arrow-9f9a7a1c85d8458aae5a2f755ac84df1-0-5\" class=\"displacy-label\" startOffset=\"50%\" side=\"left\" fill=\"currentColor\" text-anchor=\"middle\">pobj</textPath>\n",
       "    </text>\n",
       "    <path class=\"displacy-arrowhead\" d=\"M950.0,154.0 L954.0,146.0 946.0,146.0\" fill=\"currentColor\"/>\n",
       "</g>\n",
       "\n",
       "<g class=\"displacy-arrow\">\n",
       "    <path class=\"displacy-arc\" id=\"arrow-9f9a7a1c85d8458aae5a2f755ac84df1-0-6\" stroke-width=\"2px\" d=\"M962,152.0 962,127.0 1097.0,127.0 1097.0,152.0\" fill=\"none\" stroke=\"currentColor\"/>\n",
       "    <text dy=\"1.25em\" style=\"font-size: 0.8em; letter-spacing: 1px\">\n",
       "        <textPath xlink:href=\"#arrow-9f9a7a1c85d8458aae5a2f755ac84df1-0-6\" class=\"displacy-label\" startOffset=\"50%\" side=\"left\" fill=\"currentColor\" text-anchor=\"middle\">prep</textPath>\n",
       "    </text>\n",
       "    <path class=\"displacy-arrowhead\" d=\"M1097.0,154.0 L1101.0,146.0 1093.0,146.0\" fill=\"currentColor\"/>\n",
       "</g>\n",
       "\n",
       "<g class=\"displacy-arrow\">\n",
       "    <path class=\"displacy-arc\" id=\"arrow-9f9a7a1c85d8458aae5a2f755ac84df1-0-7\" stroke-width=\"2px\" d=\"M1262,152.0 1262,127.0 1397.0,127.0 1397.0,152.0\" fill=\"none\" stroke=\"currentColor\"/>\n",
       "    <text dy=\"1.25em\" style=\"font-size: 0.8em; letter-spacing: 1px\">\n",
       "        <textPath xlink:href=\"#arrow-9f9a7a1c85d8458aae5a2f755ac84df1-0-7\" class=\"displacy-label\" startOffset=\"50%\" side=\"left\" fill=\"currentColor\" text-anchor=\"middle\">det</textPath>\n",
       "    </text>\n",
       "    <path class=\"displacy-arrowhead\" d=\"M1262,154.0 L1258,146.0 1266,146.0\" fill=\"currentColor\"/>\n",
       "</g>\n",
       "\n",
       "<g class=\"displacy-arrow\">\n",
       "    <path class=\"displacy-arc\" id=\"arrow-9f9a7a1c85d8458aae5a2f755ac84df1-0-8\" stroke-width=\"2px\" d=\"M1112,152.0 1112,102.0 1400.0,102.0 1400.0,152.0\" fill=\"none\" stroke=\"currentColor\"/>\n",
       "    <text dy=\"1.25em\" style=\"font-size: 0.8em; letter-spacing: 1px\">\n",
       "        <textPath xlink:href=\"#arrow-9f9a7a1c85d8458aae5a2f755ac84df1-0-8\" class=\"displacy-label\" startOffset=\"50%\" side=\"left\" fill=\"currentColor\" text-anchor=\"middle\">pobj</textPath>\n",
       "    </text>\n",
       "    <path class=\"displacy-arrowhead\" d=\"M1400.0,154.0 L1404.0,146.0 1396.0,146.0\" fill=\"currentColor\"/>\n",
       "</g>\n",
       "</svg>\n",
       "</figure>\n",
       "</body>\n",
       "</html></span>"
      ],
      "text/plain": [
       "<IPython.core.display.HTML object>"
      ]
     },
     "metadata": {},
     "output_type": "display_data"
    }
   ],
   "source": [
    "from spacy.displacy import render\n",
    "\n",
    "sentence = \"In 1541 Desoto wrote in his journal about the Pascagoula.\"\n",
    "\n",
    "parsed_sent = en_model(sentence)\n",
    "\n",
    "with open(\"pascagoula.html\", \"w\", encoding=\"utf-8\") as f:\n",
    "    f.write(str(render(docs=parsed_sent, page=True, jupyter=False, options=dict(compact=True))))\n",
    "\n",
    "render(docs=parsed_sent, page=True, options=dict(compact=True))"
   ]
  },
  {
   "cell_type": "code",
   "execution_count": 85,
   "id": "7dd7ee9f",
   "metadata": {},
   "outputs": [
    {
     "data": {
      "text/html": [
       "<div>\n",
       "<style scoped>\n",
       "    .dataframe tbody tr th:only-of-type {\n",
       "        vertical-align: middle;\n",
       "    }\n",
       "\n",
       "    .dataframe tbody tr th {\n",
       "        vertical-align: top;\n",
       "    }\n",
       "\n",
       "    .dataframe thead th {\n",
       "        text-align: right;\n",
       "    }\n",
       "</style>\n",
       "<table border=\"1\" class=\"dataframe\">\n",
       "  <thead>\n",
       "    <tr style=\"text-align: right;\">\n",
       "      <th></th>\n",
       "      <th>ORTH</th>\n",
       "      <th>POS</th>\n",
       "      <th>TAG</th>\n",
       "      <th>DEP</th>\n",
       "      <th>LEMMA</th>\n",
       "    </tr>\n",
       "  </thead>\n",
       "  <tbody>\n",
       "    <tr>\n",
       "      <th>0</th>\n",
       "      <td>In</td>\n",
       "      <td>ADP</td>\n",
       "      <td>IN</td>\n",
       "      <td>prep</td>\n",
       "      <td>in</td>\n",
       "    </tr>\n",
       "    <tr>\n",
       "      <th>1</th>\n",
       "      <td>1541</td>\n",
       "      <td>NUM</td>\n",
       "      <td>CD</td>\n",
       "      <td>pobj</td>\n",
       "      <td>1541</td>\n",
       "    </tr>\n",
       "    <tr>\n",
       "      <th>2</th>\n",
       "      <td>Desoto</td>\n",
       "      <td>NOUN</td>\n",
       "      <td>NN</td>\n",
       "      <td>nsubj</td>\n",
       "      <td>desoto</td>\n",
       "    </tr>\n",
       "    <tr>\n",
       "      <th>3</th>\n",
       "      <td>wrote</td>\n",
       "      <td>VERB</td>\n",
       "      <td>VBD</td>\n",
       "      <td>ROOT</td>\n",
       "      <td>write</td>\n",
       "    </tr>\n",
       "    <tr>\n",
       "      <th>4</th>\n",
       "      <td>in</td>\n",
       "      <td>ADP</td>\n",
       "      <td>IN</td>\n",
       "      <td>prep</td>\n",
       "      <td>in</td>\n",
       "    </tr>\n",
       "    <tr>\n",
       "      <th>5</th>\n",
       "      <td>his</td>\n",
       "      <td>PRON</td>\n",
       "      <td>PRP$</td>\n",
       "      <td>poss</td>\n",
       "      <td>his</td>\n",
       "    </tr>\n",
       "    <tr>\n",
       "      <th>6</th>\n",
       "      <td>journal</td>\n",
       "      <td>NOUN</td>\n",
       "      <td>NN</td>\n",
       "      <td>pobj</td>\n",
       "      <td>journal</td>\n",
       "    </tr>\n",
       "    <tr>\n",
       "      <th>7</th>\n",
       "      <td>about</td>\n",
       "      <td>ADP</td>\n",
       "      <td>IN</td>\n",
       "      <td>prep</td>\n",
       "      <td>about</td>\n",
       "    </tr>\n",
       "    <tr>\n",
       "      <th>8</th>\n",
       "      <td>the</td>\n",
       "      <td>DET</td>\n",
       "      <td>DT</td>\n",
       "      <td>det</td>\n",
       "      <td>the</td>\n",
       "    </tr>\n",
       "    <tr>\n",
       "      <th>9</th>\n",
       "      <td>Pascagoula</td>\n",
       "      <td>PROPN</td>\n",
       "      <td>NNP</td>\n",
       "      <td>pobj</td>\n",
       "      <td>Pascagoula</td>\n",
       "    </tr>\n",
       "    <tr>\n",
       "      <th>10</th>\n",
       "      <td>.</td>\n",
       "      <td>PUNCT</td>\n",
       "      <td>.</td>\n",
       "      <td>punct</td>\n",
       "      <td>.</td>\n",
       "    </tr>\n",
       "  </tbody>\n",
       "</table>\n",
       "</div>"
      ],
      "text/plain": [
       "          ORTH    POS   TAG    DEP       LEMMA\n",
       "0           In    ADP    IN   prep          in\n",
       "1         1541    NUM    CD   pobj        1541\n",
       "2       Desoto   NOUN    NN  nsubj      desoto\n",
       "3        wrote   VERB   VBD   ROOT       write\n",
       "4           in    ADP    IN   prep          in\n",
       "5          his   PRON  PRP$   poss         his\n",
       "6      journal   NOUN    NN   pobj     journal\n",
       "7        about    ADP    IN   prep       about\n",
       "8          the    DET    DT    det         the\n",
       "9   Pascagoula  PROPN   NNP   pobj  Pascagoula\n",
       "10           .  PUNCT     .  punct           ."
      ]
     },
     "execution_count": 85,
     "metadata": {},
     "output_type": "execute_result"
    }
   ],
   "source": [
    "import pandas as pd\n",
    "from collections import OrderedDict\n",
    "\n",
    "def token_dict(token):\n",
    "    return dict(\n",
    "        ORTH=token.orth_,\n",
    "        POS=token.pos_,\n",
    "        TAG=token.tag_,\n",
    "        DEP=token.dep_,\n",
    "        LEMMA=token.lemma_)\n",
    "\n",
    "\n",
    "def doc_dataframe(doc):\n",
    "    return pd.DataFrame([token_dict(tok) for tok in parsed_sent])\n",
    "\n",
    "\n",
    "doc_dataframe(en_model(\"In 1541 Desoto met the Pascagoula.\"))"
   ]
  },
  {
   "cell_type": "code",
   "execution_count": 105,
   "id": "ac9fc180",
   "metadata": {},
   "outputs": [
    {
     "data": {
      "text/plain": [
       "[[{'TAG': 'NNP', 'OP': '+'}],\n",
       " [{'IS_ALPHA': True, 'OP': '*'}],\n",
       " [{'LEMMA': 'meet'}],\n",
       " [{'IS_ALPHA': True, 'OP': '*'}],\n",
       " [{'TAG': 'NNP', 'OP': '+'}]]"
      ]
     },
     "execution_count": 105,
     "metadata": {},
     "output_type": "execute_result"
    }
   ],
   "source": [
    "# pattern = [{'TAG': 'NNP'}, {'LEMMA': 'meet'}, {'IS_ALPHA': True, 'OP': '*'}, {'TAG': 'NNP'}]\n",
    "\n",
    "pattern = [[{'TAG': 'NNP', 'OP': '+'}],\n",
    "    [{'IS_ALPHA': True, 'OP': '*'}],\n",
    "    [{'LEMMA': 'meet'}],\n",
    "    [{'IS_ALPHA': True, 'OP': '*'}],\n",
    "    [{'TAG': 'NNP', 'OP': '+'}]]\n",
    "\n",
    "pattern"
   ]
  },
  {
   "cell_type": "code",
   "execution_count": 106,
   "id": "5ff125da",
   "metadata": {},
   "outputs": [
    {
     "data": {
      "text/plain": [
       "[(14798207169164081740, 0, 1),\n",
       " (14798207169164081740, 2, 3),\n",
       " (14798207169164081740, 3, 4),\n",
       " (14798207169164081740, 2, 4),\n",
       " (14798207169164081740, 2, 5),\n",
       " (14798207169164081740, 3, 5),\n",
       " (14798207169164081740, 4, 5),\n",
       " (14798207169164081740, 2, 6),\n",
       " (14798207169164081740, 3, 6),\n",
       " (14798207169164081740, 4, 6),\n",
       " (14798207169164081740, 5, 6)]"
      ]
     },
     "execution_count": 106,
     "metadata": {},
     "output_type": "execute_result"
    }
   ],
   "source": [
    "from spacy.matcher import Matcher\n",
    "\n",
    "doc = en_model(\"In 1541 Desoto met the Pascagoula.\")\n",
    "\n",
    "matcher = Matcher(en_model.vocab)\n",
    "matcher.add('meeting', patterns=pattern)\n",
    "\n",
    "m = matcher(doc)\n",
    "m"
   ]
  },
  {
   "cell_type": "code",
   "execution_count": 107,
   "id": "5af83867",
   "metadata": {},
   "outputs": [
    {
     "data": {
      "text/plain": [
       "In"
      ]
     },
     "execution_count": 107,
     "metadata": {},
     "output_type": "execute_result"
    }
   ],
   "source": [
    "doc[m[0][1]:m[0][2]]"
   ]
  },
  {
   "cell_type": "code",
   "execution_count": 108,
   "id": "96aa8995",
   "metadata": {},
   "outputs": [
    {
     "data": {
      "text/plain": [
       "(14798207169164081740, 0, 1)"
      ]
     },
     "execution_count": 108,
     "metadata": {},
     "output_type": "execute_result"
    }
   ],
   "source": [
    "doc = en_model(\"October 24: Lewis and CLark met their first Mandan Chief, Big White.\")\n",
    "m = matcher(doc)[0]\n",
    "m"
   ]
  },
  {
   "cell_type": "code",
   "execution_count": 109,
   "id": "43f6b9ff",
   "metadata": {},
   "outputs": [
    {
     "data": {
      "text/plain": [
       "October"
      ]
     },
     "execution_count": 109,
     "metadata": {},
     "output_type": "execute_result"
    }
   ],
   "source": [
    "doc[m[1]:m[2]]"
   ]
  },
  {
   "cell_type": "code",
   "execution_count": 110,
   "id": "a03ae714",
   "metadata": {},
   "outputs": [
    {
     "data": {
      "text/plain": [
       "[(14798207169164081740, 0, 1),\n",
       " (14798207169164081740, 2, 3),\n",
       " (14798207169164081740, 5, 6),\n",
       " (14798207169164081740, 5, 7),\n",
       " (14798207169164081740, 6, 7),\n",
       " (14798207169164081740, 5, 8),\n",
       " (14798207169164081740, 6, 8),\n",
       " (14798207169164081740, 7, 8),\n",
       " (14798207169164081740, 8, 9),\n",
       " (14798207169164081740, 5, 9),\n",
       " (14798207169164081740, 6, 9),\n",
       " (14798207169164081740, 7, 9),\n",
       " (14798207169164081740, 5, 10),\n",
       " (14798207169164081740, 6, 10),\n",
       " (14798207169164081740, 7, 10),\n",
       " (14798207169164081740, 8, 10),\n",
       " (14798207169164081740, 9, 10),\n",
       " (14798207169164081740, 5, 11),\n",
       " (14798207169164081740, 6, 11),\n",
       " (14798207169164081740, 7, 11),\n",
       " (14798207169164081740, 8, 11),\n",
       " (14798207169164081740, 9, 11),\n",
       " (14798207169164081740, 10, 11),\n",
       " (14798207169164081740, 5, 12),\n",
       " (14798207169164081740, 6, 12),\n",
       " (14798207169164081740, 7, 12),\n",
       " (14798207169164081740, 8, 12),\n",
       " (14798207169164081740, 9, 12),\n",
       " (14798207169164081740, 10, 12),\n",
       " (14798207169164081740, 11, 12)]"
      ]
     },
     "execution_count": 110,
     "metadata": {},
     "output_type": "execute_result"
    }
   ],
   "source": [
    "doc = en_model(\"On 11 October 1986, Gorbachev and Reagan met at a house\")\n",
    "matcher(doc)"
   ]
  },
  {
   "cell_type": "code",
   "execution_count": 112,
   "id": "b157ce55",
   "metadata": {},
   "outputs": [
    {
     "data": {
      "text/plain": [
       "[(14798207169164081740, 0, 1),\n",
       " (14332210279624491740, 0, 1),\n",
       " (14798207169164081740, 2, 3),\n",
       " (14332210279624491740, 2, 3),\n",
       " (14798207169164081740, 5, 6),\n",
       " (14332210279624491740, 5, 6),\n",
       " (14332210279624491740, 6, 7),\n",
       " (14798207169164081740, 5, 7),\n",
       " (14332210279624491740, 5, 7),\n",
       " (14798207169164081740, 6, 7),\n",
       " (14798207169164081740, 5, 8),\n",
       " (14332210279624491740, 5, 8),\n",
       " (14798207169164081740, 6, 8),\n",
       " (14332210279624491740, 6, 8),\n",
       " (14798207169164081740, 7, 8),\n",
       " (14332210279624491740, 7, 8),\n",
       " (14798207169164081740, 8, 9),\n",
       " (14332210279624491740, 8, 9),\n",
       " (14798207169164081740, 5, 9),\n",
       " (14332210279624491740, 5, 9),\n",
       " (14798207169164081740, 6, 9),\n",
       " (14332210279624491740, 6, 9),\n",
       " (14798207169164081740, 7, 9),\n",
       " (14332210279624491740, 7, 9),\n",
       " (14798207169164081740, 5, 10),\n",
       " (14332210279624491740, 5, 10),\n",
       " (14798207169164081740, 6, 10),\n",
       " (14332210279624491740, 6, 10),\n",
       " (14798207169164081740, 7, 10),\n",
       " (14332210279624491740, 7, 10),\n",
       " (14798207169164081740, 8, 10),\n",
       " (14332210279624491740, 8, 10),\n",
       " (14798207169164081740, 9, 10),\n",
       " (14332210279624491740, 9, 10),\n",
       " (14798207169164081740, 5, 11),\n",
       " (14332210279624491740, 5, 11),\n",
       " (14798207169164081740, 6, 11),\n",
       " (14332210279624491740, 6, 11),\n",
       " (14798207169164081740, 7, 11),\n",
       " (14332210279624491740, 7, 11),\n",
       " (14798207169164081740, 8, 11),\n",
       " (14332210279624491740, 8, 11),\n",
       " (14798207169164081740, 9, 11),\n",
       " (14332210279624491740, 9, 11),\n",
       " (14798207169164081740, 10, 11),\n",
       " (14332210279624491740, 10, 11),\n",
       " (14798207169164081740, 5, 12),\n",
       " (14332210279624491740, 5, 12),\n",
       " (14798207169164081740, 6, 12),\n",
       " (14332210279624491740, 6, 12),\n",
       " (14798207169164081740, 7, 12),\n",
       " (14332210279624491740, 7, 12),\n",
       " (14798207169164081740, 8, 12),\n",
       " (14332210279624491740, 8, 12),\n",
       " (14798207169164081740, 9, 12),\n",
       " (14332210279624491740, 9, 12),\n",
       " (14798207169164081740, 10, 12),\n",
       " (14332210279624491740, 10, 12),\n",
       " (14798207169164081740, 11, 12),\n",
       " (14332210279624491740, 11, 12)]"
      ]
     },
     "execution_count": 112,
     "metadata": {},
     "output_type": "execute_result"
    }
   ],
   "source": [
    "doc = en_model(\"On 11 October 1986, Gorbachev and Reagan met at a house\")\n",
    "\n",
    "pattern = [[{'TAG': 'NNP', 'OP': '+'}],\n",
    "    [{'LEMMA': 'and'}],\n",
    "    [{'TAG': 'NNP', 'OP': '+'}],\n",
    "    [{'IS_ALPHA': True, 'OP': '*'}],\n",
    "    [{'LEMMA': 'meet'}]]\n",
    "\n",
    "matcher.add('met', patterns=pattern)\n",
    "\n",
    "m = matcher(doc)\n",
    "m"
   ]
  },
  {
   "cell_type": "code",
   "execution_count": 113,
   "id": "c6076a5e",
   "metadata": {},
   "outputs": [
    {
     "data": {
      "text/plain": [
       "house"
      ]
     },
     "execution_count": 113,
     "metadata": {},
     "output_type": "execute_result"
    }
   ],
   "source": [
    "doc[m[-1][1]:m[-1][2]]"
   ]
  },
  {
   "cell_type": "markdown",
   "id": "ea6241d8",
   "metadata": {},
   "source": [
    "### 11.4.7 Sentence segmentation with regular expressions"
   ]
  },
  {
   "cell_type": "code",
   "execution_count": 114,
   "id": "c00bcdbf",
   "metadata": {},
   "outputs": [
    {
     "data": {
      "text/plain": [
       "['Hello World', 'Are you there', \"I'm going to Mars!\"]"
      ]
     },
     "execution_count": 114,
     "metadata": {},
     "output_type": "execute_result"
    }
   ],
   "source": [
    "re.split(r\"[!.?]+[ $]\", \"Hello World.... Are you there?!?! I'm going to Mars!\")"
   ]
  },
  {
   "cell_type": "code",
   "execution_count": 115,
   "id": "7a1af876",
   "metadata": {},
   "outputs": [
    {
     "data": {
      "text/plain": [
       "['The author wrote \"\\'I don\\'t think it\\'s conscious.\\' Turing said.\"']"
      ]
     },
     "execution_count": 115,
     "metadata": {},
     "output_type": "execute_result"
    }
   ],
   "source": [
    "re.split(r\"[!.?]+ \", \"The author wrote \\\"'I don't think it's conscious.' Turing said.\\\"\")"
   ]
  },
  {
   "cell_type": "code",
   "execution_count": 116,
   "id": "87c01ff9",
   "metadata": {},
   "outputs": [
    {
     "data": {
      "text/plain": [
       "['The author wrote \"\\'I don\\'t think it\\'s conscious.\\' Turing said.\" But I stopped reading.']"
      ]
     },
     "execution_count": 116,
     "metadata": {},
     "output_type": "execute_result"
    }
   ],
   "source": [
    "re.split(r\"[!.?]+ \", \"The author wrote \\\"'I don't think it's conscious.' Turing said.\\\" But I stopped reading.\")"
   ]
  },
  {
   "cell_type": "code",
   "execution_count": 118,
   "id": "8b3ca4fe",
   "metadata": {},
   "outputs": [
    {
     "data": {
      "text/plain": [
       "['I went to GT', 'You?']"
      ]
     },
     "execution_count": 118,
     "metadata": {},
     "output_type": "execute_result"
    }
   ],
   "source": [
    "re.split(r\"(?<!\\d)\\.|\\.(?!\\d)\", \"I went to GT.You?\")"
   ]
  },
  {
   "cell_type": "code",
   "execution_count": 128,
   "id": "d920770e-4af9-4fef-9301-747fa1c065a6",
   "metadata": {},
   "outputs": [
    {
     "data": {
      "text/html": [
       "<div>\n",
       "<style scoped>\n",
       "    .dataframe tbody tr th:only-of-type {\n",
       "        vertical-align: middle;\n",
       "    }\n",
       "\n",
       "    .dataframe tbody tr th {\n",
       "        vertical-align: top;\n",
       "    }\n",
       "\n",
       "    .dataframe thead th {\n",
       "        text-align: right;\n",
       "    }\n",
       "</style>\n",
       "<table border=\"1\" class=\"dataframe\">\n",
       "  <thead>\n",
       "    <tr style=\"text-align: right;\">\n",
       "      <th></th>\n",
       "      <th>0</th>\n",
       "      <th>1</th>\n",
       "      <th>2</th>\n",
       "    </tr>\n",
       "  </thead>\n",
       "  <tbody>\n",
       "    <tr>\n",
       "      <th>0</th>\n",
       "      <td>NLPIA Ch 11: Multiple period-delimitted abbrev...</td>\n",
       "      <td>I live in the U.S. but I commute to work in Me...</td>\n",
       "      <td>[I live in the U.S. but I commute to work in M...</td>\n",
       "    </tr>\n",
       "    <tr>\n",
       "      <th>1</th>\n",
       "      <td>NLPIA Ch 11: G.T. as sentence boundary</td>\n",
       "      <td>I went to G.T. You?</td>\n",
       "      <td>[I'm went to G.T., You?]</td>\n",
       "    </tr>\n",
       "    <tr>\n",
       "      <th>2</th>\n",
       "      <td>NLPIA Ch 11: Abbreviation period without a spa...</td>\n",
       "      <td>I went to G.T.You?</td>\n",
       "      <td>[I'm went to G.T., You?]</td>\n",
       "    </tr>\n",
       "    <tr>\n",
       "      <th>3</th>\n",
       "      <td>NLPIA Ch 11: Quote within a sentence followed ...</td>\n",
       "      <td>She yelled \"It's right here!\" but I kept looki...</td>\n",
       "      <td>[She yelled \"It's right here!\" but I kept look...</td>\n",
       "    </tr>\n",
       "    <tr>\n",
       "      <th>4</th>\n",
       "      <td>NLPIA Ch 11: Multiple quotes</td>\n",
       "      <td>I stared dumbfounded as things like \"How did I...</td>\n",
       "      <td>[I stared dumbfounded as things like \"How did ...</td>\n",
       "    </tr>\n",
       "  </tbody>\n",
       "</table>\n",
       "</div>"
      ],
      "text/plain": [
       "                                                   0  \\\n",
       "0  NLPIA Ch 11: Multiple period-delimitted abbrev...   \n",
       "1             NLPIA Ch 11: G.T. as sentence boundary   \n",
       "2  NLPIA Ch 11: Abbreviation period without a spa...   \n",
       "3  NLPIA Ch 11: Quote within a sentence followed ...   \n",
       "4                       NLPIA Ch 11: Multiple quotes   \n",
       "\n",
       "                                                   1  \\\n",
       "0  I live in the U.S. but I commute to work in Me...   \n",
       "1                                I went to G.T. You?   \n",
       "2                                 I went to G.T.You?   \n",
       "3  She yelled \"It's right here!\" but I kept looki...   \n",
       "4  I stared dumbfounded as things like \"How did I...   \n",
       "\n",
       "                                                   2  \n",
       "0  [I live in the U.S. but I commute to work in M...  \n",
       "1                           [I'm went to G.T., You?]  \n",
       "2                           [I'm went to G.T., You?]  \n",
       "3  [She yelled \"It's right here!\" but I kept look...  \n",
       "4  [I stared dumbfounded as things like \"How did ...  "
      ]
     },
     "execution_count": 128,
     "metadata": {},
     "output_type": "execute_result"
    }
   ],
   "source": [
    "# from nlpia.data.loaders import get_data\n",
    "# examples = get_data(\"sentences-tm-town\")\n",
    "import pandas as pd\n",
    "examples = pd.read_json(\"../../data/sentences-tm-town.json\")\n",
    "\n",
    "examples.head()"
   ]
  },
  {
   "cell_type": "code",
   "execution_count": 149,
   "id": "a9dc2b44-db85-4aa1-a0e6-ffce6ce881ee",
   "metadata": {},
   "outputs": [
    {
     "name": "stdout",
     "output_type": "stream",
     "text": [
      "wrong 0: I live in the U.S. but I commute to work in Mexico...\n",
      "wrong 1: I went to G.T. You?\n",
      "wrong 2: I went to G.T.You?\n",
      "wrong 3: She yelled \"It's right here!\" but I kept looking f...\n",
      "wrong 4: I stared dumbfounded as things like \"How did I get...\n",
      "wrong 5: She continued with her story, \"'I don't think it's...\n",
      "wrong 6: Hello French Fry. My name is Katsup.\n",
      "wrong 7: What is your name? My name is Heinz 57.\n",
      "wrong 8: There it is! I found it.\n",
      "wrong 9: My name is Chuck E. Cheese.\n",
      "wrong 10: Please turn to p. 42.\n",
      "wrong 11: Please turn to ch. five.\n",
      "wrong 12: Please turn to ch 5.\n",
      "wrong 13: Hurry! Turn to ch 5!\n",
      "wrong 14: Ready? Turn to ch 5.\n",
      "wrong 15: Were Jane and co. at the party?\n",
      "wrong 16: They closed the deal with Pitt, Briggs & Co. at no...\n",
      "wrong 17: Let's ask Jane and co. They should know.\n",
      "wrong 18: They closed the deal with Pitt, Briggs & Co. It cl...\n",
      "wrong 19: I can see Mt. Fuji from here.\n",
      "wrong 20: St. Michael's Church is on 5th st. near the light.\n",
      "wrong 21: That is JFK Jr.'s book.\n",
      "wrong 22: I visited the U.S.A. last year.\n",
      "wrong 23: I live in the E.U. How about you?\n",
      "wrong 24: I'm from the U.S. Where do you live?\n",
      "wrong 25: I work for the U.S. Government in Virginia.\n",
      "wrong 26: I have lived in the U.S. for 20 years.\n",
      "wrong 27: At 5 a.m. Mr. Smith went to the bank. He left the ...\n",
      "wrong 28: She has $100.00 in her bag.\n",
      "wrong 29: She has $100.00. It is in her bag.\n",
      "wrong 30: He teaches science (He previously worked for 5 yea...\n",
      "wrong 31: Her email is Jane.Doe@example.com. I sent her an e...\n",
      "wrong 32: The site is: https://www.example.50.com/new-site/a...\n",
      "wrong 33: She turned to him, 'This is great.' she said.\n",
      "wrong 34: She turned to him, \"This is great.\" she said.\n",
      "wrong 35: She turned to him, \"This is great.\" She held the b...\n",
      "wrong 36: Hello!! Long time no see.\n",
      "wrong 37: Hello?? Who is there?\n",
      "wrong 38: Hello!? Is that you?\n",
      "wrong 39: Hello?! Is that you?\n",
      "wrong 40: 1.) The first item 2.) The second item\n",
      "wrong 41: 1.) The first item. 2.) The second item.\n",
      "wrong 42: 1) The first item 2) The second item\n",
      "wrong 43: 1) The first item. 2) The second item.\n",
      "wrong 44: 1. The first item 2. The second item\n",
      "wrong 45: 1. The first item. 2. The second item.\n",
      "wrong 46: â€¢ 9. The first item â€¢ 10. The second item\n",
      "wrong 47: âƒ9. The first item âƒ10. The second item\n",
      "wrong 48: a. The first item b. The second item c. The third ...\n",
      "wrong 49: This is a sentence\n",
      "cut off in the middle because p...\n",
      "wrong 50: It was a cold \n",
      "night in the city.\n",
      "wrong 51: features\n",
      "contact manager\n",
      "events, activities\n",
      "\n",
      "wrong 52: You can find it at NÂ°. 1026.253.553. That is wher...\n",
      "wrong 53: She works at Yahoo! in the accounting department.\n",
      "wrong 54: We make a good team, you and I. Did you see Albert...\n",
      "wrong 55: Thoreau argues that by simplifying oneâ€™s life, â...\n",
      "wrong 56: \"Bohr [...] used the analogy of parallel stairways...\n",
      "wrong 57: If words are left off at the end of a sentence, an...\n",
      "wrong 58: I never meant that.... She left the store.\n",
      "wrong 59: I wasnâ€™t really ... well, what I mean...see . . ...\n",
      "wrong 60: One further habit which was somewhat weakened . . ...\n"
     ]
    },
    {
     "data": {
      "text/plain": [
       "(61, 61)"
      ]
     },
     "execution_count": 149,
     "metadata": {},
     "output_type": "execute_result"
    }
   ],
   "source": [
    "regex = re.compile(r\"((?<!\\d)\\.|\\.(?!\\d))|([!.?]+)[ $]+\")\n",
    "wrong = []\n",
    "\n",
    "# for i, (challenge, text, sents) in enumerate(examples):\n",
    "for i, row in examples.iterrows():\n",
    "    challenge, text, sents = row[0], row[1], row[2]\n",
    "    if tuple(regex.split(text)) != tuple(sents):\n",
    "        print(\"wrong {}: {}{}\".format(i, text[:50], '...' if len(text) > 50 else ''))\n",
    "        wrong += [i]\n",
    "\n",
    "len(wrong), len(examples)"
   ]
  }
 ],
 "metadata": {
  "kernelspec": {
   "display_name": "Python 3 (ipykernel)",
   "language": "python",
   "name": "python3"
  },
  "language_info": {
   "codemirror_mode": {
    "name": "ipython",
    "version": 3
   },
   "file_extension": ".py",
   "mimetype": "text/x-python",
   "name": "python",
   "nbconvert_exporter": "python",
   "pygments_lexer": "ipython3",
   "version": "3.10.6"
  },
  "vscode": {
   "interpreter": {
    "hash": "9f0c74900ca11cd9a4678e4c10a950358c13d37493068129285070960ce9781b"
   }
  }
 },
 "nbformat": 4,
 "nbformat_minor": 5
}
