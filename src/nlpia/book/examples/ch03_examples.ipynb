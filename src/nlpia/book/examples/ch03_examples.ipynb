{
 "cells": [
  {
   "cell_type": "markdown",
   "id": "c6c9783e-d45b-4c73-a540-d212604c8c07",
   "metadata": {},
   "source": [
    "# 3. Math with words (TF-IDF vectors)"
   ]
  },
  {
   "cell_type": "markdown",
   "id": "a7c02baa-c548-4b08-9082-57ad4113a001",
   "metadata": {},
   "source": [
    "## 3.1 Bag of words"
   ]
  },
  {
   "cell_type": "code",
   "execution_count": 1,
   "id": "ef2215cc-c6ea-4db1-963e-003a18a0c40e",
   "metadata": {},
   "outputs": [
    {
     "data": {
      "text/plain": [
       "['the',\n",
       " 'faster',\n",
       " 'harry',\n",
       " 'got',\n",
       " 'to',\n",
       " 'the',\n",
       " 'store',\n",
       " ',',\n",
       " 'the',\n",
       " 'faster',\n",
       " 'harry',\n",
       " ',',\n",
       " 'the',\n",
       " 'faster',\n",
       " ',',\n",
       " 'would',\n",
       " 'get',\n",
       " 'home',\n",
       " '.']"
      ]
     },
     "execution_count": 1,
     "metadata": {},
     "output_type": "execute_result"
    }
   ],
   "source": [
    "from nltk.tokenize import TreebankWordTokenizer\n",
    "\n",
    "sentence = \"The faster Harry got to the store, the faster Harry, the faster, would get home.\"\n",
    "tokenizer = TreebankWordTokenizer()\n",
    "tokens = tokenizer.tokenize(sentence.lower())\n",
    "tokens"
   ]
  },
  {
   "cell_type": "code",
   "execution_count": 2,
   "id": "7a315868-8bc2-4027-b88a-cda141a55118",
   "metadata": {},
   "outputs": [
    {
     "name": "stdout",
     "output_type": "stream",
     "text": [
      "Counter({'the': 4, 'faster': 3, ',': 3, 'harry': 2, 'got': 1, 'to': 1, 'store': 1, 'would': 1, 'get': 1, 'home': 1, '.': 1})\n"
     ]
    }
   ],
   "source": [
    "from collections import Counter\n",
    "\n",
    "bag_of_words = Counter(tokens)\n",
    "print(bag_of_words)"
   ]
  },
  {
   "cell_type": "code",
   "execution_count": 3,
   "id": "b5bc9d5a-7fa6-4385-be04-5753e6fe86c7",
   "metadata": {},
   "outputs": [
    {
     "data": {
      "text/plain": [
       "[('the', 4),\n",
       " ('faster', 3),\n",
       " (',', 3),\n",
       " ('harry', 2),\n",
       " ('got', 1),\n",
       " ('to', 1),\n",
       " ('store', 1),\n",
       " ('would', 1),\n",
       " ('get', 1),\n",
       " ('home', 1),\n",
       " ('.', 1)]"
      ]
     },
     "execution_count": 3,
     "metadata": {},
     "output_type": "execute_result"
    }
   ],
   "source": [
    "bag_of_words.most_common()"
   ]
  },
  {
   "cell_type": "code",
   "execution_count": 4,
   "id": "2ccef9f4-ebec-4637-866b-0d0c22cf7d06",
   "metadata": {},
   "outputs": [
    {
     "data": {
      "text/plain": [
       "0.1818"
      ]
     },
     "execution_count": 4,
     "metadata": {},
     "output_type": "execute_result"
    }
   ],
   "source": [
    "times_harry_appears = bag_of_words['harry']\n",
    "num_unique_words = len(bag_of_words)\n",
    "tf = times_harry_appears / num_unique_words\n",
    "\n",
    "round(tf, 4)"
   ]
  },
  {
   "cell_type": "code",
   "execution_count": 5,
   "id": "ad16aff4-8025-467a-8ac6-bea6ebd2b66f",
   "metadata": {},
   "outputs": [
    {
     "data": {
      "text/plain": [
       "\"A kite is traditionally a tethered heavier-than-air craft with wing surfaces that react against the air to create lift and drag. A kite consists of wings, tethers, and anchors. Kites often have a bridle to guide the face of the kite at the correct angle so the wind can lift it. A kite's wing also may be so designed so a bridle is not needed; when kiting a sailplane for launch, the tether meets the wing at a single point. A kite may have fixed or moving anchors. Untraditionally in technical kiting, a kite consists of tether-set-coupled wing sets; even in technical kiting, though, a wing in the system is still often called the kite. The lift that sustains the kite in flight is generated when air flows around the kite's surface, producing low pressure above and high pressure below the wings. The interaction with the wind also generates horizontal drag along the direction of the wind. The resultant force vector from the lift and drag force components is opposed by the tension of one or more of the lines or tethers to which the kite is attached. The anchor point of the kite line may be static or moving (e.g., the towing of a kite by a running person, boat, free-falling anchors as in paragliders and fugitive parakites or vehicle). The same principles of fluid flow apply in liquids and kites are also used under water. A hybrid tethered craft comprising both a lighter-than-air balloon as well as a kite lifting surface is called a kytoon. Kites have a long and varied history and many different types are flown individually and at festivals worldwide. Kites may be flown for recreation, art or other practical uses. Sport kites can be flown in aerial ballet, sometimes as part of a competition. Power kites are multi-line steerable kites designed to generate large forces which can be used to power activities such as kite surfing, kite landboarding, kite fishing, kite buggying and a new trend snow kiting. Even Man-lifting kites have been made.\""
      ]
     },
     "execution_count": 5,
     "metadata": {},
     "output_type": "execute_result"
    }
   ],
   "source": [
    "kite_text = \"A kite is traditionally a tethered heavier-than-air craft with wing surfaces that react against the air to create lift and drag. A kite consists of wings, tethers, and anchors. Kites often have a bridle to guide the face of the kite at the correct angle so the wind can lift it. A kite's wing also may be so designed so a bridle is not needed; when kiting a sailplane for launch, the tether meets the wing at a single point. A kite may have fixed or moving anchors. Untraditionally in technical kiting, a kite consists of tether-set-coupled wing sets; even in technical kiting, though, a wing in the system is still often called the kite. The lift that sustains the kite in flight is generated when air flows around the kite's surface, producing low pressure above and high pressure below the wings. The interaction with the wind also generates horizontal drag along the direction of the wind. The resultant force vector from the lift and drag force components is opposed by the tension of one or more of the lines or tethers to which the kite is attached. The anchor point of the kite line may be static or moving (e.g., the towing of a kite by a running person, boat, free-falling anchors as in paragliders and fugitive parakites or vehicle). The same principles of fluid flow apply in liquids and kites are also used under water. A hybrid tethered craft comprising both a lighter-than-air balloon as well as a kite lifting surface is called a kytoon. Kites have a long and varied history and many different types are flown individually and at festivals worldwide. Kites may be flown for recreation, art or other practical uses. Sport kites can be flown in aerial ballet, sometimes as part of a competition. Power kites are multi-line steerable kites designed to generate large forces which can be used to power activities such as kite surfing, kite landboarding, kite fishing, kite buggying and a new trend snow kiting. Even Man-lifting kites have been made.\"\n",
    "kite_text"
   ]
  },
  {
   "cell_type": "code",
   "execution_count": 6,
   "id": "18838615-a116-4c19-a9ca-d8ece8b93df4",
   "metadata": {},
   "outputs": [
    {
     "name": "stdout",
     "output_type": "stream",
     "text": [
      "Counter({'the': 26, 'a': 20, 'kite': 16, ',': 15, 'and': 10, 'of': 10, 'kites': 8, 'is': 7, 'in': 7, 'or': 6, 'wing': 5, 'to': 5, 'be': 5, 'as': 5, 'lift': 4, 'have': 4, 'may': 4, 'at': 3, 'so': 3, 'can': 3, 'also': 3, 'kiting': 3, 'are': 3, 'flown': 3, 'tethered': 2, 'craft': 2, 'with': 2, 'that': 2, 'air': 2, 'consists': 2, 'tethers': 2, 'anchors.': 2, 'often': 2, 'bridle': 2, 'wind': 2, \"'s\": 2, 'designed': 2, ';': 2, 'when': 2, 'for': 2, 'moving': 2, 'technical': 2, 'even': 2, 'called': 2, 'surface': 2, 'pressure': 2, 'drag': 2, 'force': 2, 'by': 2, 'which': 2, '.': 2, 'used': 2, 'power': 2, 'traditionally': 1, 'heavier-than-air': 1, 'surfaces': 1, 'react': 1, 'against': 1, 'create': 1, 'drag.': 1, 'wings': 1, 'guide': 1, 'face': 1, 'correct': 1, 'angle': 1, 'it.': 1, 'not': 1, 'needed': 1, 'sailplane': 1, 'launch': 1, 'tether': 1, 'meets': 1, 'single': 1, 'point.': 1, 'fixed': 1, 'untraditionally': 1, 'tether-set-coupled': 1, 'sets': 1, 'though': 1, 'system': 1, 'still': 1, 'kite.': 1, 'sustains': 1, 'flight': 1, 'generated': 1, 'flows': 1, 'around': 1, 'producing': 1, 'low': 1, 'above': 1, 'high': 1, 'below': 1, 'wings.': 1, 'interaction': 1, 'generates': 1, 'horizontal': 1, 'along': 1, 'direction': 1, 'wind.': 1, 'resultant': 1, 'vector': 1, 'from': 1, 'components': 1, 'opposed': 1, 'tension': 1, 'one': 1, 'more': 1, 'lines': 1, 'attached.': 1, 'anchor': 1, 'point': 1, 'line': 1, 'static': 1, '(': 1, 'e.g.': 1, 'towing': 1, 'running': 1, 'person': 1, 'boat': 1, 'free-falling': 1, 'anchors': 1, 'paragliders': 1, 'fugitive': 1, 'parakites': 1, 'vehicle': 1, ')': 1, 'same': 1, 'principles': 1, 'fluid': 1, 'flow': 1, 'apply': 1, 'liquids': 1, 'under': 1, 'water.': 1, 'hybrid': 1, 'comprising': 1, 'both': 1, 'lighter-than-air': 1, 'balloon': 1, 'well': 1, 'lifting': 1, 'kytoon.': 1, 'long': 1, 'varied': 1, 'history': 1, 'many': 1, 'different': 1, 'types': 1, 'individually': 1, 'festivals': 1, 'worldwide.': 1, 'recreation': 1, 'art': 1, 'other': 1, 'practical': 1, 'uses.': 1, 'sport': 1, 'aerial': 1, 'ballet': 1, 'sometimes': 1, 'part': 1, 'competition.': 1, 'multi-line': 1, 'steerable': 1, 'generate': 1, 'large': 1, 'forces': 1, 'activities': 1, 'such': 1, 'surfing': 1, 'landboarding': 1, 'fishing': 1, 'buggying': 1, 'new': 1, 'trend': 1, 'snow': 1, 'kiting.': 1, 'man-lifting': 1, 'been': 1, 'made': 1})\n"
     ]
    }
   ],
   "source": [
    "from collections import Counter\n",
    "from nltk.tokenize import TreebankWordTokenizer\n",
    "\n",
    "tokenizer = TreebankWordTokenizer()\n",
    "\n",
    "# kite_text = \"A kite is traditionally ...\"  # Step left to user, so we aren't repeating ourselves\n",
    "tokens = tokenizer.tokenize(kite_text.lower())\n",
    "token_counts = Counter(tokens)\n",
    "\n",
    "print(token_counts)"
   ]
  },
  {
   "cell_type": "code",
   "execution_count": 7,
   "id": "1b338f43-a89e-485b-9658-88610ec45470",
   "metadata": {},
   "outputs": [
    {
     "name": "stderr",
     "output_type": "stream",
     "text": [
      "[nltk_data] Downloading package stopwords to /home/jovyan/nltk_data...\n",
      "[nltk_data]   Unzipping corpora/stopwords.zip.\n"
     ]
    },
    {
     "data": {
      "text/plain": [
       "True"
      ]
     },
     "execution_count": 7,
     "metadata": {},
     "output_type": "execute_result"
    }
   ],
   "source": [
    "import nltk\n",
    "\n",
    "nltk.download('stopwords')"
   ]
  },
  {
   "cell_type": "code",
   "execution_count": 8,
   "id": "cfd8344d-e191-4886-8ff1-a12593b11810",
   "metadata": {},
   "outputs": [
    {
     "name": "stdout",
     "output_type": "stream",
     "text": [
      "Counter({'kite': 16, ',': 15, 'kites': 8, 'wing': 5, 'lift': 4, 'may': 4, 'also': 3, 'kiting': 3, 'flown': 3, 'tethered': 2, 'craft': 2, 'air': 2, 'consists': 2, 'tethers': 2, 'anchors.': 2, 'often': 2, 'bridle': 2, 'wind': 2, \"'s\": 2, 'designed': 2, ';': 2, 'moving': 2, 'technical': 2, 'even': 2, 'called': 2, 'surface': 2, 'pressure': 2, 'drag': 2, 'force': 2, '.': 2, 'used': 2, 'power': 2, 'traditionally': 1, 'heavier-than-air': 1, 'surfaces': 1, 'react': 1, 'create': 1, 'drag.': 1, 'wings': 1, 'guide': 1, 'face': 1, 'correct': 1, 'angle': 1, 'it.': 1, 'needed': 1, 'sailplane': 1, 'launch': 1, 'tether': 1, 'meets': 1, 'single': 1, 'point.': 1, 'fixed': 1, 'untraditionally': 1, 'tether-set-coupled': 1, 'sets': 1, 'though': 1, 'system': 1, 'still': 1, 'kite.': 1, 'sustains': 1, 'flight': 1, 'generated': 1, 'flows': 1, 'around': 1, 'producing': 1, 'low': 1, 'high': 1, 'wings.': 1, 'interaction': 1, 'generates': 1, 'horizontal': 1, 'along': 1, 'direction': 1, 'wind.': 1, 'resultant': 1, 'vector': 1, 'components': 1, 'opposed': 1, 'tension': 1, 'one': 1, 'lines': 1, 'attached.': 1, 'anchor': 1, 'point': 1, 'line': 1, 'static': 1, '(': 1, 'e.g.': 1, 'towing': 1, 'running': 1, 'person': 1, 'boat': 1, 'free-falling': 1, 'anchors': 1, 'paragliders': 1, 'fugitive': 1, 'parakites': 1, 'vehicle': 1, ')': 1, 'principles': 1, 'fluid': 1, 'flow': 1, 'apply': 1, 'liquids': 1, 'water.': 1, 'hybrid': 1, 'comprising': 1, 'lighter-than-air': 1, 'balloon': 1, 'well': 1, 'lifting': 1, 'kytoon.': 1, 'long': 1, 'varied': 1, 'history': 1, 'many': 1, 'different': 1, 'types': 1, 'individually': 1, 'festivals': 1, 'worldwide.': 1, 'recreation': 1, 'art': 1, 'practical': 1, 'uses.': 1, 'sport': 1, 'aerial': 1, 'ballet': 1, 'sometimes': 1, 'part': 1, 'competition.': 1, 'multi-line': 1, 'steerable': 1, 'generate': 1, 'large': 1, 'forces': 1, 'activities': 1, 'surfing': 1, 'landboarding': 1, 'fishing': 1, 'buggying': 1, 'new': 1, 'trend': 1, 'snow': 1, 'kiting.': 1, 'man-lifting': 1, 'made': 1})\n"
     ]
    }
   ],
   "source": [
    "stopwords = nltk.corpus.stopwords.words('english')\n",
    "\n",
    "tokens = [x for x in tokens if x not in stopwords]\n",
    "kite_counts = Counter(tokens)\n",
    "print(kite_counts)"
   ]
  },
  {
   "cell_type": "markdown",
   "id": "345f9c2b-fea0-4945-8e8b-274d33e931b2",
   "metadata": {},
   "source": [
    "## 3.2 Vectorizing"
   ]
  },
  {
   "cell_type": "code",
   "execution_count": 10,
   "id": "9e1e9715-43f7-40ad-8fca-a5d9edbb57e7",
   "metadata": {},
   "outputs": [
    {
     "name": "stdout",
     "output_type": "stream",
     "text": [
      "[0.07207207207207207, 0.06756756756756757, 0.036036036036036036, 0.02252252252252252, 0.018018018018018018, 0.018018018018018018, 0.013513513513513514, 0.013513513513513514, 0.013513513513513514, 0.009009009009009009, 0.009009009009009009, 0.009009009009009009, 0.009009009009009009, 0.009009009009009009, 0.009009009009009009, 0.009009009009009009, 0.009009009009009009, 0.009009009009009009, 0.009009009009009009, 0.009009009009009009, 0.009009009009009009, 0.009009009009009009, 0.009009009009009009, 0.009009009009009009, 0.009009009009009009, 0.009009009009009009, 0.009009009009009009, 0.009009009009009009, 0.009009009009009009, 0.009009009009009009, 0.009009009009009009, 0.009009009009009009, 0.0045045045045045045, 0.0045045045045045045, 0.0045045045045045045, 0.0045045045045045045, 0.0045045045045045045, 0.0045045045045045045, 0.0045045045045045045, 0.0045045045045045045, 0.0045045045045045045, 0.0045045045045045045, 0.0045045045045045045, 0.0045045045045045045, 0.0045045045045045045, 0.0045045045045045045, 0.0045045045045045045, 0.0045045045045045045, 0.0045045045045045045, 0.0045045045045045045, 0.0045045045045045045, 0.0045045045045045045, 0.0045045045045045045, 0.0045045045045045045, 0.0045045045045045045, 0.0045045045045045045, 0.0045045045045045045, 0.0045045045045045045, 0.0045045045045045045, 0.0045045045045045045, 0.0045045045045045045, 0.0045045045045045045, 0.0045045045045045045, 0.0045045045045045045, 0.0045045045045045045, 0.0045045045045045045, 0.0045045045045045045, 0.0045045045045045045, 0.0045045045045045045, 0.0045045045045045045, 0.0045045045045045045, 0.0045045045045045045, 0.0045045045045045045, 0.0045045045045045045, 0.0045045045045045045, 0.0045045045045045045, 0.0045045045045045045, 0.0045045045045045045, 0.0045045045045045045, 0.0045045045045045045, 0.0045045045045045045, 0.0045045045045045045, 0.0045045045045045045, 0.0045045045045045045, 0.0045045045045045045, 0.0045045045045045045, 0.0045045045045045045, 0.0045045045045045045, 0.0045045045045045045, 0.0045045045045045045, 0.0045045045045045045, 0.0045045045045045045, 0.0045045045045045045, 0.0045045045045045045, 0.0045045045045045045, 0.0045045045045045045, 0.0045045045045045045, 0.0045045045045045045, 0.0045045045045045045, 0.0045045045045045045, 0.0045045045045045045, 0.0045045045045045045, 0.0045045045045045045, 0.0045045045045045045, 0.0045045045045045045, 0.0045045045045045045, 0.0045045045045045045, 0.0045045045045045045, 0.0045045045045045045, 0.0045045045045045045, 0.0045045045045045045, 0.0045045045045045045, 0.0045045045045045045, 0.0045045045045045045, 0.0045045045045045045, 0.0045045045045045045, 0.0045045045045045045, 0.0045045045045045045, 0.0045045045045045045, 0.0045045045045045045, 0.0045045045045045045, 0.0045045045045045045, 0.0045045045045045045, 0.0045045045045045045, 0.0045045045045045045, 0.0045045045045045045, 0.0045045045045045045, 0.0045045045045045045, 0.0045045045045045045, 0.0045045045045045045, 0.0045045045045045045, 0.0045045045045045045, 0.0045045045045045045, 0.0045045045045045045, 0.0045045045045045045, 0.0045045045045045045, 0.0045045045045045045, 0.0045045045045045045, 0.0045045045045045045, 0.0045045045045045045, 0.0045045045045045045, 0.0045045045045045045, 0.0045045045045045045, 0.0045045045045045045, 0.0045045045045045045, 0.0045045045045045045, 0.0045045045045045045]\n"
     ]
    }
   ],
   "source": [
    "document_vector = []\n",
    "doc_length = len(tokens)\n",
    "for key, value in kite_counts.most_common():\n",
    "    document_vector.append(value / doc_length)\n",
    "\n",
    "print(document_vector)"
   ]
  },
  {
   "cell_type": "code",
   "execution_count": 11,
   "id": "c025547e-4dfb-4938-a1b8-55cb48181148",
   "metadata": {},
   "outputs": [
    {
     "data": {
      "text/plain": [
       "3"
      ]
     },
     "execution_count": 11,
     "metadata": {},
     "output_type": "execute_result"
    }
   ],
   "source": [
    "docs = [\"The faster Harry got to the store, the faster Harry, the faster, would get home.\"]\n",
    "docs.append(\"Harry is hairy and faster than Jill.\")\n",
    "docs.append(\"Jill is not as hairy as Harry.\")\n",
    "\n",
    "doc_tokens = []\n",
    "for doc in docs:\n",
    "    doc_tokens += [sorted(tokenizer.tokenize(doc.lower()))]\n",
    "    \n",
    "len(doc_tokens)"
   ]
  },
  {
   "cell_type": "code",
   "execution_count": 12,
   "id": "03c6089d-efd5-4bcb-a023-3b9794f9e287",
   "metadata": {},
   "outputs": [
    {
     "data": {
      "text/plain": [
       "35"
      ]
     },
     "execution_count": 12,
     "metadata": {},
     "output_type": "execute_result"
    }
   ],
   "source": [
    "all_doc_tokens = sum(doc_tokens, [])\n",
    "len(all_doc_tokens)"
   ]
  },
  {
   "cell_type": "code",
   "execution_count": 13,
   "id": "d6aa439a-7645-4ff2-9a8d-fa5c9afb282c",
   "metadata": {},
   "outputs": [
    {
     "data": {
      "text/plain": [
       "18"
      ]
     },
     "execution_count": 13,
     "metadata": {},
     "output_type": "execute_result"
    }
   ],
   "source": [
    "lexicon = sorted(set(all_doc_tokens))\n",
    "len(lexicon)"
   ]
  },
  {
   "cell_type": "code",
   "execution_count": 14,
   "id": "fad160a3-8f48-49ab-bb92-ccef30151617",
   "metadata": {},
   "outputs": [
    {
     "data": {
      "text/plain": [
       "[',',\n",
       " '.',\n",
       " 'and',\n",
       " 'as',\n",
       " 'faster',\n",
       " 'get',\n",
       " 'got',\n",
       " 'hairy',\n",
       " 'harry',\n",
       " 'home',\n",
       " 'is',\n",
       " 'jill',\n",
       " 'not',\n",
       " 'store',\n",
       " 'than',\n",
       " 'the',\n",
       " 'to',\n",
       " 'would']"
      ]
     },
     "execution_count": 14,
     "metadata": {},
     "output_type": "execute_result"
    }
   ],
   "source": [
    "lexicon"
   ]
  },
  {
   "cell_type": "code",
   "execution_count": 15,
   "id": "f10a7f9e-9488-48a4-b8d5-0d9c9ad6bd13",
   "metadata": {},
   "outputs": [
    {
     "name": "stdout",
     "output_type": "stream",
     "text": [
      "OrderedDict([(',', 0), ('.', 0), ('and', 0), ('as', 0), ('faster', 0), ('get', 0), ('got', 0), ('hairy', 0), ('harry', 0), ('home', 0), ('is', 0), ('jill', 0), ('not', 0), ('store', 0), ('than', 0), ('the', 0), ('to', 0), ('would', 0)])\n"
     ]
    }
   ],
   "source": [
    "from collections import OrderedDict\n",
    "\n",
    "zero_vector = OrderedDict((token, 0) for token in lexicon)\n",
    "print(zero_vector)"
   ]
  },
  {
   "cell_type": "code",
   "execution_count": 19,
   "id": "0b2d20c3-77bc-49bd-b5c4-0f2e3d70d37b",
   "metadata": {},
   "outputs": [
    {
     "name": "stdout",
     "output_type": "stream",
     "text": [
      "[OrderedDict([(',', 0.16666666666666666), ('.', 0.05555555555555555), ('and', 0), ('as', 0), ('faster', 0.16666666666666666), ('get', 0.05555555555555555), ('got', 0.05555555555555555), ('hairy', 0), ('harry', 0.1111111111111111), ('home', 0.05555555555555555), ('is', 0), ('jill', 0), ('not', 0), ('store', 0.05555555555555555), ('than', 0), ('the', 0.2222222222222222), ('to', 0.05555555555555555), ('would', 0.05555555555555555)]), OrderedDict([(',', 0), ('.', 0.05555555555555555), ('and', 0.05555555555555555), ('as', 0), ('faster', 0.05555555555555555), ('get', 0), ('got', 0), ('hairy', 0.05555555555555555), ('harry', 0.05555555555555555), ('home', 0), ('is', 0.05555555555555555), ('jill', 0.05555555555555555), ('not', 0), ('store', 0), ('than', 0.05555555555555555), ('the', 0), ('to', 0), ('would', 0)]), OrderedDict([(',', 0), ('.', 0.05555555555555555), ('and', 0), ('as', 0.1111111111111111), ('faster', 0), ('get', 0), ('got', 0), ('hairy', 0.05555555555555555), ('harry', 0.05555555555555555), ('home', 0), ('is', 0.05555555555555555), ('jill', 0.05555555555555555), ('not', 0.05555555555555555), ('store', 0), ('than', 0), ('the', 0), ('to', 0), ('would', 0)])]\n"
     ]
    }
   ],
   "source": [
    "import copy\n",
    "\n",
    "document_vectors = []\n",
    "for doc in docs:\n",
    "\n",
    "    vec = copy.copy(zero_vector)  # So we are dealing with new objects, not multiple references to the same object\n",
    "\n",
    "    tokens = tokenizer.tokenize(doc.lower())\n",
    "    token_counts = Counter(tokens)\n",
    "\n",
    "    for key, value in token_counts.items():\n",
    "        vec[key] = value / len(lexicon)\n",
    "    document_vectors.append(vec)\n",
    "    \n",
    "print(document_vectors)"
   ]
  },
  {
   "cell_type": "markdown",
   "id": "a6594fb8-4af3-49e8-a341-e0084ba1b24a",
   "metadata": {},
   "source": [
    "### 3.2.1. Vector spaces"
   ]
  },
  {
   "cell_type": "code",
   "execution_count": 20,
   "id": "adf069a3-8765-4621-96b3-4ff7c0f3e28a",
   "metadata": {},
   "outputs": [],
   "source": [
    "import math\n",
    "\n",
    "def cosine_sim(vec1, vec2):\n",
    "    \"\"\"\n",
    "    Since our vectors are dictionaries, lets convert them to lists for easier mathing.\n",
    "    \"\"\"\n",
    "    vec1 = [val for val in vec1.values()]\n",
    "    vec2 = [val for val in vec2.values()]\n",
    "    \n",
    "    dot_prod = 0\n",
    "    for i, v in enumerate(vec1):\n",
    "        dot_prod += v * vec2[i]\n",
    "        \n",
    "    mag_1 = math.sqrt(sum([x**2 for x in vec1]))\n",
    "    mag_2 = math.sqrt(sum([x**2 for x in vec2]))\n",
    "    \n",
    "    return dot_prod / (mag_1 * mag_2)"
   ]
  },
  {
   "cell_type": "markdown",
   "id": "6fa67090-3988-44fc-9e88-55fa08f142ea",
   "metadata": {},
   "source": [
    "## 3.3 Zipf's Law"
   ]
  },
  {
   "cell_type": "code",
   "execution_count": 21,
   "id": "39fe27f6-43fe-474e-8585-1dadbc73ac9f",
   "metadata": {},
   "outputs": [
    {
     "name": "stderr",
     "output_type": "stream",
     "text": [
      "[nltk_data] Downloading package brown to /home/jovyan/nltk_data...\n",
      "[nltk_data]   Unzipping corpora/brown.zip.\n"
     ]
    },
    {
     "data": {
      "text/plain": [
       "True"
      ]
     },
     "execution_count": 21,
     "metadata": {},
     "output_type": "execute_result"
    }
   ],
   "source": [
    "nltk.download(\"brown\")"
   ]
  },
  {
   "cell_type": "code",
   "execution_count": 22,
   "id": "cb9444db-700a-4320-936a-28bbe53d4fdb",
   "metadata": {},
   "outputs": [
    {
     "data": {
      "text/plain": [
       "['The',\n",
       " 'Fulton',\n",
       " 'County',\n",
       " 'Grand',\n",
       " 'Jury',\n",
       " 'said',\n",
       " 'Friday',\n",
       " 'an',\n",
       " 'investigation',\n",
       " 'of']"
      ]
     },
     "execution_count": 22,
     "metadata": {},
     "output_type": "execute_result"
    }
   ],
   "source": [
    "from nltk.corpus import brown\n",
    "\n",
    "brown.words()[:10]"
   ]
  },
  {
   "cell_type": "code",
   "execution_count": 23,
   "id": "4677e5d8-b57d-4b7e-9062-e9ad7dcf50a5",
   "metadata": {},
   "outputs": [
    {
     "data": {
      "text/plain": [
       "[('The', 'AT'),\n",
       " ('Fulton', 'NP-TL'),\n",
       " ('County', 'NN-TL'),\n",
       " ('Grand', 'JJ-TL'),\n",
       " ('Jury', 'NN-TL')]"
      ]
     },
     "execution_count": 23,
     "metadata": {},
     "output_type": "execute_result"
    }
   ],
   "source": [
    "brown.tagged_words()[:5]"
   ]
  },
  {
   "cell_type": "code",
   "execution_count": 24,
   "id": "d1ae1872-bdda-4085-b390-0c813cf6277c",
   "metadata": {},
   "outputs": [
    {
     "name": "stdout",
     "output_type": "stream",
     "text": [
      "[('the', 69971), ('of', 36412), ('and', 28853), ('to', 26158), ('a', 23195), ('in', 21337), ('that', 10594), ('is', 10109), ('was', 9815), ('he', 9548), ('for', 9489), ('it', 8760), ('with', 7289), ('as', 7253), ('his', 6996), ('on', 6741), ('be', 6377), ('at', 5372), ('by', 5306), ('i', 5164)]\n"
     ]
    }
   ],
   "source": [
    "from collections import Counter\n",
    "\n",
    "puncs = [',', '.', '--', '-', '!', '?', ':', ';', '``', \"''\", '(', ')', '[', ']']\n",
    "word_list = [x.lower() for x in brown.words() if x not in puncs]\n",
    "token_counts = Counter(word_list)\n",
    "print(token_counts.most_common(20))"
   ]
  },
  {
   "cell_type": "markdown",
   "id": "aac6ab54-cf8d-452a-9cee-09adfdeabc3b",
   "metadata": {},
   "source": [
    "## 3.4 Topic modelling"
   ]
  },
  {
   "cell_type": "code",
   "execution_count": null,
   "id": "789e604d-710a-4d58-a9d5-183f6fdff44c",
   "metadata": {},
   "outputs": [],
   "source": []
  }
 ],
 "metadata": {
  "kernelspec": {
   "display_name": "Python 3 (ipykernel)",
   "language": "python",
   "name": "python3"
  },
  "language_info": {
   "codemirror_mode": {
    "name": "ipython",
    "version": 3
   },
   "file_extension": ".py",
   "mimetype": "text/x-python",
   "name": "python",
   "nbconvert_exporter": "python",
   "pygments_lexer": "ipython3",
   "version": "3.9.7"
  }
 },
 "nbformat": 4,
 "nbformat_minor": 5
}
