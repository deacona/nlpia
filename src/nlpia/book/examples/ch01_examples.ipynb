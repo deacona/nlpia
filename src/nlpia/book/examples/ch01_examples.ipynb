{
 "cells": [
  {
   "cell_type": "markdown",
   "id": "65826396-a6dc-41fe-9d49-07efb9f77875",
   "metadata": {
    "tags": []
   },
   "source": [
    "# 1. Packets of thought (NLP overview)"
   ]
  },
  {
   "cell_type": "markdown",
   "id": "afbc452c-3d04-4ac4-b290-4f1c372e03c7",
   "metadata": {},
   "source": [
    "### 1.4.3 A simple chatbot"
   ]
  },
  {
   "cell_type": "code",
   "execution_count": 2,
   "id": "3c0b7ac9-880a-43c4-a92b-63d70ae52145",
   "metadata": {},
   "outputs": [
    {
     "data": {
      "text/plain": [
       "<re.Match object; span=(0, 10), match='Hello Rosa'>"
      ]
     },
     "execution_count": 2,
     "metadata": {},
     "output_type": "execute_result"
    }
   ],
   "source": [
    "import re\n",
    "\n",
    "r = \"(hi|hello|hey)[ ]*([a-z]*)\"\n",
    "\n",
    "re.match(r, 'Hello Rosa', flags=re.IGNORECASE)"
   ]
  },
  {
   "cell_type": "code",
   "execution_count": 3,
   "id": "7e4cc298-a992-4e65-9a40-b94ab2137733",
   "metadata": {},
   "outputs": [
    {
     "data": {
      "text/plain": [
       "<re.Match object; span=(0, 5), match='hi ho'>"
      ]
     },
     "execution_count": 3,
     "metadata": {},
     "output_type": "execute_result"
    }
   ],
   "source": [
    "re.match(r, \"hi ho, hi ho, it's off to work ...\", flags=re.IGNORECASE)"
   ]
  },
  {
   "cell_type": "code",
   "execution_count": 4,
   "id": "fe63fe31-d941-466c-aaff-13d8e2aeb757",
   "metadata": {},
   "outputs": [
    {
     "data": {
      "text/plain": [
       "<re.Match object; span=(0, 3), match='hey'>"
      ]
     },
     "execution_count": 4,
     "metadata": {},
     "output_type": "execute_result"
    }
   ],
   "source": [
    "re.match(r, \"hey, what's up\", flags=re.IGNORECASE)"
   ]
  },
  {
   "cell_type": "code",
   "execution_count": null,
   "id": "5ed39b54-a391-4be7-ad46-6bf068ec792c",
   "metadata": {},
   "outputs": [],
   "source": []
  },
  {
   "cell_type": "code",
   "execution_count": 9,
   "id": "b690778b-ca93-41e8-90f9-7c91921795d9",
   "metadata": {},
   "outputs": [
    {
     "data": {
      "text/plain": [
       "<re.Match object; span=(0, 10), match='Hello Rosa'>"
      ]
     },
     "execution_count": 9,
     "metadata": {},
     "output_type": "execute_result"
    }
   ],
   "source": [
    "r = r\"[^a-z]*([y]o|[h']?ello|ok|hey|(good[ ])?(mon[gin']{0,3}|\"\\\n",
    "    r\"afternoon|even[gin']{0,3}))[\\s,;:]{1,3}([a-z]{1,20})\"\n",
    "\n",
    "re_greeting = re.compile(r, flags=re.IGNORECASE)\n",
    "\n",
    "re_greeting.match('Hello Rosa')"
   ]
  },
  {
   "cell_type": "code",
   "execution_count": 10,
   "id": "a38e16be-bf8e-4b69-b248-09d9c73ec618",
   "metadata": {},
   "outputs": [
    {
     "data": {
      "text/plain": [
       "('Hello', None, None, 'Rosa')"
      ]
     },
     "execution_count": 10,
     "metadata": {},
     "output_type": "execute_result"
    }
   ],
   "source": [
    "re_greeting.match('Hello Rosa').groups()"
   ]
  },
  {
   "cell_type": "code",
   "execution_count": 11,
   "id": "a562fe26-0307-46d0-810f-1ba5a4dafea3",
   "metadata": {},
   "outputs": [],
   "source": [
    "re_greeting.match('Good morning Rosa')"
   ]
  },
  {
   "cell_type": "code",
   "execution_count": 12,
   "id": "5e0adbb0-5fd9-464d-a3fc-56b6973311eb",
   "metadata": {},
   "outputs": [],
   "source": [
    "re_greeting.match('Good Manning Rosa')"
   ]
  },
  {
   "cell_type": "code",
   "execution_count": 13,
   "id": "049e757d-0838-4fa2-aa4a-e0ba0e55e4d1",
   "metadata": {},
   "outputs": [
    {
     "data": {
      "text/plain": [
       "('Good evening', 'Good ', 'evening', 'Rosa')"
      ]
     },
     "execution_count": 13,
     "metadata": {},
     "output_type": "execute_result"
    }
   ],
   "source": [
    "re_greeting.match('Good evening Rosa Parks').groups()"
   ]
  },
  {
   "cell_type": "code",
   "execution_count": 14,
   "id": "e314a2cc-6dff-404a-96be-6c0e46443217",
   "metadata": {},
   "outputs": [],
   "source": [
    "re_greeting.match(\"Good Morn'n Rosa\")"
   ]
  },
  {
   "cell_type": "code",
   "execution_count": 15,
   "id": "85f8bd9a-8b02-4ff0-84d7-972c28b57fd6",
   "metadata": {},
   "outputs": [
    {
     "data": {
      "text/plain": [
       "<re.Match object; span=(0, 7), match='yo Rosa'>"
      ]
     },
     "execution_count": 15,
     "metadata": {},
     "output_type": "execute_result"
    }
   ],
   "source": [
    "re_greeting.match(\"yo Rosa\")"
   ]
  },
  {
   "cell_type": "code",
   "execution_count": null,
   "id": "8e6bae68-42c7-4d67-b304-d6a67804dfa2",
   "metadata": {},
   "outputs": [],
   "source": []
  },
  {
   "cell_type": "code",
   "execution_count": 24,
   "id": "17ad12d9-2b9f-4f96-a31e-176524f02cf4",
   "metadata": {},
   "outputs": [
    {
     "name": "stdin",
     "output_type": "stream",
     "text": [
      " Hello you\n"
     ]
    },
    {
     "name": "stdout",
     "output_type": "stream",
     "text": [
      "<re.Match object; span=(0, 9), match='Hello you'>\n",
      "Good one.\n"
     ]
    }
   ],
   "source": [
    "my_names = set(['rosa', 'rose', 'chatty', 'chatbot', 'bot', 'chatterbox'])\n",
    "curt_names = set(['hal', 'you', 'u'])\n",
    "at_name = ''\n",
    "\n",
    "match = re_greeting.match(input())\n",
    "print(match)\n",
    "\n",
    "if match:\n",
    "    at_name = match.groups()[-1]\n",
    "    \n",
    "if at_name in curt_names:\n",
    "    print(\"Good one.\")\n",
    "elif at_name.lower() in my_names:\n",
    "    print(\"Hi {}, How are you?\".format(at_name))"
   ]
  },
  {
   "cell_type": "markdown",
   "id": "0bfbd035-fd12-4386-bfc2-f240de4408aa",
   "metadata": {},
   "source": [
    "### 1.4.4 Another way"
   ]
  },
  {
   "cell_type": "code",
   "execution_count": 25,
   "id": "d4607714-006e-497e-94db-f64670e09b0b",
   "metadata": {},
   "outputs": [
    {
     "data": {
      "text/plain": [
       "Counter({'Guten': 1, 'Morgan': 1, 'Rosa': 1})"
      ]
     },
     "execution_count": 25,
     "metadata": {},
     "output_type": "execute_result"
    }
   ],
   "source": [
    "from collections import Counter\n",
    "\n",
    "Counter(\"Guten Morgan Rosa\".split())"
   ]
  },
  {
   "cell_type": "code",
   "execution_count": 26,
   "id": "f584329d-8285-4871-ab44-0a4a3d2293ae",
   "metadata": {},
   "outputs": [
    {
     "data": {
      "text/plain": [
       "Counter({'Good': 1, 'morning,': 1, 'Rosa!': 1})"
      ]
     },
     "execution_count": 26,
     "metadata": {},
     "output_type": "execute_result"
    }
   ],
   "source": [
    "Counter(\"Good morning, Rosa!\".split())"
   ]
  },
  {
   "cell_type": "markdown",
   "id": "4e1dad72-d305-404d-a63c-1d677da40da0",
   "metadata": {},
   "source": [
    "## 1.6 Word order and grammar"
   ]
  },
  {
   "cell_type": "code",
   "execution_count": 28,
   "id": "b57bbcf4-0c69-43b5-b4bb-e725b196ba69",
   "metadata": {},
   "outputs": [
    {
     "data": {
      "text/plain": [
       "['Good morning Rosa!',\n",
       " 'Good Rosa! morning',\n",
       " 'morning Good Rosa!',\n",
       " 'morning Rosa! Good',\n",
       " 'Rosa! Good morning',\n",
       " 'Rosa! morning Good']"
      ]
     },
     "execution_count": 28,
     "metadata": {},
     "output_type": "execute_result"
    }
   ],
   "source": [
    "from itertools import permutations\n",
    "\n",
    "[\" \".join(combo) for combo in permutations(\"Good morning Rosa!\".split(), 3)]"
   ]
  },
  {
   "cell_type": "code",
   "execution_count": 30,
   "id": "7659d585-1358-42a1-95d5-a28f5cb35990",
   "metadata": {},
   "outputs": [
    {
     "data": {
      "text/plain": [
       "12"
      ]
     },
     "execution_count": 30,
     "metadata": {},
     "output_type": "execute_result"
    }
   ],
   "source": [
    "s = \"\"\"Find textbooks with titles containing 'NLP',\n",
    "    or 'natural' and 'language', or\n",
    "    'computational' and 'linguistics'.\"\"\"\n",
    "len(set(s.split()))"
   ]
  },
  {
   "cell_type": "code",
   "execution_count": 32,
   "id": "9f3c7e9c-4eb5-4adb-889a-0345318f79f4",
   "metadata": {},
   "outputs": [
    {
     "data": {
      "text/plain": [
       "479001600"
      ]
     },
     "execution_count": 32,
     "metadata": {},
     "output_type": "execute_result"
    }
   ],
   "source": [
    "import numpy as np\n",
    "\n",
    "np.arange(1, 12 + 1).prod() # factorial(12) = arrange(1, 13).prod()"
   ]
  }
 ],
 "metadata": {
  "kernelspec": {
   "display_name": "Python 3 (ipykernel)",
   "language": "python",
   "name": "python3"
  },
  "language_info": {
   "codemirror_mode": {
    "name": "ipython",
    "version": 3
   },
   "file_extension": ".py",
   "mimetype": "text/x-python",
   "name": "python",
   "nbconvert_exporter": "python",
   "pygments_lexer": "ipython3",
   "version": "3.9.7"
  }
 },
 "nbformat": 4,
 "nbformat_minor": 5
}
