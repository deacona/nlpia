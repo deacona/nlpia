{
 "cells": [
  {
   "cell_type": "markdown",
   "id": "ff48e6f7-28eb-4aa6-8584-3d25e450443f",
   "metadata": {
    "tags": []
   },
   "source": [
    "# 5. Baby steps with neural networks (perceptrons and backpropagation)"
   ]
  },
  {
   "cell_type": "markdown",
   "id": "af3c04d4-4ab9-4a98-b32c-b7ef6fa9eaf2",
   "metadata": {
    "tags": []
   },
   "source": [
    "### 5.1.3 Detour through bias"
   ]
  },
  {
   "cell_type": "code",
   "execution_count": 1,
   "id": "c4cdca24-aa8d-4b5d-bab8-3020428e0d68",
   "metadata": {},
   "outputs": [
    {
     "data": {
      "text/plain": [
       "0.6740000000000002"
      ]
     },
     "execution_count": 1,
     "metadata": {},
     "output_type": "execute_result"
    }
   ],
   "source": [
    "import numpy as np\n",
    "\n",
    "example_input = [1, .2, .1, .05, .2]\n",
    "example_weights = [.2, .12, .4, .6, .90]\n",
    "\n",
    "input_vector = np.array(example_input)\n",
    "weights = np.array(example_weights)\n",
    "bias_weight = .2\n",
    "\n",
    "activation_level = np.dot(input_vector, weights) +\\\n",
    "    (bias_weight * 1)\n",
    "activation_level"
   ]
  },
  {
   "cell_type": "code",
   "execution_count": 2,
   "id": "1e49cda3-660a-4616-b21b-8534708a5549",
   "metadata": {},
   "outputs": [
    {
     "data": {
      "text/plain": [
       "1"
      ]
     },
     "execution_count": 2,
     "metadata": {},
     "output_type": "execute_result"
    }
   ],
   "source": [
    "threshold = 0.5\n",
    "\n",
    "if activation_level >= threshold:\n",
    "    perceptron_output = 1\n",
    "else:\n",
    "    perceptron_output = 0\n",
    "perceptron_output"
   ]
  },
  {
   "cell_type": "code",
   "execution_count": 3,
   "id": "1d9d5613-6b2d-45a4-8012-15f9083f9eb2",
   "metadata": {},
   "outputs": [
    {
     "data": {
      "text/plain": [
       "[0.2, 0.12, 0.4, 0.6, 0.9]"
      ]
     },
     "execution_count": 3,
     "metadata": {},
     "output_type": "execute_result"
    }
   ],
   "source": [
    "expected_output = 0\n",
    "new_weights = []\n",
    "\n",
    "for i, x in enumerate(example_input):\n",
    "    new_weights.append(weights[i] + (expected_output - perceptron_output) * x)\n",
    "    \n",
    "weights = np.array(new_weights)\n",
    "\n",
    "example_weights"
   ]
  },
  {
   "cell_type": "code",
   "execution_count": 4,
   "id": "c15c94ff-0cfe-4c80-830b-571880312f9d",
   "metadata": {},
   "outputs": [
    {
     "data": {
      "text/plain": [
       "[-0.8, -0.08000000000000002, 0.30000000000000004, 0.5499999999999999, 0.7]"
      ]
     },
     "execution_count": 4,
     "metadata": {},
     "output_type": "execute_result"
    }
   ],
   "source": [
    "new_weights"
   ]
  },
  {
   "cell_type": "code",
   "execution_count": 5,
   "id": "04d28157-d26f-4a79-90c0-bca0a9a65317",
   "metadata": {},
   "outputs": [],
   "source": [
    "sample_data = [[0, 0], # False, True\n",
    "               [0, 1], # False, True\n",
    "               [1, 0], # True, False\n",
    "               [1, 1]] # True, True\n",
    "\n",
    "expected_results = [0, # (False OR False) gives False\n",
    "                    1, # (False OR True) gives True\n",
    "                    1, # (True OR False) gives True\n",
    "                    1] # (True OR True) gives True\n",
    "\n",
    "activation_threshold = 0.5"
   ]
  },
  {
   "cell_type": "code",
   "execution_count": 13,
   "id": "74a31928-1eb8-44c5-a63e-8026cc1c8072",
   "metadata": {},
   "outputs": [
    {
     "data": {
      "text/plain": [
       "array([0.00098547, 0.0008929 ])"
      ]
     },
     "execution_count": 13,
     "metadata": {},
     "output_type": "execute_result"
    }
   ],
   "source": [
    "from random import random\n",
    "import numpy as np\n",
    "\n",
    "weights = np.random.random(2)/1000 # SWmall random float 0 < w < 0.001\n",
    "weights"
   ]
  },
  {
   "cell_type": "code",
   "execution_count": 14,
   "id": "2b26c965-2dbf-44e2-b58e-8a393c15307b",
   "metadata": {},
   "outputs": [
    {
     "data": {
      "text/plain": [
       "0.0007748204758284635"
      ]
     },
     "execution_count": 14,
     "metadata": {},
     "output_type": "execute_result"
    }
   ],
   "source": [
    "bias_weight = np.random.random() / 1000\n",
    "bias_weight"
   ]
  },
  {
   "cell_type": "code",
   "execution_count": 15,
   "id": "38508474-cdf1-4237-b3ac-a948c8eec4f7",
   "metadata": {},
   "outputs": [
    {
     "name": "stdout",
     "output_type": "stream",
     "text": [
      "Predicted: 0\n",
      "Expected:  0\n",
      "\n",
      "Predicted: 0\n",
      "Expected:  1\n",
      "\n",
      "Predicted: 0\n",
      "Expected:  1\n",
      "\n",
      "Predicted: 0\n",
      "Expected:  1\n",
      "\n"
     ]
    }
   ],
   "source": [
    "for idx, sample in enumerate(sample_data):\n",
    "    input_vector = np.array(sample)\n",
    "    activation_level = np.dot(input_vector, weights) +\\\n",
    "        (bias_weight * 1)\n",
    "    if activation_level > activation_threshold:\n",
    "        perceptron_output = 1\n",
    "    else:\n",
    "        perceptron_output = 0\n",
    "    \n",
    "    print('Predicted: {}'.format(perceptron_output))\n",
    "    print('Expected:  {}'.format(expected_results[idx]))\n",
    "    print()"
   ]
  },
  {
   "cell_type": "code",
   "execution_count": 16,
   "id": "64fcd788-a6dd-456a-bbdc-d0f9f7ed5b79",
   "metadata": {},
   "outputs": [
    {
     "name": "stdout",
     "output_type": "stream",
     "text": [
      "3 correct answers out of 4, for iteration 0\n",
      "2 correct answers out of 4, for iteration 1\n",
      "3 correct answers out of 4, for iteration 2\n",
      "4 correct answers out of 4, for iteration 3\n",
      "4 correct answers out of 4, for iteration 4\n"
     ]
    }
   ],
   "source": [
    "for iteration_num in range(5):\n",
    "    correct_answers = 0\n",
    "    for idx, sample in enumerate(sample_data):\n",
    "        input_vector = np.array(sample)\n",
    "        activation_level = np.dot(input_vector, weights) +\\\n",
    "            (bias_weight * 1)\n",
    "        \n",
    "        if activation_level > activation_threshold:\n",
    "            perceptron_output = 1\n",
    "        else:\n",
    "            perceptron_output = 0\n",
    "            \n",
    "        if perceptron_output == expected_results[idx]:\n",
    "            correct_answers += 1\n",
    "            \n",
    "        new_weights = []\n",
    "        for i, x in enumerate(sample):\n",
    "            new_weights.append(weights[i] + (expected_results[idx] -\\\n",
    "                                             perceptron_output) * x)\n",
    "            \n",
    "        bias_weight = bias_weight + ((expected_results[idx] -\\\n",
    "                                      perceptron_output) * 1)\n",
    "        \n",
    "        weights = np.array(new_weights)\n",
    "        \n",
    "    print('{} correct answers out of 4, for iteration {}'\\\n",
    "          .format(correct_answers, iteration_num))"
   ]
  }
 ],
 "metadata": {
  "kernelspec": {
   "display_name": "Python 3 (ipykernel)",
   "language": "python",
   "name": "python3"
  },
  "language_info": {
   "codemirror_mode": {
    "name": "ipython",
    "version": 3
   },
   "file_extension": ".py",
   "mimetype": "text/x-python",
   "name": "python",
   "nbconvert_exporter": "python",
   "pygments_lexer": "ipython3",
   "version": "3.9.7"
  }
 },
 "nbformat": 4,
 "nbformat_minor": 5
}
