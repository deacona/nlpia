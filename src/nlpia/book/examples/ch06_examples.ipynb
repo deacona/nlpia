{
 "cells": [
  {
   "cell_type": "markdown",
   "id": "a4b0b728-ef8e-4451-8f59-8cea314c5ed0",
   "metadata": {
    "tags": []
   },
   "source": [
    "# 6. Reasoning with word vectors (Word2vec)"
   ]
  },
  {
   "cell_type": "markdown",
   "id": "9bcd5748-e1bd-4ed6-9b40-e7696546a289",
   "metadata": {
    "tags": []
   },
   "source": [
    "## 6.2. Word vectors"
   ]
  },
  {
   "cell_type": "code",
   "execution_count": 2,
   "id": "8b6861ad-2617-4df9-b564-7bbc798168b9",
   "metadata": {},
   "outputs": [],
   "source": [
    "## can't get this to work :(\n",
    "\n",
    "# !pip install ipdb\n",
    "# import numpy as np\n",
    "# !pip install --upgrade numpy #==1.20.3\n",
    "# !pip uninstall pycocotools\n",
    "# !pip install pycocotools --no-binary pycocotools\n",
    "\n",
    "# from nlpia.book.examples.ch06_nessvectors import *\n",
    "# nessvector('Marie_Curie').round(2)"
   ]
  },
  {
   "cell_type": "markdown",
   "id": "697dbfd5-8518-4708-938c-d560304d9282",
   "metadata": {
    "tags": []
   },
   "source": [
    "### 6.2.3. How to use the gensim.word2vec module"
   ]
  },
  {
   "cell_type": "code",
   "execution_count": 2,
   "id": "333afb65-0b1f-4306-94a8-9e67a0ab866f",
   "metadata": {},
   "outputs": [],
   "source": [
    "import os\n",
    "from gensim.models.keyedvectors import KeyedVectors\n",
    "# from nlpia.data.loaders import BIGDATA_PATH\n",
    "\n",
    "# not in book, reader required to compose this path\n",
    "# wordvector_path = os.path.join(BIGDATA_PATH, 'GoogleNews-vectors-negative300.bin.gz')\n",
    "## https://drive.google.com/file/d/0B7XkCwpI5KDYNlNUTTlSS21pQmM/edit?resourcekey=0-wjGZdNAUop6WykTtMip30g\n",
    "wordvector_path = os.path.join(\"../../bigdata\", 'GoogleNews-vectors-negative300.bin.gz')\n",
    "\n",
    "word_vectors = KeyedVectors.load_word2vec_format(wordvector_path, binary=True, limit=200000)"
   ]
  },
  {
   "cell_type": "code",
   "execution_count": 3,
   "id": "bb24583b-bc6b-4f6b-b175-7ffdc52bf480",
   "metadata": {},
   "outputs": [
    {
     "data": {
      "text/plain": [
       "[('cook', 0.6973530650138855),\n",
       " ('sweet_potatoes', 0.6600280404090881),\n",
       " ('vegetables', 0.6513738036155701),\n",
       " ('onions', 0.6512383222579956),\n",
       " ('baking', 0.6481683850288391)]"
      ]
     },
     "execution_count": 3,
     "metadata": {},
     "output_type": "execute_result"
    }
   ],
   "source": [
    "word_vectors.most_similar(positive=[\"cooking\", \"potatoes\"], topn=5)"
   ]
  },
  {
   "cell_type": "code",
   "execution_count": 6,
   "id": "5c770d06-bc0a-4ff2-85e4-66a29850cbde",
   "metadata": {},
   "outputs": [
    {
     "ename": "KeyError",
     "evalue": "\"Key 'germany' not present in vocabulary\"",
     "output_type": "error",
     "traceback": [
      "\u001b[0;31m---------------------------------------------------------------------------\u001b[0m",
      "\u001b[0;31mKeyError\u001b[0m                                  Traceback (most recent call last)",
      "Input \u001b[0;32mIn [6]\u001b[0m, in \u001b[0;36m<cell line: 1>\u001b[0;34m()\u001b[0m\n\u001b[0;32m----> 1\u001b[0m \u001b[43mword_vectors\u001b[49m\u001b[38;5;241;43m.\u001b[39;49m\u001b[43mmost_similar\u001b[49m\u001b[43m(\u001b[49m\u001b[43mpositive\u001b[49m\u001b[38;5;241;43m=\u001b[39;49m\u001b[43m[\u001b[49m\u001b[38;5;124;43m\"\u001b[39;49m\u001b[38;5;124;43mgermany\u001b[39;49m\u001b[38;5;124;43m\"\u001b[39;49m\u001b[43m,\u001b[49m\u001b[43m \u001b[49m\u001b[38;5;124;43m\"\u001b[39;49m\u001b[38;5;124;43mfrance\u001b[39;49m\u001b[38;5;124;43m\"\u001b[39;49m\u001b[43m]\u001b[49m\u001b[43m,\u001b[49m\u001b[43m \u001b[49m\u001b[43mtopn\u001b[49m\u001b[38;5;241;43m=\u001b[39;49m\u001b[38;5;241;43m1\u001b[39;49m\u001b[43m)\u001b[49m\n",
      "File \u001b[0;32m/opt/conda/lib/python3.10/site-packages/gensim/models/keyedvectors.py:842\u001b[0m, in \u001b[0;36mKeyedVectors.most_similar\u001b[0;34m(self, positive, negative, topn, clip_start, clip_end, restrict_vocab, indexer)\u001b[0m\n\u001b[1;32m    839\u001b[0m         weight[idx] \u001b[38;5;241m=\u001b[39m item[\u001b[38;5;241m1\u001b[39m]\n\u001b[1;32m    841\u001b[0m \u001b[38;5;66;03m# compute the weighted average of all keys\u001b[39;00m\n\u001b[0;32m--> 842\u001b[0m mean \u001b[38;5;241m=\u001b[39m \u001b[38;5;28;43mself\u001b[39;49m\u001b[38;5;241;43m.\u001b[39;49m\u001b[43mget_mean_vector\u001b[49m\u001b[43m(\u001b[49m\u001b[43mkeys\u001b[49m\u001b[43m,\u001b[49m\u001b[43m \u001b[49m\u001b[43mweight\u001b[49m\u001b[43m,\u001b[49m\u001b[43m \u001b[49m\u001b[43mpre_normalize\u001b[49m\u001b[38;5;241;43m=\u001b[39;49m\u001b[38;5;28;43;01mTrue\u001b[39;49;00m\u001b[43m,\u001b[49m\u001b[43m \u001b[49m\u001b[43mpost_normalize\u001b[49m\u001b[38;5;241;43m=\u001b[39;49m\u001b[38;5;28;43;01mTrue\u001b[39;49;00m\u001b[43m,\u001b[49m\u001b[43m \u001b[49m\u001b[43mignore_missing\u001b[49m\u001b[38;5;241;43m=\u001b[39;49m\u001b[38;5;28;43;01mFalse\u001b[39;49;00m\u001b[43m)\u001b[49m\n\u001b[1;32m    843\u001b[0m all_keys \u001b[38;5;241m=\u001b[39m [\n\u001b[1;32m    844\u001b[0m     \u001b[38;5;28mself\u001b[39m\u001b[38;5;241m.\u001b[39mget_index(key) \u001b[38;5;28;01mfor\u001b[39;00m key \u001b[38;5;129;01min\u001b[39;00m keys \u001b[38;5;28;01mif\u001b[39;00m \u001b[38;5;28misinstance\u001b[39m(key, _KEY_TYPES) \u001b[38;5;129;01mand\u001b[39;00m \u001b[38;5;28mself\u001b[39m\u001b[38;5;241m.\u001b[39mhas_index_for(key)\n\u001b[1;32m    845\u001b[0m ]\n\u001b[1;32m    847\u001b[0m \u001b[38;5;28;01mif\u001b[39;00m indexer \u001b[38;5;129;01mis\u001b[39;00m \u001b[38;5;129;01mnot\u001b[39;00m \u001b[38;5;28;01mNone\u001b[39;00m \u001b[38;5;129;01mand\u001b[39;00m \u001b[38;5;28misinstance\u001b[39m(topn, \u001b[38;5;28mint\u001b[39m):\n",
      "File \u001b[0;32m/opt/conda/lib/python3.10/site-packages/gensim/models/keyedvectors.py:519\u001b[0m, in \u001b[0;36mKeyedVectors.get_mean_vector\u001b[0;34m(self, keys, weights, pre_normalize, post_normalize, ignore_missing)\u001b[0m\n\u001b[1;32m    517\u001b[0m         total_weight \u001b[38;5;241m+\u001b[39m\u001b[38;5;241m=\u001b[39m \u001b[38;5;28mabs\u001b[39m(weights[idx])\n\u001b[1;32m    518\u001b[0m     \u001b[38;5;28;01melif\u001b[39;00m \u001b[38;5;129;01mnot\u001b[39;00m ignore_missing:\n\u001b[0;32m--> 519\u001b[0m         \u001b[38;5;28;01mraise\u001b[39;00m \u001b[38;5;167;01mKeyError\u001b[39;00m(\u001b[38;5;124mf\u001b[39m\u001b[38;5;124m\"\u001b[39m\u001b[38;5;124mKey \u001b[39m\u001b[38;5;124m'\u001b[39m\u001b[38;5;132;01m{\u001b[39;00mkey\u001b[38;5;132;01m}\u001b[39;00m\u001b[38;5;124m'\u001b[39m\u001b[38;5;124m not present in vocabulary\u001b[39m\u001b[38;5;124m\"\u001b[39m)\n\u001b[1;32m    521\u001b[0m \u001b[38;5;28;01mif\u001b[39;00m(total_weight \u001b[38;5;241m>\u001b[39m \u001b[38;5;241m0\u001b[39m):\n\u001b[1;32m    522\u001b[0m     mean \u001b[38;5;241m=\u001b[39m mean \u001b[38;5;241m/\u001b[39m total_weight\n",
      "\u001b[0;31mKeyError\u001b[0m: \"Key 'germany' not present in vocabulary\""
     ]
    }
   ],
   "source": [
    "word_vectors.most_similar(positive=[\"germany\", \"france\"], topn=1)"
   ]
  },
  {
   "cell_type": "code",
   "execution_count": 7,
   "id": "f6938764-c07e-4bfc-af79-dd8eb5902e37",
   "metadata": {},
   "outputs": [
    {
     "data": {
      "text/plain": [
       "'computer'"
      ]
     },
     "execution_count": 7,
     "metadata": {},
     "output_type": "execute_result"
    }
   ],
   "source": [
    "word_vectors.doesnt_match(\"potatoes milk cake computer\".split())"
   ]
  },
  {
   "cell_type": "code",
   "execution_count": 8,
   "id": "5323b60e-d7e9-4520-a6a1-b279e2ecc090",
   "metadata": {},
   "outputs": [
    {
     "data": {
      "text/plain": [
       "[('queen', 0.7118193507194519), ('monarch', 0.6189674139022827)]"
      ]
     },
     "execution_count": 8,
     "metadata": {},
     "output_type": "execute_result"
    }
   ],
   "source": [
    "word_vectors.most_similar(positive=[\"king\", \"woman\"], negative=[\"man\"], topn=2)"
   ]
  },
  {
   "cell_type": "code",
   "execution_count": 9,
   "id": "756f3187-cba6-4dc0-9b8c-553d653384c9",
   "metadata": {},
   "outputs": [
    {
     "data": {
      "text/plain": [
       "0.7070532"
      ]
     },
     "execution_count": 9,
     "metadata": {},
     "output_type": "execute_result"
    }
   ],
   "source": [
    "word_vectors.similarity(\"queen\", \"princess\")"
   ]
  },
  {
   "cell_type": "code",
   "execution_count": 10,
   "id": "30bb6ac6-5381-4713-9d0f-f134164e4355",
   "metadata": {},
   "outputs": [
    {
     "data": {
      "text/plain": [
       "array([-0.01446533, -0.12792969, -0.11572266, -0.22167969, -0.07373047,\n",
       "       -0.05981445, -0.10009766, -0.06884766,  0.14941406,  0.10107422,\n",
       "       -0.03076172, -0.03271484, -0.03125   , -0.10791016,  0.12158203,\n",
       "        0.16015625,  0.19335938,  0.0065918 , -0.15429688,  0.03710938,\n",
       "        0.22753906,  0.1953125 ,  0.08300781,  0.03686523, -0.02148438,\n",
       "        0.01483154, -0.21289062,  0.16015625,  0.29101562, -0.03149414,\n",
       "       -0.05883789,  0.04418945, -0.11767578, -0.12597656,  0.08447266,\n",
       "       -0.10791016, -0.11279297,  0.17871094,  0.04467773,  0.17675781,\n",
       "       -0.17089844, -0.02160645, -0.00061417, -0.17480469, -0.04760742,\n",
       "        0.06835938, -0.0546875 ,  0.04467773, -0.19628906, -0.18554688,\n",
       "       -0.10839844, -0.06030273,  0.11474609,  0.08544922,  0.05859375,\n",
       "        0.23925781, -0.07080078,  0.11816406, -0.11132812,  0.08300781,\n",
       "       -0.04394531,  0.00970459, -0.1484375 ,  0.265625  , -0.13769531,\n",
       "        0.23535156, -0.19824219,  0.31445312,  0.02734375,  0.16894531,\n",
       "        0.20898438, -0.0480957 ,  0.16015625, -0.00147247, -0.13085938,\n",
       "       -0.01312256,  0.07763672,  0.22851562,  0.13867188, -0.2578125 ,\n",
       "        0.06176758,  0.03955078,  0.13867188,  0.08154297,  0.00210571,\n",
       "       -0.05297852,  0.03222656,  0.02148438, -0.21582031,  0.30664062,\n",
       "       -0.05761719,  0.02722168, -0.28320312, -0.4140625 ,  0.01745605,\n",
       "        0.04101562,  0.00352478,  0.11279297,  0.046875  , -0.09960938,\n",
       "       -0.18945312, -0.24707031,  0.10058594,  0.35546875,  0.15625   ,\n",
       "        0.02319336,  0.125     , -0.12402344,  0.13378906,  0.17578125,\n",
       "        0.06494141, -0.10644531,  0.00714111, -0.40234375,  0.01989746,\n",
       "        0.11376953, -0.10644531, -0.19921875,  0.29492188,  0.15527344,\n",
       "       -0.13574219,  0.16601562, -0.18457031,  0.28125   ,  0.16992188,\n",
       "       -0.04345703, -0.203125  ,  0.02380371,  0.00268555,  0.125     ,\n",
       "       -0.14550781, -0.24121094, -0.125     , -0.12304688, -0.01251221,\n",
       "       -0.203125  ,  0.11132812,  0.04858398, -0.02246094, -0.19238281,\n",
       "        0.00221252, -0.13378906, -0.11035156,  0.1796875 ,  0.14648438,\n",
       "        0.11914062, -0.05419922, -0.3046875 , -0.14257812, -0.0019455 ,\n",
       "        0.296875  ,  0.34179688, -0.06396484, -0.00958252,  0.15527344,\n",
       "       -0.06494141, -0.12792969,  0.04736328,  0.00686646,  0.07910156,\n",
       "       -0.31445312,  0.15039062, -0.00558472, -0.00854492, -0.19726562,\n",
       "        0.0456543 , -0.0859375 , -0.3125    , -0.04931641, -0.17480469,\n",
       "        0.23632812,  0.0189209 , -0.01470947, -0.23632812, -0.48828125,\n",
       "       -0.09667969,  0.26953125,  0.2265625 , -0.33007812,  0.01855469,\n",
       "       -0.15332031, -0.13769531, -0.24316406,  0.12109375,  0.43945312,\n",
       "        0.05078125, -0.01574707,  0.14550781, -0.27148438,  0.05249023,\n",
       "       -0.12060547, -0.10742188, -0.22070312,  0.11132812,  0.00765991,\n",
       "        0.234375  , -0.2734375 ,  0.00512695, -0.01708984,  0.02258301,\n",
       "       -0.01031494,  0.19433594,  0.07226562,  0.02185059,  0.00915527,\n",
       "        0.15722656, -0.01733398, -0.01928711, -0.08837891,  0.01269531,\n",
       "        0.04125977, -0.05615234, -0.08105469, -0.40625   ,  0.04882812,\n",
       "        0.15136719, -0.06030273, -0.10791016, -0.3125    ,  0.00247192,\n",
       "        0.08007812,  0.203125  , -0.08789062,  0.06640625,  0.03417969,\n",
       "        0.20898438, -0.29101562,  0.20703125, -0.23730469, -0.05517578,\n",
       "        0.05737305, -0.13769531, -0.34960938, -0.20214844,  0.13671875,\n",
       "       -0.28710938,  0.00592041, -0.21289062, -0.25585938,  0.01397705,\n",
       "        0.3203125 , -0.01123047, -0.08544922, -0.16210938,  0.22558594,\n",
       "        0.05126953,  0.21386719, -0.00552368,  0.05932617, -0.06396484,\n",
       "       -0.04003906,  0.21191406,  0.12255859, -0.02954102,  0.18554688,\n",
       "        0.07421875,  0.20605469, -0.40429688, -0.05761719, -0.09521484,\n",
       "       -0.00830078, -0.14257812, -0.22265625, -0.22363281, -0.16601562,\n",
       "        0.29492188, -0.01190186, -0.11132812, -0.08642578, -0.19140625,\n",
       "        0.01818848,  0.17675781,  0.04077148, -0.2734375 , -0.00708008,\n",
       "       -0.09472656,  0.32421875,  0.05322266,  0.046875  ,  0.11376953,\n",
       "        0.15722656,  0.06201172,  0.07275391, -0.09179688, -0.09521484,\n",
       "       -0.10839844,  0.07470703,  0.10742188, -0.02856445,  0.16015625,\n",
       "       -0.07910156,  0.15722656, -0.06152344, -0.17480469,  0.08007812,\n",
       "       -0.13671875, -0.18359375, -0.05200195, -0.00585938, -0.15625   ],\n",
       "      dtype=float32)"
      ]
     },
     "execution_count": 10,
     "metadata": {},
     "output_type": "execute_result"
    }
   ],
   "source": [
    "word_vectors[\"phone\"]"
   ]
  },
  {
   "cell_type": "markdown",
   "id": "7be1d159-22e3-46e6-95e9-41c45b5b00e8",
   "metadata": {
    "tags": []
   },
   "source": [
    "### 6.2.4. How to generate your own word vector representations"
   ]
  },
  {
   "cell_type": "code",
   "execution_count": 23,
   "id": "f5597799-3846-4095-a569-06250fc13b6c",
   "metadata": {},
   "outputs": [
    {
     "data": {
      "text/plain": [
       "[['to',\n",
       "  'provide',\n",
       "  'early',\n",
       "  'intervention',\n",
       "  'childhood',\n",
       "  'special',\n",
       "  'education',\n",
       "  'services',\n",
       "  'to',\n",
       "  'eligible',\n",
       "  'children',\n",
       "  'and',\n",
       "  'their',\n",
       "  'families'],\n",
       " ['essential', 'job', 'functions'],\n",
       " ['participate',\n",
       "  'as',\n",
       "  'a',\n",
       "  'transdisciplinary',\n",
       "  'team',\n",
       "  'member',\n",
       "  'to',\n",
       "  'complete',\n",
       "  'educational',\n",
       "  'assessments',\n",
       "  'for']]"
      ]
     },
     "execution_count": 23,
     "metadata": {},
     "output_type": "execute_result"
    }
   ],
   "source": [
    "# token_list = [\n",
    "#     [\"to\", \"provide\", \"early\", \"intervention/early\", \"childhood\", \"special\", \"education\", \"services\", \"to\", \"eligible\",\n",
    "#      \"children\", \"and\", \"their\" \"families\"],\n",
    "#     [\"essential job functions\".split()],\n",
    "#     [\"participate as a transdisciplinary team member to complete educational assessments for\".split()]\n",
    "# ]\n",
    "token_list = [['to',\n",
    "  'provide',\n",
    "  'early',\n",
    "  'intervention',\n",
    "  'childhood',\n",
    "  'special',\n",
    "  'education',\n",
    "  'services',\n",
    "  'to',\n",
    "  'eligible',\n",
    "  'children',\n",
    "  'and',\n",
    "  'their',\n",
    "  'families'],\n",
    " ['essential', 'job', 'functions'],\n",
    " ['participate',\n",
    "   'as',\n",
    "   'a',\n",
    "   'transdisciplinary',\n",
    "   'team',\n",
    "   'member',\n",
    "   'to',\n",
    "   'complete',\n",
    "   'educational',\n",
    "   'assessments',\n",
    "   'for']]\n",
    "token_list"
   ]
  },
  {
   "cell_type": "code",
   "execution_count": 13,
   "id": "8c6b7cf4-335d-49f8-b45c-4bba3953860c",
   "metadata": {},
   "outputs": [],
   "source": [
    "from gensim.models.word2vec import Word2Vec\n",
    "\n",
    "num_features = 300   ## Number of vectorr elements (dimensions) to represent the word vector\n",
    "min_word_count = 3   ## Min number of word count to be considered in the Word2vec model. If your corpus is small,\n",
    "                     ## reduce the min count. If you're training with a large corpus, increase the min count.\n",
    "num_workers = 2      ## Number of CPU cores used for the training. If you want to set the number of cores\n",
    "                     ## dynamically, check out import multiprocessing; num_workers = multiprocessing.cpu_count().\n",
    "window_size = 6      ## Context window size\n",
    "subsampling = 1e-3   ## Subsampling rate for frequent terms"
   ]
  },
  {
   "cell_type": "code",
   "execution_count": 24,
   "id": "71ef4ebb-b88a-44b5-a01e-be1e07cd9328",
   "metadata": {},
   "outputs": [],
   "source": [
    "model = Word2Vec(\n",
    "    token_list,\n",
    "    workers=num_workers,\n",
    "    vector_size=num_features,\n",
    "    min_count=min_word_count,\n",
    "    window=window_size,\n",
    "    sample=subsampling)"
   ]
  },
  {
   "cell_type": "code",
   "execution_count": 25,
   "id": "6b931094-9590-4423-b46f-8fa922aa08c1",
   "metadata": {},
   "outputs": [
    {
     "name": "stderr",
     "output_type": "stream",
     "text": [
      "/tmp/ipykernel_302/1992334471.py:1: DeprecationWarning: Call to deprecated `init_sims` (Gensim 4.0.0 implemented internal optimizations that make calls to init_sims() unnecessary. init_sims() is now obsoleted and will be completely removed in future versions. See https://github.com/RaRe-Technologies/gensim/wiki/Migrating-from-Gensim-3.x-to-4).\n",
      "  model.init_sims(replace=True)\n"
     ]
    }
   ],
   "source": [
    "model.init_sims(replace=True)"
   ]
  },
  {
   "cell_type": "code",
   "execution_count": 26,
   "id": "2add9dfb-26d4-4d26-82b8-bc587a17f50c",
   "metadata": {},
   "outputs": [],
   "source": [
    "model_name = \"my_domain_specific_word2vec_model\"\n",
    "model.save(model_name)"
   ]
  },
  {
   "cell_type": "code",
   "execution_count": 28,
   "id": "363b17d0-0e58-4826-b304-7eb923f609a4",
   "metadata": {},
   "outputs": [],
   "source": [
    "model = Word2Vec.load(model_name)\n",
    "# model.most_similar(\"radiology\")"
   ]
  },
  {
   "cell_type": "markdown",
   "id": "c9dfa36f-90e0-4f50-8ade-9b34ad71375f",
   "metadata": {},
   "source": [
    "### 6.2.6. fastText"
   ]
  },
  {
   "cell_type": "code",
   "execution_count": 37,
   "id": "55cab4d6-6947-47ae-9a65-75ee75600432",
   "metadata": {},
   "outputs": [
    {
     "ename": "KeyboardInterrupt",
     "evalue": "",
     "output_type": "error",
     "traceback": [
      "\u001b[0;31m---------------------------------------------------------------------------\u001b[0m",
      "\u001b[0;31mKeyboardInterrupt\u001b[0m                         Traceback (most recent call last)",
      "Input \u001b[0;32mIn [37]\u001b[0m, in \u001b[0;36m<cell line: 7>\u001b[0;34m()\u001b[0m\n\u001b[1;32m      5\u001b[0m ft_wordvector_path \u001b[38;5;241m=\u001b[39m os\u001b[38;5;241m.\u001b[39mpath\u001b[38;5;241m.\u001b[39mjoin(\u001b[38;5;124m\"\u001b[39m\u001b[38;5;124m../../bigdata\u001b[39m\u001b[38;5;124m\"\u001b[39m, \u001b[38;5;124m'\u001b[39m\u001b[38;5;124mwiki.en.bin\u001b[39m\u001b[38;5;124m'\u001b[39m)\n\u001b[1;32m      6\u001b[0m \u001b[38;5;66;03m# ft_model = FastText.load_fasttext_format(model_file=ft_wordvector_path)\u001b[39;00m\n\u001b[0;32m----> 7\u001b[0m ft_model \u001b[38;5;241m=\u001b[39m \u001b[43mload_facebook_model\u001b[49m\u001b[43m(\u001b[49m\u001b[43mft_wordvector_path\u001b[49m\u001b[43m)\u001b[49m\n\u001b[1;32m      8\u001b[0m ft_model\u001b[38;5;241m.\u001b[39mmost_similar(\u001b[38;5;124m\"\u001b[39m\u001b[38;5;124msoccer\u001b[39m\u001b[38;5;124m\"\u001b[39m)\n",
      "File \u001b[0;32m/opt/conda/lib/python3.10/site-packages/gensim/models/fasttext.py:728\u001b[0m, in \u001b[0;36mload_facebook_model\u001b[0;34m(path, encoding)\u001b[0m\n\u001b[1;32m    666\u001b[0m \u001b[38;5;28;01mdef\u001b[39;00m \u001b[38;5;21mload_facebook_model\u001b[39m(path, encoding\u001b[38;5;241m=\u001b[39m\u001b[38;5;124m'\u001b[39m\u001b[38;5;124mutf-8\u001b[39m\u001b[38;5;124m'\u001b[39m):\n\u001b[1;32m    667\u001b[0m     \u001b[38;5;124;03m\"\"\"Load the model from Facebook's native fasttext `.bin` output file.\u001b[39;00m\n\u001b[1;32m    668\u001b[0m \n\u001b[1;32m    669\u001b[0m \u001b[38;5;124;03m    Notes\u001b[39;00m\n\u001b[0;32m   (...)\u001b[0m\n\u001b[1;32m    726\u001b[0m \n\u001b[1;32m    727\u001b[0m \u001b[38;5;124;03m    \"\"\"\u001b[39;00m\n\u001b[0;32m--> 728\u001b[0m     \u001b[38;5;28;01mreturn\u001b[39;00m \u001b[43m_load_fasttext_format\u001b[49m\u001b[43m(\u001b[49m\u001b[43mpath\u001b[49m\u001b[43m,\u001b[49m\u001b[43m \u001b[49m\u001b[43mencoding\u001b[49m\u001b[38;5;241;43m=\u001b[39;49m\u001b[43mencoding\u001b[49m\u001b[43m,\u001b[49m\u001b[43m \u001b[49m\u001b[43mfull_model\u001b[49m\u001b[38;5;241;43m=\u001b[39;49m\u001b[38;5;28;43;01mTrue\u001b[39;49;00m\u001b[43m)\u001b[49m\n",
      "File \u001b[0;32m/opt/conda/lib/python3.10/site-packages/gensim/models/fasttext.py:808\u001b[0m, in \u001b[0;36m_load_fasttext_format\u001b[0;34m(model_file, encoding, full_model)\u001b[0m\n\u001b[1;32m    789\u001b[0m \u001b[38;5;124;03m\"\"\"Load the input-hidden weight matrix from Facebook's native fasttext `.bin` output files.\u001b[39;00m\n\u001b[1;32m    790\u001b[0m \n\u001b[1;32m    791\u001b[0m \u001b[38;5;124;03mParameters\u001b[39;00m\n\u001b[0;32m   (...)\u001b[0m\n\u001b[1;32m    805\u001b[0m \n\u001b[1;32m    806\u001b[0m \u001b[38;5;124;03m\"\"\"\u001b[39;00m\n\u001b[1;32m    807\u001b[0m \u001b[38;5;28;01mwith\u001b[39;00m utils\u001b[38;5;241m.\u001b[39mopen(model_file, \u001b[38;5;124m'\u001b[39m\u001b[38;5;124mrb\u001b[39m\u001b[38;5;124m'\u001b[39m) \u001b[38;5;28;01mas\u001b[39;00m fin:\n\u001b[0;32m--> 808\u001b[0m     m \u001b[38;5;241m=\u001b[39m \u001b[43mgensim\u001b[49m\u001b[38;5;241;43m.\u001b[39;49m\u001b[43mmodels\u001b[49m\u001b[38;5;241;43m.\u001b[39;49m\u001b[43m_fasttext_bin\u001b[49m\u001b[38;5;241;43m.\u001b[39;49m\u001b[43mload\u001b[49m\u001b[43m(\u001b[49m\u001b[43mfin\u001b[49m\u001b[43m,\u001b[49m\u001b[43m \u001b[49m\u001b[43mencoding\u001b[49m\u001b[38;5;241;43m=\u001b[39;49m\u001b[43mencoding\u001b[49m\u001b[43m,\u001b[49m\u001b[43m \u001b[49m\u001b[43mfull_model\u001b[49m\u001b[38;5;241;43m=\u001b[39;49m\u001b[43mfull_model\u001b[49m\u001b[43m)\u001b[49m\n\u001b[1;32m    810\u001b[0m model \u001b[38;5;241m=\u001b[39m FastText(\n\u001b[1;32m    811\u001b[0m     vector_size\u001b[38;5;241m=\u001b[39mm\u001b[38;5;241m.\u001b[39mdim,\n\u001b[1;32m    812\u001b[0m     window\u001b[38;5;241m=\u001b[39mm\u001b[38;5;241m.\u001b[39mws,\n\u001b[0;32m   (...)\u001b[0m\n\u001b[1;32m    821\u001b[0m     max_n\u001b[38;5;241m=\u001b[39mm\u001b[38;5;241m.\u001b[39mmaxn,\n\u001b[1;32m    822\u001b[0m )\n\u001b[1;32m    823\u001b[0m model\u001b[38;5;241m.\u001b[39mcorpus_total_words \u001b[38;5;241m=\u001b[39m m\u001b[38;5;241m.\u001b[39mntokens\n",
      "File \u001b[0;32m/opt/conda/lib/python3.10/site-packages/gensim/models/_fasttext_bin.py:348\u001b[0m, in \u001b[0;36mload\u001b[0;34m(fin, encoding, full_model)\u001b[0m\n\u001b[1;32m    345\u001b[0m raw_vocab, vocab_size, nwords, ntokens \u001b[38;5;241m=\u001b[39m _load_vocab(fin, new_format, encoding\u001b[38;5;241m=\u001b[39mencoding)\n\u001b[1;32m    346\u001b[0m model\u001b[38;5;241m.\u001b[39mupdate(raw_vocab\u001b[38;5;241m=\u001b[39mraw_vocab, vocab_size\u001b[38;5;241m=\u001b[39mvocab_size, nwords\u001b[38;5;241m=\u001b[39mnwords, ntokens\u001b[38;5;241m=\u001b[39mntokens)\n\u001b[0;32m--> 348\u001b[0m vectors_ngrams \u001b[38;5;241m=\u001b[39m \u001b[43m_load_matrix\u001b[49m\u001b[43m(\u001b[49m\u001b[43mfin\u001b[49m\u001b[43m,\u001b[49m\u001b[43m \u001b[49m\u001b[43mnew_format\u001b[49m\u001b[38;5;241;43m=\u001b[39;49m\u001b[43mnew_format\u001b[49m\u001b[43m)\u001b[49m\n\u001b[1;32m    350\u001b[0m \u001b[38;5;28;01mif\u001b[39;00m \u001b[38;5;129;01mnot\u001b[39;00m full_model:\n\u001b[1;32m    351\u001b[0m     hidden_output \u001b[38;5;241m=\u001b[39m \u001b[38;5;28;01mNone\u001b[39;00m\n",
      "File \u001b[0;32m/opt/conda/lib/python3.10/site-packages/gensim/models/_fasttext_bin.py:282\u001b[0m, in \u001b[0;36m_load_matrix\u001b[0;34m(fin, new_format)\u001b[0m\n\u001b[1;32m    280\u001b[0m     matrix \u001b[38;5;241m=\u001b[39m _fromfile(fin, _FLOAT_DTYPE, count)\n\u001b[1;32m    281\u001b[0m \u001b[38;5;28;01melse\u001b[39;00m:\n\u001b[0;32m--> 282\u001b[0m     matrix \u001b[38;5;241m=\u001b[39m \u001b[43mnp\u001b[49m\u001b[38;5;241;43m.\u001b[39;49m\u001b[43mfromfile\u001b[49m\u001b[43m(\u001b[49m\u001b[43mfin\u001b[49m\u001b[43m,\u001b[49m\u001b[43m \u001b[49m\u001b[43m_FLOAT_DTYPE\u001b[49m\u001b[43m,\u001b[49m\u001b[43m \u001b[49m\u001b[43mcount\u001b[49m\u001b[43m)\u001b[49m\n\u001b[1;32m    284\u001b[0m \u001b[38;5;28;01massert\u001b[39;00m matrix\u001b[38;5;241m.\u001b[39mshape \u001b[38;5;241m==\u001b[39m (count,), \u001b[38;5;124m'\u001b[39m\u001b[38;5;124mexpected (\u001b[39m\u001b[38;5;132;01m%r\u001b[39;00m\u001b[38;5;124m,),  got \u001b[39m\u001b[38;5;132;01m%r\u001b[39;00m\u001b[38;5;124m'\u001b[39m \u001b[38;5;241m%\u001b[39m (count, matrix\u001b[38;5;241m.\u001b[39mshape)\n\u001b[1;32m    285\u001b[0m matrix \u001b[38;5;241m=\u001b[39m matrix\u001b[38;5;241m.\u001b[39mreshape((num_vectors, dim))\n",
      "\u001b[0;31mKeyboardInterrupt\u001b[0m: "
     ]
    }
   ],
   "source": [
    "# from gensim.models.fasttext import FastText\n",
    "from gensim.models.fasttext import load_facebook_model\n",
    "\n",
    "## https://fasttext.cc/docs/en/pretrained-vectors.html\n",
    "ft_wordvector_path = os.path.join(\"../../bigdata\", 'wiki.en.bin')\n",
    "# ft_model = FastText.load_fasttext_format(model_file=ft_wordvector_path)\n",
    "ft_model = load_facebook_model(ft_wordvector_path)\n",
    "ft_model.most_similar(\"soccer\")"
   ]
  }
 ],
 "metadata": {
  "kernelspec": {
   "display_name": "Python 3 (ipykernel)",
   "language": "python",
   "name": "python3"
  },
  "language_info": {
   "codemirror_mode": {
    "name": "ipython",
    "version": 3
   },
   "file_extension": ".py",
   "mimetype": "text/x-python",
   "name": "python",
   "nbconvert_exporter": "python",
   "pygments_lexer": "ipython3",
   "version": "3.10.6"
  }
 },
 "nbformat": 4,
 "nbformat_minor": 5
}
