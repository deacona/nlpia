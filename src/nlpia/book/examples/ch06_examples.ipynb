{
 "cells": [
  {
   "cell_type": "markdown",
   "id": "a4b0b728-ef8e-4451-8f59-8cea314c5ed0",
   "metadata": {
    "tags": []
   },
   "source": [
    "# 6. Reasoning with word vectors (Word2vec)"
   ]
  },
  {
   "cell_type": "markdown",
   "id": "9bcd5748-e1bd-4ed6-9b40-e7696546a289",
   "metadata": {
    "tags": []
   },
   "source": [
    "## 6.2. Word vectors"
   ]
  },
  {
   "cell_type": "code",
   "execution_count": 1,
   "id": "8b6861ad-2617-4df9-b564-7bbc798168b9",
   "metadata": {},
   "outputs": [],
   "source": [
    "## can't get this to work :(\n",
    "\n",
    "# !pip install ipdb\n",
    "# import numpy as np\n",
    "# !pip install --upgrade numpy #==1.20.3\n",
    "# !pip uninstall pycocotools\n",
    "# !pip install pycocotools --no-binary pycocotools\n",
    "\n",
    "# from nlpia.book.examples.ch06_nessvectors import *\n",
    "# nessvector('Marie_Curie').round(2)"
   ]
  },
  {
   "cell_type": "markdown",
   "id": "697dbfd5-8518-4708-938c-d560304d9282",
   "metadata": {
    "tags": []
   },
   "source": [
    "### 6.2.3. How to use the gensim.word2vec module"
   ]
  },
  {
   "cell_type": "code",
   "execution_count": 2,
   "id": "333afb65-0b1f-4306-94a8-9e67a0ab866f",
   "metadata": {},
   "outputs": [],
   "source": [
    "import os\n",
    "from gensim.models.keyedvectors import KeyedVectors\n",
    "# from nlpia.data.loaders import BIGDATA_PATH\n",
    "\n",
    "# not in book, reader required to compose this path\n",
    "# wordvector_path = os.path.join(BIGDATA_PATH, 'GoogleNews-vectors-negative300.bin.gz')\n",
    "## https://drive.google.com/file/d/0B7XkCwpI5KDYNlNUTTlSS21pQmM/edit?resourcekey=0-wjGZdNAUop6WykTtMip30g\n",
    "wordvector_path = os.path.join(\"../../bigdata\", 'GoogleNews-vectors-negative300.bin.gz')\n",
    "\n",
    "word_vectors = KeyedVectors.load_word2vec_format(wordvector_path, binary=True, limit=200000)"
   ]
  },
  {
   "cell_type": "code",
   "execution_count": 3,
   "id": "bb24583b-bc6b-4f6b-b175-7ffdc52bf480",
   "metadata": {},
   "outputs": [
    {
     "data": {
      "text/plain": [
       "[('cook', 0.6973530650138855),\n",
       " ('sweet_potatoes', 0.6600280404090881),\n",
       " ('vegetables', 0.6513738036155701),\n",
       " ('onions', 0.6512383222579956),\n",
       " ('baking', 0.6481683850288391)]"
      ]
     },
     "execution_count": 3,
     "metadata": {},
     "output_type": "execute_result"
    }
   ],
   "source": [
    "word_vectors.most_similar(positive=[\"cooking\", \"potatoes\"], topn=5)"
   ]
  },
  {
   "cell_type": "code",
   "execution_count": 4,
   "id": "5c770d06-bc0a-4ff2-85e4-66a29850cbde",
   "metadata": {},
   "outputs": [],
   "source": [
    "## can't get this to work :(\n",
    "## KeyError: \"Key 'germany' not present in vocabulary\"\n",
    "# word_vectors.most_similar(positive=[\"germany\", \"france\"], topn=1)"
   ]
  },
  {
   "cell_type": "code",
   "execution_count": 5,
   "id": "f6938764-c07e-4bfc-af79-dd8eb5902e37",
   "metadata": {},
   "outputs": [
    {
     "data": {
      "text/plain": [
       "'computer'"
      ]
     },
     "execution_count": 5,
     "metadata": {},
     "output_type": "execute_result"
    }
   ],
   "source": [
    "word_vectors.doesnt_match(\"potatoes milk cake computer\".split())"
   ]
  },
  {
   "cell_type": "code",
   "execution_count": 6,
   "id": "5323b60e-d7e9-4520-a6a1-b279e2ecc090",
   "metadata": {},
   "outputs": [
    {
     "data": {
      "text/plain": [
       "[('queen', 0.7118193507194519), ('monarch', 0.6189674139022827)]"
      ]
     },
     "execution_count": 6,
     "metadata": {},
     "output_type": "execute_result"
    }
   ],
   "source": [
    "word_vectors.most_similar(positive=[\"king\", \"woman\"], negative=[\"man\"], topn=2)"
   ]
  },
  {
   "cell_type": "code",
   "execution_count": 7,
   "id": "756f3187-cba6-4dc0-9b8c-553d653384c9",
   "metadata": {},
   "outputs": [
    {
     "data": {
      "text/plain": [
       "0.7070532"
      ]
     },
     "execution_count": 7,
     "metadata": {},
     "output_type": "execute_result"
    }
   ],
   "source": [
    "word_vectors.similarity(\"queen\", \"princess\")"
   ]
  },
  {
   "cell_type": "code",
   "execution_count": 8,
   "id": "30bb6ac6-5381-4713-9d0f-f134164e4355",
   "metadata": {},
   "outputs": [
    {
     "data": {
      "text/plain": [
       "array([-0.01446533, -0.12792969, -0.11572266, -0.22167969, -0.07373047,\n",
       "       -0.05981445, -0.10009766, -0.06884766,  0.14941406,  0.10107422,\n",
       "       -0.03076172, -0.03271484, -0.03125   , -0.10791016,  0.12158203,\n",
       "        0.16015625,  0.19335938,  0.0065918 , -0.15429688,  0.03710938,\n",
       "        0.22753906,  0.1953125 ,  0.08300781,  0.03686523, -0.02148438,\n",
       "        0.01483154, -0.21289062,  0.16015625,  0.29101562, -0.03149414,\n",
       "       -0.05883789,  0.04418945, -0.11767578, -0.12597656,  0.08447266,\n",
       "       -0.10791016, -0.11279297,  0.17871094,  0.04467773,  0.17675781,\n",
       "       -0.17089844, -0.02160645, -0.00061417, -0.17480469, -0.04760742,\n",
       "        0.06835938, -0.0546875 ,  0.04467773, -0.19628906, -0.18554688,\n",
       "       -0.10839844, -0.06030273,  0.11474609,  0.08544922,  0.05859375,\n",
       "        0.23925781, -0.07080078,  0.11816406, -0.11132812,  0.08300781,\n",
       "       -0.04394531,  0.00970459, -0.1484375 ,  0.265625  , -0.13769531,\n",
       "        0.23535156, -0.19824219,  0.31445312,  0.02734375,  0.16894531,\n",
       "        0.20898438, -0.0480957 ,  0.16015625, -0.00147247, -0.13085938,\n",
       "       -0.01312256,  0.07763672,  0.22851562,  0.13867188, -0.2578125 ,\n",
       "        0.06176758,  0.03955078,  0.13867188,  0.08154297,  0.00210571,\n",
       "       -0.05297852,  0.03222656,  0.02148438, -0.21582031,  0.30664062,\n",
       "       -0.05761719,  0.02722168, -0.28320312, -0.4140625 ,  0.01745605,\n",
       "        0.04101562,  0.00352478,  0.11279297,  0.046875  , -0.09960938,\n",
       "       -0.18945312, -0.24707031,  0.10058594,  0.35546875,  0.15625   ,\n",
       "        0.02319336,  0.125     , -0.12402344,  0.13378906,  0.17578125,\n",
       "        0.06494141, -0.10644531,  0.00714111, -0.40234375,  0.01989746,\n",
       "        0.11376953, -0.10644531, -0.19921875,  0.29492188,  0.15527344,\n",
       "       -0.13574219,  0.16601562, -0.18457031,  0.28125   ,  0.16992188,\n",
       "       -0.04345703, -0.203125  ,  0.02380371,  0.00268555,  0.125     ,\n",
       "       -0.14550781, -0.24121094, -0.125     , -0.12304688, -0.01251221,\n",
       "       -0.203125  ,  0.11132812,  0.04858398, -0.02246094, -0.19238281,\n",
       "        0.00221252, -0.13378906, -0.11035156,  0.1796875 ,  0.14648438,\n",
       "        0.11914062, -0.05419922, -0.3046875 , -0.14257812, -0.0019455 ,\n",
       "        0.296875  ,  0.34179688, -0.06396484, -0.00958252,  0.15527344,\n",
       "       -0.06494141, -0.12792969,  0.04736328,  0.00686646,  0.07910156,\n",
       "       -0.31445312,  0.15039062, -0.00558472, -0.00854492, -0.19726562,\n",
       "        0.0456543 , -0.0859375 , -0.3125    , -0.04931641, -0.17480469,\n",
       "        0.23632812,  0.0189209 , -0.01470947, -0.23632812, -0.48828125,\n",
       "       -0.09667969,  0.26953125,  0.2265625 , -0.33007812,  0.01855469,\n",
       "       -0.15332031, -0.13769531, -0.24316406,  0.12109375,  0.43945312,\n",
       "        0.05078125, -0.01574707,  0.14550781, -0.27148438,  0.05249023,\n",
       "       -0.12060547, -0.10742188, -0.22070312,  0.11132812,  0.00765991,\n",
       "        0.234375  , -0.2734375 ,  0.00512695, -0.01708984,  0.02258301,\n",
       "       -0.01031494,  0.19433594,  0.07226562,  0.02185059,  0.00915527,\n",
       "        0.15722656, -0.01733398, -0.01928711, -0.08837891,  0.01269531,\n",
       "        0.04125977, -0.05615234, -0.08105469, -0.40625   ,  0.04882812,\n",
       "        0.15136719, -0.06030273, -0.10791016, -0.3125    ,  0.00247192,\n",
       "        0.08007812,  0.203125  , -0.08789062,  0.06640625,  0.03417969,\n",
       "        0.20898438, -0.29101562,  0.20703125, -0.23730469, -0.05517578,\n",
       "        0.05737305, -0.13769531, -0.34960938, -0.20214844,  0.13671875,\n",
       "       -0.28710938,  0.00592041, -0.21289062, -0.25585938,  0.01397705,\n",
       "        0.3203125 , -0.01123047, -0.08544922, -0.16210938,  0.22558594,\n",
       "        0.05126953,  0.21386719, -0.00552368,  0.05932617, -0.06396484,\n",
       "       -0.04003906,  0.21191406,  0.12255859, -0.02954102,  0.18554688,\n",
       "        0.07421875,  0.20605469, -0.40429688, -0.05761719, -0.09521484,\n",
       "       -0.00830078, -0.14257812, -0.22265625, -0.22363281, -0.16601562,\n",
       "        0.29492188, -0.01190186, -0.11132812, -0.08642578, -0.19140625,\n",
       "        0.01818848,  0.17675781,  0.04077148, -0.2734375 , -0.00708008,\n",
       "       -0.09472656,  0.32421875,  0.05322266,  0.046875  ,  0.11376953,\n",
       "        0.15722656,  0.06201172,  0.07275391, -0.09179688, -0.09521484,\n",
       "       -0.10839844,  0.07470703,  0.10742188, -0.02856445,  0.16015625,\n",
       "       -0.07910156,  0.15722656, -0.06152344, -0.17480469,  0.08007812,\n",
       "       -0.13671875, -0.18359375, -0.05200195, -0.00585938, -0.15625   ],\n",
       "      dtype=float32)"
      ]
     },
     "execution_count": 8,
     "metadata": {},
     "output_type": "execute_result"
    }
   ],
   "source": [
    "word_vectors[\"phone\"]"
   ]
  },
  {
   "cell_type": "markdown",
   "id": "7be1d159-22e3-46e6-95e9-41c45b5b00e8",
   "metadata": {
    "tags": []
   },
   "source": [
    "### 6.2.4. How to generate your own word vector representations"
   ]
  },
  {
   "cell_type": "code",
   "execution_count": 9,
   "id": "f5597799-3846-4095-a569-06250fc13b6c",
   "metadata": {},
   "outputs": [
    {
     "data": {
      "text/plain": [
       "[['to',\n",
       "  'provide',\n",
       "  'early',\n",
       "  'intervention',\n",
       "  'childhood',\n",
       "  'special',\n",
       "  'education',\n",
       "  'services',\n",
       "  'to',\n",
       "  'eligible',\n",
       "  'children',\n",
       "  'and',\n",
       "  'their',\n",
       "  'families'],\n",
       " ['essential', 'job', 'functions'],\n",
       " ['participate',\n",
       "  'as',\n",
       "  'a',\n",
       "  'transdisciplinary',\n",
       "  'team',\n",
       "  'member',\n",
       "  'to',\n",
       "  'complete',\n",
       "  'educational',\n",
       "  'assessments',\n",
       "  'for']]"
      ]
     },
     "execution_count": 9,
     "metadata": {},
     "output_type": "execute_result"
    }
   ],
   "source": [
    "# token_list = [\n",
    "#     [\"to\", \"provide\", \"early\", \"intervention/early\", \"childhood\", \"special\", \"education\", \"services\", \"to\", \"eligible\",\n",
    "#      \"children\", \"and\", \"their\" \"families\"],\n",
    "#     [\"essential job functions\".split()],\n",
    "#     [\"participate as a transdisciplinary team member to complete educational assessments for\".split()]\n",
    "# ]\n",
    "token_list = [['to',\n",
    "  'provide',\n",
    "  'early',\n",
    "  'intervention',\n",
    "  'childhood',\n",
    "  'special',\n",
    "  'education',\n",
    "  'services',\n",
    "  'to',\n",
    "  'eligible',\n",
    "  'children',\n",
    "  'and',\n",
    "  'their',\n",
    "  'families'],\n",
    " ['essential', 'job', 'functions'],\n",
    " ['participate',\n",
    "   'as',\n",
    "   'a',\n",
    "   'transdisciplinary',\n",
    "   'team',\n",
    "   'member',\n",
    "   'to',\n",
    "   'complete',\n",
    "   'educational',\n",
    "   'assessments',\n",
    "   'for']]\n",
    "token_list"
   ]
  },
  {
   "cell_type": "code",
   "execution_count": 10,
   "id": "8c6b7cf4-335d-49f8-b45c-4bba3953860c",
   "metadata": {},
   "outputs": [],
   "source": [
    "from gensim.models.word2vec import Word2Vec\n",
    "\n",
    "num_features = 300   ## Number of vectorr elements (dimensions) to represent the word vector\n",
    "min_word_count = 3   ## Min number of word count to be considered in the Word2vec model. If your corpus is small,\n",
    "                     ## reduce the min count. If you're training with a large corpus, increase the min count.\n",
    "num_workers = 2      ## Number of CPU cores used for the training. If you want to set the number of cores\n",
    "                     ## dynamically, check out import multiprocessing; num_workers = multiprocessing.cpu_count().\n",
    "window_size = 6      ## Context window size\n",
    "subsampling = 1e-3   ## Subsampling rate for frequent terms"
   ]
  },
  {
   "cell_type": "code",
   "execution_count": 11,
   "id": "71ef4ebb-b88a-44b5-a01e-be1e07cd9328",
   "metadata": {},
   "outputs": [],
   "source": [
    "model = Word2Vec(\n",
    "    token_list,\n",
    "    workers=num_workers,\n",
    "    vector_size=num_features,\n",
    "    min_count=min_word_count,\n",
    "    window=window_size,\n",
    "    sample=subsampling)"
   ]
  },
  {
   "cell_type": "code",
   "execution_count": 12,
   "id": "6b931094-9590-4423-b46f-8fa922aa08c1",
   "metadata": {},
   "outputs": [
    {
     "name": "stderr",
     "output_type": "stream",
     "text": [
      "/tmp/ipykernel_142/1992334471.py:1: DeprecationWarning: Call to deprecated `init_sims` (Gensim 4.0.0 implemented internal optimizations that make calls to init_sims() unnecessary. init_sims() is now obsoleted and will be completely removed in future versions. See https://github.com/RaRe-Technologies/gensim/wiki/Migrating-from-Gensim-3.x-to-4).\n",
      "  model.init_sims(replace=True)\n"
     ]
    }
   ],
   "source": [
    "model.init_sims(replace=True)"
   ]
  },
  {
   "cell_type": "code",
   "execution_count": 13,
   "id": "2add9dfb-26d4-4d26-82b8-bc587a17f50c",
   "metadata": {},
   "outputs": [],
   "source": [
    "model_name = \"my_domain_specific_word2vec_model\"\n",
    "model.save(model_name)"
   ]
  },
  {
   "cell_type": "code",
   "execution_count": 14,
   "id": "363b17d0-0e58-4826-b304-7eb923f609a4",
   "metadata": {},
   "outputs": [],
   "source": [
    "model = Word2Vec.load(model_name)\n",
    "# model.most_similar(\"radiology\")"
   ]
  },
  {
   "cell_type": "markdown",
   "id": "c9dfa36f-90e0-4f50-8ade-9b34ad71375f",
   "metadata": {},
   "source": [
    "### 6.2.6. fastText"
   ]
  },
  {
   "cell_type": "code",
   "execution_count": 15,
   "id": "72aa8b67-92b3-4475-bb41-f6ab866f8069",
   "metadata": {},
   "outputs": [],
   "source": [
    "## can't get this to work :(\n",
    "# # from gensim.models.fasttext import FastText\n",
    "# from gensim.models.fasttext import load_facebook_model\n",
    "\n",
    "# ## https://fasttext.cc/docs/en/pretrained-vectors.html\n",
    "# ft_wordvector_path = os.path.join(\"../../bigdata\", 'wiki.en.bin')\n",
    "# # ft_wordvector_path = os.path.join(\"../../bigdata\", 'wiki-news-300d-1M.vec')\n",
    "# # ft_model = FastText.load_fasttext_format(model_file=ft_wordvector_path)\n",
    "# ft_model = load_facebook_model(ft_wordvector_path)\n",
    "\n",
    "# ft_model.most_similar(\"soccer\")"
   ]
  },
  {
   "cell_type": "markdown",
   "id": "ea52bb37-af71-4423-92ef-dcb2e8e68fa3",
   "metadata": {},
   "source": [
    "### 6.2.8. Visualising word relationships"
   ]
  },
  {
   "cell_type": "code",
   "execution_count": 16,
   "id": "961e6449-4547-4324-a7bf-b7a5d2d0f693",
   "metadata": {},
   "outputs": [
    {
     "data": {
      "text/plain": [
       "200000"
      ]
     },
     "execution_count": 16,
     "metadata": {},
     "output_type": "execute_result"
    }
   ],
   "source": [
    "len(word_vectors)"
   ]
  },
  {
   "cell_type": "code",
   "execution_count": 17,
   "id": "1af18708-fa79-431d-ae1d-594e7a59dece",
   "metadata": {},
   "outputs": [
    {
     "data": {
      "text/plain": [
       "55930                      Illicit\n",
       "55931                  Illingworth\n",
       "55932                       Illini\n",
       "55933                     Illinois\n",
       "55934          Illinois_Tool_Works\n",
       "55935    Illinois_Urbana_Champaign\n",
       "dtype: object"
      ]
     },
     "execution_count": 17,
     "metadata": {},
     "output_type": "execute_result"
    }
   ],
   "source": [
    "import pandas as pd\n",
    "\n",
    "# vocab = pd.Series(word_vectors.vocab)\n",
    "vocab = pd.Series(sorted(word_vectors.index_to_key))\n",
    "vocab.iloc[55930:55936]"
   ]
  },
  {
   "cell_type": "code",
   "execution_count": 18,
   "id": "c21dd73b-0cc4-4e0a-8e94-9fdfe5b4eb7b",
   "metadata": {},
   "outputs": [
    {
     "data": {
      "text/plain": [
       "array([ 0.15625   ,  0.18652344,  0.33203125,  0.55859375,  0.03637695,\n",
       "       -0.09375   , -0.05029297,  0.16796875, -0.0625    ,  0.09912109,\n",
       "       -0.0291748 ,  0.39257812,  0.05395508,  0.35351562, -0.02270508,\n",
       "        0.05957031,  0.06640625, -0.24511719,  0.32617188, -0.00149536,\n",
       "        0.46875   , -0.00534058,  0.03271484,  0.36523438, -0.3046875 ,\n",
       "       -0.08984375,  0.04956055,  0.08691406,  0.18847656, -0.16992188,\n",
       "       -0.1328125 , -0.19433594,  0.11230469, -0.33984375,  0.03588867,\n",
       "        0.07373047,  0.1328125 ,  0.02270508, -0.06005859,  0.421875  ,\n",
       "        0.25195312, -0.39257812,  0.01733398, -0.28320312, -0.33203125,\n",
       "        0.12890625, -0.16992188,  0.21289062,  0.15039062,  0.12207031,\n",
       "        0.15820312,  0.02307129, -0.359375  , -0.046875  ,  0.01672363,\n",
       "        0.14257812, -0.01477051,  0.3828125 , -0.06079102, -0.390625  ,\n",
       "        0.06176758, -0.06738281, -0.06884766,  0.1640625 , -0.08007812,\n",
       "        0.2421875 ,  0.02380371,  0.07177734, -0.03808594,  0.51953125,\n",
       "       -0.12255859,  0.10498047, -0.43945312, -0.30273438, -0.01733398,\n",
       "       -0.19238281, -0.34765625, -0.30664062, -0.21972656, -0.06079102,\n",
       "       -0.34570312, -0.55078125, -0.13867188, -0.11621094, -0.02038574,\n",
       "        0.18066406, -0.08789062, -0.00268555,  0.00848389, -0.171875  ,\n",
       "       -0.51171875, -0.36132812, -0.20214844,  0.15429688,  0.28320312,\n",
       "       -0.234375  ,  0.23925781, -0.18945312, -0.06787109, -0.1640625 ,\n",
       "        0.08935547, -0.19726562,  0.19628906,  0.09130859, -0.27539062,\n",
       "        0.17285156, -0.01428223,  0.00527954, -0.04638672, -0.22460938,\n",
       "        0.23535156, -0.05371094,  0.02844238,  0.3046875 ,  0.44921875,\n",
       "        0.06494141, -0.140625  , -0.00878906, -0.04614258, -0.19921875,\n",
       "       -0.75      , -0.3515625 , -0.25      , -0.33789062, -0.00167084,\n",
       "       -0.00994873,  0.11474609,  0.09228516, -0.21484375,  0.31445312,\n",
       "        0.13378906,  0.25976562, -0.00270081,  0.09570312, -0.03222656,\n",
       "       -0.16894531,  0.19433594,  0.453125  , -0.15527344, -0.02270508,\n",
       "       -0.05053711, -0.234375  , -0.05004883, -0.20019531, -0.18359375,\n",
       "        0.28515625, -0.23339844, -0.17089844,  0.05444336, -0.18847656,\n",
       "       -0.00357056,  0.28710938, -0.1015625 ,  0.13085938, -0.10302734,\n",
       "       -0.37890625,  0.25195312,  0.00289917, -0.24121094, -0.06640625,\n",
       "        0.20019531,  0.03540039,  0.296875  ,  0.22167969, -0.02563477,\n",
       "       -0.56640625,  0.21289062,  0.24707031,  0.17773438,  0.17382812,\n",
       "       -0.0534668 ,  0.1484375 ,  0.11474609,  0.03613281, -0.33789062,\n",
       "       -0.25585938,  0.0480957 , -0.10742188, -0.05126953, -0.15820312,\n",
       "       -0.09814453,  0.26757812,  0.5703125 , -0.25390625, -0.21484375,\n",
       "       -0.03320312, -0.16796875,  0.26171875,  0.29492188,  0.13671875,\n",
       "        0.26757812, -0.01416016,  0.06445312, -0.00787354, -0.14941406,\n",
       "        0.01721191, -0.07177734, -0.16601562,  0.15527344, -0.22167969,\n",
       "        0.00469971, -0.2578125 , -0.0703125 , -0.12109375,  0.234375  ,\n",
       "       -0.06933594,  0.32617188, -0.39648438, -0.21679688,  0.06030273,\n",
       "       -0.01495361,  0.09619141,  0.04248047, -0.10253906, -0.24707031,\n",
       "       -0.06298828,  0.44726562,  0.13378906,  0.14648438, -0.30859375,\n",
       "       -0.40625   ,  0.31640625, -0.18847656, -0.20703125,  0.16601562,\n",
       "        0.22851562,  0.25976562,  0.38867188, -0.09472656, -0.51953125,\n",
       "       -0.265625  ,  0.11083984,  0.05395508,  0.25585938, -0.34765625,\n",
       "       -0.18164062,  0.32421875, -0.21289062, -0.02307129, -0.03662109,\n",
       "        0.359375  , -0.05419922,  0.20019531, -0.75390625,  0.18457031,\n",
       "        0.359375  , -0.53515625, -0.03442383, -0.203125  , -0.24023438,\n",
       "        0.09326172, -0.11474609, -0.12988281,  0.02880859, -0.02270508,\n",
       "       -0.19824219,  0.14648438, -0.08056641,  0.1796875 , -0.234375  ,\n",
       "       -0.09619141,  0.01043701,  0.03833008,  0.07666016,  0.17871094,\n",
       "        0.46289062, -0.05004883, -0.21972656, -0.07080078,  0.06787109,\n",
       "       -0.08398438, -0.328125  ,  0.02600098,  0.07080078,  0.00157928,\n",
       "        0.19042969,  0.49804688, -0.23632812,  0.07617188, -0.22070312,\n",
       "        0.11474609, -0.06103516,  0.34179688, -0.18945312,  0.3671875 ,\n",
       "       -0.18164062,  0.48632812,  0.12402344,  0.04150391,  0.12695312,\n",
       "       -0.15722656,  0.16210938, -0.21386719, -0.24316406,  0.15917969,\n",
       "        0.17480469, -0.06396484, -0.10693359,  0.07617188,  0.20410156],\n",
       "      dtype=float32)"
      ]
     },
     "execution_count": 18,
     "metadata": {},
     "output_type": "execute_result"
    }
   ],
   "source": [
    "word_vectors[\"Illini\"]"
   ]
  },
  {
   "cell_type": "code",
   "execution_count": 19,
   "id": "ea6422b2-5281-4b89-bc52-0bbc6cc57c97",
   "metadata": {},
   "outputs": [
    {
     "data": {
      "text/plain": [
       "3.36538"
      ]
     },
     "execution_count": 19,
     "metadata": {},
     "output_type": "execute_result"
    }
   ],
   "source": [
    "import numpy as np\n",
    "\n",
    "np.linalg.norm(word_vectors[\"Illinois\"] - word_vectors[\"Illini\"])"
   ]
  },
  {
   "cell_type": "code",
   "execution_count": 20,
   "id": "b1d8bbcb-b485-4746-a706-2e589ed18755",
   "metadata": {},
   "outputs": [
    {
     "data": {
      "text/plain": [
       "0.5501352"
      ]
     },
     "execution_count": 20,
     "metadata": {},
     "output_type": "execute_result"
    }
   ],
   "source": [
    "cos_similarity = np.dot(word_vectors[\"Illinois\"], word_vectors[\"Illini\"] / (\n",
    "    np.linalg.norm(word_vectors[\"Illinois\"]) *\\\n",
    "    np.linalg.norm(word_vectors[\"Illini\"])))\n",
    "\n",
    "cos_similarity"
   ]
  },
  {
   "cell_type": "code",
   "execution_count": 21,
   "id": "2ed1afc1-f376-400e-879f-402ca0aab7da",
   "metadata": {},
   "outputs": [
    {
     "data": {
      "text/plain": [
       "0.44986480474472046"
      ]
     },
     "execution_count": 21,
     "metadata": {},
     "output_type": "execute_result"
    }
   ],
   "source": [
    "1 - cos_similarity"
   ]
  },
  {
   "cell_type": "code",
   "execution_count": 22,
   "id": "4ead853a-fc6b-44c5-ac4c-f02b1e2b3fe3",
   "metadata": {},
   "outputs": [
    {
     "name": "stderr",
     "output_type": "stream",
     "text": [
      "/tmp/ipykernel_142/3228989222.py:6: DtypeWarning: Columns (13) have mixed types. Specify dtype option on import or set low_memory=False.\n",
      "  cities = pd.read_csv(\"../../bigdata/cities.csv.gz\")\n"
     ]
    },
    {
     "data": {
      "text/html": [
       "<div>\n",
       "<style scoped>\n",
       "    .dataframe tbody tr th:only-of-type {\n",
       "        vertical-align: middle;\n",
       "    }\n",
       "\n",
       "    .dataframe tbody tr th {\n",
       "        vertical-align: top;\n",
       "    }\n",
       "\n",
       "    .dataframe thead th {\n",
       "        text-align: right;\n",
       "    }\n",
       "</style>\n",
       "<table border=\"1\" class=\"dataframe\">\n",
       "  <thead>\n",
       "    <tr style=\"text-align: right;\">\n",
       "      <th></th>\n",
       "      <th>0</th>\n",
       "    </tr>\n",
       "  </thead>\n",
       "  <tbody>\n",
       "    <tr>\n",
       "      <th>geonameid</th>\n",
       "      <td>3039154</td>\n",
       "    </tr>\n",
       "    <tr>\n",
       "      <th>name</th>\n",
       "      <td>El Tarter</td>\n",
       "    </tr>\n",
       "    <tr>\n",
       "      <th>asciiname</th>\n",
       "      <td>El Tarter</td>\n",
       "    </tr>\n",
       "    <tr>\n",
       "      <th>alternatenames</th>\n",
       "      <td>Ehl Tarter,Эл Тартер</td>\n",
       "    </tr>\n",
       "    <tr>\n",
       "      <th>latitude</th>\n",
       "      <td>42.57952</td>\n",
       "    </tr>\n",
       "    <tr>\n",
       "      <th>longitude</th>\n",
       "      <td>1.65362</td>\n",
       "    </tr>\n",
       "    <tr>\n",
       "      <th>feature_class</th>\n",
       "      <td>P</td>\n",
       "    </tr>\n",
       "    <tr>\n",
       "      <th>feature_code</th>\n",
       "      <td>PPL</td>\n",
       "    </tr>\n",
       "    <tr>\n",
       "      <th>country_code</th>\n",
       "      <td>AD</td>\n",
       "    </tr>\n",
       "    <tr>\n",
       "      <th>cc2</th>\n",
       "      <td>NaN</td>\n",
       "    </tr>\n",
       "    <tr>\n",
       "      <th>admin1_code</th>\n",
       "      <td>02</td>\n",
       "    </tr>\n",
       "    <tr>\n",
       "      <th>admin2_code</th>\n",
       "      <td>NaN</td>\n",
       "    </tr>\n",
       "    <tr>\n",
       "      <th>admin3_code</th>\n",
       "      <td>NaN</td>\n",
       "    </tr>\n",
       "    <tr>\n",
       "      <th>admin4_code</th>\n",
       "      <td>NaN</td>\n",
       "    </tr>\n",
       "    <tr>\n",
       "      <th>population</th>\n",
       "      <td>1052</td>\n",
       "    </tr>\n",
       "    <tr>\n",
       "      <th>elevation</th>\n",
       "      <td>NaN</td>\n",
       "    </tr>\n",
       "    <tr>\n",
       "      <th>dem</th>\n",
       "      <td>1721</td>\n",
       "    </tr>\n",
       "    <tr>\n",
       "      <th>timezone</th>\n",
       "      <td>Europe/Andorra</td>\n",
       "    </tr>\n",
       "    <tr>\n",
       "      <th>modification_date</th>\n",
       "      <td>2012-11-03</td>\n",
       "    </tr>\n",
       "  </tbody>\n",
       "</table>\n",
       "</div>"
      ],
      "text/plain": [
       "                                      0\n",
       "geonameid                       3039154\n",
       "name                          El Tarter\n",
       "asciiname                     El Tarter\n",
       "alternatenames     Ehl Tarter,Эл Тартер\n",
       "latitude                       42.57952\n",
       "longitude                       1.65362\n",
       "feature_class                         P\n",
       "feature_code                        PPL\n",
       "country_code                         AD\n",
       "cc2                                 NaN\n",
       "admin1_code                          02\n",
       "admin2_code                         NaN\n",
       "admin3_code                         NaN\n",
       "admin4_code                         NaN\n",
       "population                         1052\n",
       "elevation                           NaN\n",
       "dem                                1721\n",
       "timezone                 Europe/Andorra\n",
       "modification_date            2012-11-03"
      ]
     },
     "execution_count": 22,
     "metadata": {},
     "output_type": "execute_result"
    }
   ],
   "source": [
    "# from nlpia.data.loaders import get_data\n",
    "# cities = get_data(\"cities\")\n",
    "\n",
    "## https://www.dropbox.com/s/tcri5eyzpabhnyy/cities.csv.gz?dl=1\n",
    "\n",
    "cities = pd.read_csv(\"../../bigdata/cities.csv.gz\")\n",
    "\n",
    "cities.head(1).T"
   ]
  },
  {
   "cell_type": "code",
   "execution_count": 53,
   "id": "139a07e0-c679-4e51-baa2-c65c8ef9eb55",
   "metadata": {},
   "outputs": [
    {
     "name": "stdout",
     "output_type": "stream",
     "text": [
      "(11790, 22)\n"
     ]
    },
    {
     "data": {
      "text/html": [
       "<div>\n",
       "<style scoped>\n",
       "    .dataframe tbody tr th:only-of-type {\n",
       "        vertical-align: middle;\n",
       "    }\n",
       "\n",
       "    .dataframe tbody tr th {\n",
       "        vertical-align: top;\n",
       "    }\n",
       "\n",
       "    .dataframe thead th {\n",
       "        text-align: right;\n",
       "    }\n",
       "</style>\n",
       "<table border=\"1\" class=\"dataframe\">\n",
       "  <thead>\n",
       "    <tr style=\"text-align: right;\">\n",
       "      <th></th>\n",
       "      <th>city</th>\n",
       "      <th>st</th>\n",
       "      <th>state</th>\n",
       "    </tr>\n",
       "  </thead>\n",
       "  <tbody>\n",
       "    <tr>\n",
       "      <th>129157</th>\n",
       "      <td>Bay Minette</td>\n",
       "      <td>AL</td>\n",
       "      <td>Alabama</td>\n",
       "    </tr>\n",
       "    <tr>\n",
       "      <th>129158</th>\n",
       "      <td>Edna</td>\n",
       "      <td>TX</td>\n",
       "      <td>Texas</td>\n",
       "    </tr>\n",
       "    <tr>\n",
       "      <th>129159</th>\n",
       "      <td>Bayou La Batre</td>\n",
       "      <td>AL</td>\n",
       "      <td>Alabama</td>\n",
       "    </tr>\n",
       "    <tr>\n",
       "      <th>129160</th>\n",
       "      <td>Henderson</td>\n",
       "      <td>TX</td>\n",
       "      <td>Texas</td>\n",
       "    </tr>\n",
       "    <tr>\n",
       "      <th>129161</th>\n",
       "      <td>Natalia</td>\n",
       "      <td>TX</td>\n",
       "      <td>Texas</td>\n",
       "    </tr>\n",
       "  </tbody>\n",
       "</table>\n",
       "</div>"
      ],
      "text/plain": [
       "                  city  st    state\n",
       "129157     Bay Minette  AL  Alabama\n",
       "129158            Edna  TX    Texas\n",
       "129159  Bayou La Batre  AL  Alabama\n",
       "129160       Henderson  TX    Texas\n",
       "129161         Natalia  TX    Texas"
      ]
     },
     "execution_count": 53,
     "metadata": {},
     "output_type": "execute_result"
    }
   ],
   "source": [
    "us = cities[(cities.country_code == 'US') & (cities.admin1_code.notnull())].copy()\n",
    "states = pd.read_csv('http://www.fonz.net/blog/wp-content/uploads/2008/04/states.csv')\n",
    "states = dict(zip(states.Abbreviation, states.State))\n",
    "us['city'] = us.name.copy()\n",
    "us['st'] = us.admin1_code.copy()\n",
    "us['state'] = us.st.map(states)\n",
    "print(us.shape)\n",
    "us[us.columns[-3:]].head()"
   ]
  },
  {
   "cell_type": "code",
   "execution_count": 24,
   "id": "4d495ec6-d6df-4235-8b1f-40bff6314c80",
   "metadata": {},
   "outputs": [
    {
     "name": "stderr",
     "output_type": "stream",
     "text": [
      "/tmp/ipykernel_142/4209540493.py:1: FutureWarning: The pandas.np module is deprecated and will be removed from pandas in a future version. Import numpy directly instead.\n",
      "  vocab = pd.np.concatenate([us.city, us.st, us.state])\n"
     ]
    },
    {
     "data": {
      "text/plain": [
       "array(['Edna', 'Henderson', 'Natalia', 'Yorktown', 'Brighton'],\n",
       "      dtype='<U15')"
      ]
     },
     "execution_count": 24,
     "metadata": {},
     "output_type": "execute_result"
    }
   ],
   "source": [
    "vocab = pd.np.concatenate([us.city, us.st, us.state])\n",
    "vocab = np.array([word for word in vocab if word in word_vectors])\n",
    "vocab[:5]"
   ]
  },
  {
   "cell_type": "code",
   "execution_count": 25,
   "id": "582d2200-e65c-4187-aa74-49aaf565f468",
   "metadata": {},
   "outputs": [],
   "source": [
    "city_plus_state = []\n",
    "us = us.sort_values('population', ascending=False)\n",
    "for c, state, st in zip(us.city, us.state, us.st):\n",
    "    if c not in vocab:\n",
    "        continue\n",
    "    row = []\n",
    "    if state in vocab:\n",
    "        row.extend(word_vectors[c] + word_vectors[state])\n",
    "    else:\n",
    "        row.extend(word_vectors[c] + word_vectors[st])\n",
    "    city_plus_state.append(row)\n",
    "us_300D_sorted = pd.DataFrame(city_plus_state)\n",
    "del city_plus_state"
   ]
  },
  {
   "cell_type": "code",
   "execution_count": 26,
   "id": "6b1aea66-070a-42da-aa7c-5f26258297b8",
   "metadata": {},
   "outputs": [
    {
     "data": {
      "text/plain": [
       "(6537, 300)"
      ]
     },
     "execution_count": 26,
     "metadata": {},
     "output_type": "execute_result"
    }
   ],
   "source": [
    "us_300D_sorted.shape"
   ]
  },
  {
   "cell_type": "code",
   "execution_count": 27,
   "id": "7c2661f2-b1dd-476c-a527-082e39260b24",
   "metadata": {},
   "outputs": [
    {
     "data": {
      "text/plain": [
       "(8861, 302)"
      ]
     },
     "execution_count": 27,
     "metadata": {},
     "output_type": "execute_result"
    }
   ],
   "source": [
    "# us_300D = get_data(\"cities_us_wordvectors\")\n",
    "## https://www.dropbox.com/s/7ujezmo03b637q3/cities_us_wordvectors.csv.gz?dl=1\n",
    "us_300D = pd.read_csv(\"../../bigdata/cities_us_wordvectors.csv.gz\")\n",
    "us_300D.shape"
   ]
  },
  {
   "cell_type": "code",
   "execution_count": 28,
   "id": "2a21194d-627c-44da-b55c-7b77aad979cb",
   "metadata": {},
   "outputs": [],
   "source": [
    "# num_cities = 10  # simplified plot of 10 largest cities at beginning of the chapter\n",
    "num_cities = 500  # Detailed eye candy plot of US cities"
   ]
  },
  {
   "cell_type": "code",
   "execution_count": 64,
   "id": "303c1b44-65ab-497c-92c9-63cf9d8eb98c",
   "metadata": {},
   "outputs": [
    {
     "data": {
      "text/plain": [
       "(500, 2)"
      ]
     },
     "execution_count": 64,
     "metadata": {},
     "output_type": "execute_result"
    }
   ],
   "source": [
    "from sklearn.decomposition import PCA\n",
    "\n",
    "pca = PCA(n_components=2)\n",
    "# us_2D = pca.fit_transform(us_300D.iloc[:num_cities, :300])\n",
    "us_2D = pca.fit_transform(us_300D_sorted.iloc[:num_cities, :300])\n",
    "us_2D.shape"
   ]
  },
  {
   "cell_type": "code",
   "execution_count": 69,
   "id": "3ad71a48-4f4f-451c-82e1-573f6b7084bf",
   "metadata": {},
   "outputs": [
    {
     "name": "stdout",
     "output_type": "stream",
     "text": [
      "<class 'pandas.core.frame.DataFrame'>\n",
      "RangeIndex: 500 entries, 0 to 499\n",
      "Data columns (total 2 columns):\n",
      " #   Column  Non-Null Count  Dtype  \n",
      "---  ------  --------------  -----  \n",
      " 0   0       500 non-null    float32\n",
      " 1   1       500 non-null    float32\n",
      "dtypes: float32(2)\n",
      "memory usage: 4.0 KB\n"
     ]
    }
   ],
   "source": [
    "pd.DataFrame(us_2D).info()"
   ]
  },
  {
   "cell_type": "code",
   "execution_count": 77,
   "id": "adfa7f8e-496e-4b40-b52c-a73c1b802dc2",
   "metadata": {},
   "outputs": [
    {
     "name": "stdout",
     "output_type": "stream",
     "text": [
      "(500, 25)\n"
     ]
    },
    {
     "data": {
      "text/html": [
       "<div>\n",
       "<style scoped>\n",
       "    .dataframe tbody tr th:only-of-type {\n",
       "        vertical-align: middle;\n",
       "    }\n",
       "\n",
       "    .dataframe tbody tr th {\n",
       "        vertical-align: top;\n",
       "    }\n",
       "\n",
       "    .dataframe thead th {\n",
       "        text-align: right;\n",
       "    }\n",
       "</style>\n",
       "<table border=\"1\" class=\"dataframe\">\n",
       "  <thead>\n",
       "    <tr style=\"text-align: right;\">\n",
       "      <th></th>\n",
       "      <th>x</th>\n",
       "      <th>y</th>\n",
       "      <th>index</th>\n",
       "      <th>geonameid</th>\n",
       "      <th>name</th>\n",
       "      <th>asciiname</th>\n",
       "      <th>alternatenames</th>\n",
       "      <th>latitude</th>\n",
       "      <th>longitude</th>\n",
       "      <th>feature_class</th>\n",
       "      <th>...</th>\n",
       "      <th>admin3_code</th>\n",
       "      <th>admin4_code</th>\n",
       "      <th>population</th>\n",
       "      <th>elevation</th>\n",
       "      <th>dem</th>\n",
       "      <th>timezone</th>\n",
       "      <th>modification_date</th>\n",
       "      <th>city</th>\n",
       "      <th>st</th>\n",
       "      <th>state</th>\n",
       "    </tr>\n",
       "  </thead>\n",
       "  <tbody>\n",
       "    <tr>\n",
       "      <th>0</th>\n",
       "      <td>-0.803890</td>\n",
       "      <td>2.154310</td>\n",
       "      <td>138033</td>\n",
       "      <td>5368361</td>\n",
       "      <td>Los Angeles</td>\n",
       "      <td>Los Angeles</td>\n",
       "      <td>Angelopolis,Cuidad De Los Angelos,Cuidad De lo...</td>\n",
       "      <td>34.05223</td>\n",
       "      <td>-118.24368</td>\n",
       "      <td>P</td>\n",
       "      <td>...</td>\n",
       "      <td>NaN</td>\n",
       "      <td>NaN</td>\n",
       "      <td>3971883</td>\n",
       "      <td>89.0</td>\n",
       "      <td>96</td>\n",
       "      <td>America/Los_Angeles</td>\n",
       "      <td>2017-06-29</td>\n",
       "      <td>Los Angeles</td>\n",
       "      <td>CA</td>\n",
       "      <td>California</td>\n",
       "    </tr>\n",
       "    <tr>\n",
       "      <th>1</th>\n",
       "      <td>-0.536490</td>\n",
       "      <td>-1.215153</td>\n",
       "      <td>135326</td>\n",
       "      <td>4887398</td>\n",
       "      <td>Chicago</td>\n",
       "      <td>Chicago</td>\n",
       "      <td>CHI,Cekaga,Chi-ka-ko,Chi-kâ-kô,Chicago,Chicagu...</td>\n",
       "      <td>41.85003</td>\n",
       "      <td>-87.65005</td>\n",
       "      <td>P</td>\n",
       "      <td>...</td>\n",
       "      <td>14000</td>\n",
       "      <td>NaN</td>\n",
       "      <td>2720546</td>\n",
       "      <td>179.0</td>\n",
       "      <td>180</td>\n",
       "      <td>America/Chicago</td>\n",
       "      <td>2017-05-23</td>\n",
       "      <td>Chicago</td>\n",
       "      <td>IL</td>\n",
       "      <td>Illinois</td>\n",
       "    </tr>\n",
       "    <tr>\n",
       "      <th>2</th>\n",
       "      <td>-0.913035</td>\n",
       "      <td>0.403169</td>\n",
       "      <td>134932</td>\n",
       "      <td>4699066</td>\n",
       "      <td>Houston</td>\n",
       "      <td>Houston</td>\n",
       "      <td>Chiouston,Gorad Khjustan,HOU,Hiu-su-tun,Hiusto...</td>\n",
       "      <td>29.76328</td>\n",
       "      <td>-95.36327</td>\n",
       "      <td>P</td>\n",
       "      <td>...</td>\n",
       "      <td>NaN</td>\n",
       "      <td>NaN</td>\n",
       "      <td>2296224</td>\n",
       "      <td>12.0</td>\n",
       "      <td>30</td>\n",
       "      <td>America/Chicago</td>\n",
       "      <td>2017-03-09</td>\n",
       "      <td>Houston</td>\n",
       "      <td>TX</td>\n",
       "      <td>Texas</td>\n",
       "    </tr>\n",
       "    <tr>\n",
       "      <th>3</th>\n",
       "      <td>0.617377</td>\n",
       "      <td>0.166212</td>\n",
       "      <td>134006</td>\n",
       "      <td>4560349</td>\n",
       "      <td>Philadelphia</td>\n",
       "      <td>Philadelphia</td>\n",
       "      <td>Coaquannock,Fi-sang,Fi-sàng,Filadel'fi,Filadel...</td>\n",
       "      <td>39.95233</td>\n",
       "      <td>-75.16379</td>\n",
       "      <td>P</td>\n",
       "      <td>...</td>\n",
       "      <td>60000</td>\n",
       "      <td>NaN</td>\n",
       "      <td>1567442</td>\n",
       "      <td>12.0</td>\n",
       "      <td>40</td>\n",
       "      <td>America/New_York</td>\n",
       "      <td>2017-05-23</td>\n",
       "      <td>Philadelphia</td>\n",
       "      <td>PA</td>\n",
       "      <td>Pennsylvania</td>\n",
       "    </tr>\n",
       "    <tr>\n",
       "      <th>4</th>\n",
       "      <td>-0.512638</td>\n",
       "      <td>-1.067288</td>\n",
       "      <td>137477</td>\n",
       "      <td>5308655</td>\n",
       "      <td>Phoenix</td>\n",
       "      <td>Phoenix</td>\n",
       "      <td>East Phoenix,Feniks,Fenikso,Finiks,Finiksa,Fin...</td>\n",
       "      <td>33.44838</td>\n",
       "      <td>-112.07404</td>\n",
       "      <td>P</td>\n",
       "      <td>...</td>\n",
       "      <td>NaN</td>\n",
       "      <td>NaN</td>\n",
       "      <td>1563025</td>\n",
       "      <td>331.0</td>\n",
       "      <td>366</td>\n",
       "      <td>America/Phoenix</td>\n",
       "      <td>2017-03-09</td>\n",
       "      <td>Phoenix</td>\n",
       "      <td>AZ</td>\n",
       "      <td>Arizona</td>\n",
       "    </tr>\n",
       "  </tbody>\n",
       "</table>\n",
       "<p>5 rows × 25 columns</p>\n",
       "</div>"
      ],
      "text/plain": [
       "          x         y   index  geonameid          name     asciiname  \\\n",
       "0 -0.803890  2.154310  138033    5368361   Los Angeles   Los Angeles   \n",
       "1 -0.536490 -1.215153  135326    4887398       Chicago       Chicago   \n",
       "2 -0.913035  0.403169  134932    4699066       Houston       Houston   \n",
       "3  0.617377  0.166212  134006    4560349  Philadelphia  Philadelphia   \n",
       "4 -0.512638 -1.067288  137477    5308655       Phoenix       Phoenix   \n",
       "\n",
       "                                      alternatenames  latitude  longitude  \\\n",
       "0  Angelopolis,Cuidad De Los Angelos,Cuidad De lo...  34.05223 -118.24368   \n",
       "1  CHI,Cekaga,Chi-ka-ko,Chi-kâ-kô,Chicago,Chicagu...  41.85003  -87.65005   \n",
       "2  Chiouston,Gorad Khjustan,HOU,Hiu-su-tun,Hiusto...  29.76328  -95.36327   \n",
       "3  Coaquannock,Fi-sang,Fi-sàng,Filadel'fi,Filadel...  39.95233  -75.16379   \n",
       "4  East Phoenix,Feniks,Fenikso,Finiks,Finiksa,Fin...  33.44838 -112.07404   \n",
       "\n",
       "  feature_class  ... admin3_code admin4_code population elevation  dem  \\\n",
       "0             P  ...         NaN         NaN    3971883      89.0   96   \n",
       "1             P  ...       14000         NaN    2720546     179.0  180   \n",
       "2             P  ...         NaN         NaN    2296224      12.0   30   \n",
       "3             P  ...       60000         NaN    1567442      12.0   40   \n",
       "4             P  ...         NaN         NaN    1563025     331.0  366   \n",
       "\n",
       "              timezone modification_date          city  st         state  \n",
       "0  America/Los_Angeles        2017-06-29   Los Angeles  CA    California  \n",
       "1      America/Chicago        2017-05-23       Chicago  IL      Illinois  \n",
       "2      America/Chicago        2017-03-09       Houston  TX         Texas  \n",
       "3     America/New_York        2017-05-23  Philadelphia  PA  Pennsylvania  \n",
       "4      America/Phoenix        2017-03-09       Phoenix  AZ       Arizona  \n",
       "\n",
       "[5 rows x 25 columns]"
      ]
     },
     "execution_count": 77,
     "metadata": {},
     "output_type": "execute_result"
    }
   ],
   "source": [
    "df = pd.DataFrame(us_2D)\n",
    "df.columns = [\"x\", \"y\"]\n",
    "df = pd.concat([df, us.sort_values('population', ascending=False).reset_index().iloc[:num_cities]], axis=1)\n",
    "# df = df.loc[pd.notnull(df.name) & pd.notnull(df[\"x\"])]\n",
    "print(df.shape)\n",
    "df.head()"
   ]
  },
  {
   "cell_type": "code",
   "execution_count": 118,
   "id": "bf70c9b3-7d62-4ba9-b8da-c3edf6e0a5c9",
   "metadata": {},
   "outputs": [
    {
     "data": {
      "image/png": "[encoded data removed]",
      "text/plain": [
       "<Figure size 640x480 with 1 Axes>"
      ]
     },
     "metadata": {},
     "output_type": "display_data"
    }
   ],
   "source": [
    "import seaborn as sns\n",
    "sns.set(style=\"darkgrid\")\n",
    "\n",
    "g = sns.scatterplot(data=df, x=\"x\", y=\"y\", size=\"population\", hue=\"timezone\")\n",
    "\n",
    "g.legend(loc='right', bbox_to_anchor=(1.75, 0.5), ncol=1)\n",
    "plt.show()"
   ]
  },
  {
   "cell_type": "code",
   "execution_count": 33,
   "id": "5a20145d-66f2-4971-b79d-9eac2a0f23cd",
   "metadata": {},
   "outputs": [
    {
     "name": "stdout",
     "output_type": "stream",
     "text": [
      "Collecting chart_studio\n",
      "  Downloading chart_studio-1.1.0-py3-none-any.whl (64 kB)\n",
      "\u001b[2K     \u001b[90m━━━━━━━━━━━━━━━━━━━━━━━━━━━━━━━━━━━━━━━\u001b[0m \u001b[32m64.4/64.4 kB\u001b[0m \u001b[31m760.2 kB/s\u001b[0m eta \u001b[36m0:00:00\u001b[0m \u001b[36m0:00:01\u001b[0m\n",
      "\u001b[?25hRequirement already satisfied: plotly in /opt/conda/lib/python3.10/site-packages (from chart_studio) (5.10.0)\n",
      "Requirement already satisfied: six in /opt/conda/lib/python3.10/site-packages (from chart_studio) (1.16.0)\n",
      "Requirement already satisfied: requests in /opt/conda/lib/python3.10/site-packages (from chart_studio) (2.28.1)\n",
      "Collecting retrying>=1.3.3\n",
      "  Downloading retrying-1.3.3.tar.gz (10 kB)\n",
      "  Preparing metadata (setup.py) ... \u001b[?25ldone\n",
      "\u001b[?25hRequirement already satisfied: tenacity>=6.2.0 in /opt/conda/lib/python3.10/site-packages (from plotly->chart_studio) (8.0.1)\n",
      "Requirement already satisfied: certifi>=2017.4.17 in /opt/conda/lib/python3.10/site-packages (from requests->chart_studio) (2022.6.15)\n",
      "Requirement already satisfied: charset-normalizer<3,>=2 in /opt/conda/lib/python3.10/site-packages (from requests->chart_studio) (2.1.1)\n",
      "Requirement already satisfied: idna<4,>=2.5 in /opt/conda/lib/python3.10/site-packages (from requests->chart_studio) (3.3)\n",
      "Requirement already satisfied: urllib3<1.27,>=1.21.1 in /opt/conda/lib/python3.10/site-packages (from requests->chart_studio) (1.26.11)\n",
      "Building wheels for collected packages: retrying\n",
      "  Building wheel for retrying (setup.py) ... \u001b[?25ldone\n",
      "\u001b[?25h  Created wheel for retrying: filename=retrying-1.3.3-py3-none-any.whl size=11431 sha256=f6f6f654542d94b4495bd3559c75f0df3225d698881598b2e485dc6c888f003f\n",
      "  Stored in directory: /home/jovyan/.cache/pip/wheels/21/0a/27/62f77273aa12fefb20b9b277f1e937f98ae16dbd04ffa2b93a\n",
      "Successfully built retrying\n",
      "Installing collected packages: retrying, chart_studio\n",
      "Successfully installed chart_studio-1.1.0 retrying-1.3.3\n",
      "Note: you may need to restart the kernel to use updated packages.\n"
     ]
    }
   ],
   "source": [
    "pip install chart_studio"
   ]
  },
  {
   "cell_type": "code",
   "execution_count": 99,
   "id": "a9d12137-ba84-4c04-826c-2df4ffb15f74",
   "metadata": {},
   "outputs": [
    {
     "name": "stdout",
     "output_type": "stream",
     "text": [
      "../../data\n"
     ]
    }
   ],
   "source": [
    "## couldn't get nlpia.plots to work so attempt to recreatehack code locally\n",
    "\n",
    "# import plotly.chartstudio as plotly\n",
    "import chart_studio.plotly as plotly\n",
    "from plotly.graph_objs.layout import XAxis, YAxis\n",
    "# from pugnlp.util import clean_columns\n",
    "from plotly.graph_objs import Scatter, Layout\n",
    "from plotly.graph_objs.scatter import Marker\n",
    "from plotly.graph_objs.layout import XAxis, YAxis\n",
    "# from plotly.offline.offline import _plot_html\n",
    "\n",
    "import plotly.graph_objects as go\n",
    "\n",
    "# from nlpia.constants import DATA_PATH\n",
    "\n",
    "DATA_PATH = os.path.join(os.path.dirname(\"../../\"), 'data')\n",
    "print(DATA_PATH)\n",
    "\n",
    "PLOTLY_HTML = \"\"\"\n",
    "<html>\n",
    "  <head>\n",
    "    <meta charset=\"utf-8\" />\n",
    "    <!-- <meta http-equiv=\"Content-Type\" content=\"text/html; charset=utf-8\"> -->\n",
    "    <script type=\"text/javascript\">\n",
    "    {plotlyjs}\n",
    "    </script>\n",
    "  </head>\n",
    "  <body>\n",
    "    {plotlyhtml}\n",
    "  </body>\n",
    "</html>\n",
    "\"\"\"\n",
    "\n",
    "DEFAULT_PLOTLY_CONFIG = {\n",
    "    'staticPlot': False,  # no interactivity, for export or image generation\n",
    "    'workspace': False,  # we're in the workspace, so need toolbar etc\n",
    "    'editable': False,  # we can edit titles, move annotations, etc\n",
    "    'autosizable': False,  # plot will respect layout.autosize=true and infer its container size\n",
    "    'fillFrame': False,  # if we DO autosize, do we fill the container or the screen?\n",
    "    'scrollZoom': False,  # mousewheel or two-finger scroll zooms the plot\n",
    "    'doubleClick': 'reset+autosize',  # double click interaction (false, 'reset', 'autosize' or 'reset+autosize')\n",
    "    'showTips': True,  # new users see some hints about interactivity\n",
    "    'showLink': True,  # link to open this plot in plotly\n",
    "    'sendData': True,  # if we show a link, does it contain data or just link to a plotly file?\n",
    "    'linkText': 'Edit chart',  # text appearing in the sendData link\n",
    "    'displayModeBar': 'true',  # display the modebar (true, false, or 'hover')\n",
    "    'displaylogo': False,  # add the plotly logo on the end of the modebar\n",
    "    'plot3dPixelRatio': 2,  # increase the pixel ratio for 3D plot images\n",
    "    'setBackground': 'opaque'  # fn to add the background color to a different container or 'opaque'\n",
    "                               # to ensure there's white behind it\n",
    "}\n",
    "\n",
    "def offline_plotly_data(data, filename=None, config=None, validate=True,\n",
    "                        default_width='100%', default_height=525, global_requirejs=False):\n",
    "    r\"\"\" Write a plotly scatter plot to HTML file that doesn't require server\n",
    "\n",
    "    >>> from nlpia.loaders import get_data\n",
    "    >>> df = get_data('etpinard')  # pd.read_csv('https://plot.ly/~etpinard/191.csv')\n",
    "    >>> df.columns = [eval(c) if c[0] in '\"\\'' else str(c) for c in df.columns]\n",
    "    >>> data = {'data': [\n",
    "    ...          Scatter(x=df[continent+', x'],\n",
    "    ...                  y=df[continent+', y'],\n",
    "    ...                  text=df[continent+', text'],\n",
    "    ...                  marker=Marker(size=df[continent+', size'].fillna(10000), sizemode='area', sizeref=131868,),\n",
    "    ...                  mode='markers',\n",
    "    ...                  name=continent) for continent in ['Africa', 'Americas', 'Asia', 'Europe', 'Oceania']\n",
    "    ...      ],\n",
    "    ...      'layout': Layout(xaxis=XAxis(title='Life Expectancy'), yaxis=YAxis(title='GDP per Capita', type='log'))\n",
    "    ... }\n",
    "    >>> html = offline_plotly_data(data, filename=None)\n",
    "    \"\"\"\n",
    "    config_default = dict(DEFAULT_PLOTLY_CONFIG)\n",
    "    if config is not None:\n",
    "        config_default.update(config)\n",
    "    with open(os.path.join(DATA_PATH, 'plotly.js.min'), 'rt') as f:\n",
    "        js = f.read()\n",
    "    html, divid, width, height = _plot_html(\n",
    "        data,\n",
    "        config=config_default,\n",
    "        validate=validate,\n",
    "        default_width=default_width, default_height=default_height,\n",
    "        global_requirejs=global_requirejs)\n",
    "    # fig = go.Figure(\n",
    "    #     data,\n",
    "    #     config=config_default,\n",
    "    #     validate=validate,\n",
    "    #     default_width=default_width, default_height=default_height,\n",
    "    #     global_requirejs=global_requirejs)\n",
    "    # html = fig.to_html()\n",
    "    html = PLOTLY_HTML.format(plotlyjs=js, plotlyhtml=html)\n",
    "    if filename and isinstance(filename, str):\n",
    "        with open(filename, 'wt') as f:\n",
    "            f.write(html)\n",
    "    return html\n",
    "\n",
    "def offline_plotly_scatter_bubble(df, x='x', y='y', size_col='size', text_col='text',\n",
    "                                  category_col='category', possible_categories=None,\n",
    "                                  filename=None,\n",
    "                                  config={'displaylogo': False},\n",
    "                                  xscale=None, yscale='log',\n",
    "                                  layout={'hovermode': 'closest', 'showlegend': False, 'autosize': True},\n",
    "                                  marker={'sizemode': 'area'},\n",
    "                                  min_size=10,\n",
    "                                  ):\n",
    "    r\"\"\"Interactive scatterplot of a DataFrame with the size and color of circles linke to two columns\n",
    "\n",
    "    config keys:\n",
    "      fillFrame setBackground displaylogo sendData showLink linkText staticPlot scrollZoom plot3dPixelRatio displayModeBar\n",
    "      showTips workspace doubleClick autosizable editable\n",
    "\n",
    "    layout keys:\n",
    "      angularaxis annotations autosize bargap bargroupgap barmode barnorm boxgap boxgroupgap boxmode calendar\n",
    "      direction dragmode font geo height hiddenlabels hiddenlabelssrc hidesources hovermode images legend\n",
    "      mapbox margin orientation paper_bgcolor plot_bgcolor radialaxis scene separators shapes showlegend sliders smith\n",
    "      ternary title titlefont updatemenus width xaxis yaxis\n",
    "\n",
    "    marker keys:\n",
    "      autocolorscale blend border cauto cmax cmin color colorbar colors colorscale colorsrc colorssrc line maxdisplayed\n",
    "      opacity opacitysrc outliercolor reversescale showscale size sizemax sizemin sizemode sizeref sizesrc symbol symbolsrc\n",
    "\n",
    "    marker['sizeref'] gives the denominator of the circle scaling factor.\n",
    "      Typically it should be about a tenth of the minimum 'size' column value\n",
    "\n",
    "    >>> from nlpia.data.loaders import get_data\n",
    "    >>> df = get_data('cities_us_wordvectors_pca2_meta').iloc[:100]\n",
    "    >>> html = offline_plotly_scatter_bubble(\n",
    "    ...     df.sort_values('population', ascending=False)[:350].copy().sort_values('population'),\n",
    "    ...     x='x', y='y',\n",
    "    ...     size_col='population', text_col='name', category_col='timezone',\n",
    "    ...     xscale=None, yscale=None,  # 'log' or None\n",
    "    ...     layout={}, marker={'sizeref': 3000})\n",
    "    \"\"\"\n",
    "    config_default = dict(DEFAULT_PLOTLY_CONFIG)\n",
    "    marker_default = {\n",
    "        'size': size_col or min_size,\n",
    "        'sizemode': 'area',\n",
    "        'sizeref': int(df[size_col].min() * .8) if size_col else min_size}\n",
    "    marker_default.update(marker)\n",
    "    size_col = marker_default.pop('size')\n",
    "    layout_default = {\n",
    "        'xaxis': XAxis(title=x, type=xscale),\n",
    "        'yaxis': YAxis(title=y, type=yscale),\n",
    "    }\n",
    "    layout_default.update(**layout)\n",
    "    if config is not None:\n",
    "        config_default.update(config)\n",
    "    # df.columns = clean_columns(df.columns)\n",
    "    if possible_categories is None and category_col is not None:\n",
    "        if category_col in df.columns:\n",
    "            category_labels = df[category_col]\n",
    "        else:\n",
    "            category_labels = np.array(category_col)\n",
    "        possible_categories = list(set(category_labels))\n",
    "    possible_categories = [None] if possible_categories is None else possible_categories\n",
    "    if category_col and category_col in df:\n",
    "        masks = [np.array(df[category_col] == label) for label in possible_categories]\n",
    "    else:\n",
    "        masks = [np.array([True] * len(df))] * len(possible_categories)\n",
    "    data = {'data': [\n",
    "            Scatter(x=df[x][mask].values,\n",
    "                    y=df[y][mask].values,\n",
    "                    text=df[text_col][mask].values,\n",
    "                    marker=Marker(size=df[size_col][mask] if size_col in df.columns else size_col,\n",
    "                                  **marker_default),\n",
    "                    mode='markers',\n",
    "                    name=str(category_name)) for (category_name, mask) in zip(possible_categories, masks)\n",
    "            ],\n",
    "            'layout': Layout(**layout_default)\n",
    "            }\n",
    "    return offline_plotly_data(data, filename=filename, config=config_default)\n",
    "\n",
    "# offline_plotly_scatter_bubble?"
   ]
  },
  {
   "cell_type": "code",
   "execution_count": 100,
   "id": "4d8a1cac-6b0c-48c1-9094-eacac6a5464d",
   "metadata": {},
   "outputs": [
    {
     "ename": "TypeError",
     "evalue": "invalid Figure property: config\nconfig\nBad property path:\nconfig\n^^^^^^",
     "output_type": "error",
     "traceback": [
      "\u001b[0;31m---------------------------------------------------------------------------\u001b[0m",
      "\u001b[0;31mTypeError\u001b[0m                                 Traceback (most recent call last)",
      "Input \u001b[0;32mIn [100]\u001b[0m, in \u001b[0;36m<cell line: 7>\u001b[0;34m()\u001b[0m\n\u001b[1;32m      2\u001b[0m \u001b[38;5;28;01mfrom\u001b[39;00m \u001b[38;5;21;01mmatplotlib\u001b[39;00m \u001b[38;5;28;01mimport\u001b[39;00m pyplot \u001b[38;5;28;01mas\u001b[39;00m plt\n\u001b[1;32m      3\u001b[0m \u001b[38;5;66;03m# from nlpia.plots import offline_plotly_scatter_bubble\u001b[39;00m\n\u001b[1;32m      4\u001b[0m \n\u001b[1;32m      5\u001b[0m \u001b[38;5;66;03m# df = get_data(\"cities_us_wordvectors_pca2_meta\")\u001b[39;00m\n\u001b[0;32m----> 7\u001b[0m html \u001b[38;5;241m=\u001b[39m \u001b[43moffline_plotly_scatter_bubble\u001b[49m\u001b[43m(\u001b[49m\n\u001b[1;32m      8\u001b[0m \u001b[43m    \u001b[49m\u001b[38;5;66;43;03m# us_2D.sort_values(\"population\", ascending=False)[:350].copy()\\\u001b[39;49;00m\n\u001b[1;32m      9\u001b[0m \u001b[43m        \u001b[49m\u001b[38;5;66;43;03m# .sort_values(\"population\"),\u001b[39;49;00m\n\u001b[1;32m     10\u001b[0m \u001b[43m    \u001b[49m\u001b[43mdf\u001b[49m\u001b[38;5;241;43m.\u001b[39;49m\u001b[43mcopy\u001b[49m\u001b[43m(\u001b[49m\u001b[43m)\u001b[49m\u001b[43m,\u001b[49m\n\u001b[1;32m     11\u001b[0m \u001b[43m    \u001b[49m\u001b[43mfilename\u001b[49m\u001b[38;5;241;43m=\u001b[39;49m\u001b[38;5;124;43m\"\u001b[39;49m\u001b[38;5;124;43mplotly_scatter_bubble.html\u001b[39;49m\u001b[38;5;124;43m\"\u001b[39;49m\u001b[43m,\u001b[49m\n\u001b[1;32m     12\u001b[0m \u001b[43m    \u001b[49m\u001b[43mx\u001b[49m\u001b[38;5;241;43m=\u001b[39;49m\u001b[38;5;124;43m\"\u001b[39;49m\u001b[38;5;124;43mx\u001b[39;49m\u001b[38;5;124;43m\"\u001b[39;49m\u001b[43m,\u001b[49m\u001b[43m \u001b[49m\u001b[43my\u001b[49m\u001b[38;5;241;43m=\u001b[39;49m\u001b[38;5;124;43m\"\u001b[39;49m\u001b[38;5;124;43my\u001b[39;49m\u001b[38;5;124;43m\"\u001b[39;49m\u001b[43m,\u001b[49m\n\u001b[1;32m     13\u001b[0m \u001b[43m    \u001b[49m\u001b[43msize_col\u001b[49m\u001b[38;5;241;43m=\u001b[39;49m\u001b[38;5;124;43m\"\u001b[39;49m\u001b[38;5;124;43mpopulation\u001b[39;49m\u001b[38;5;124;43m\"\u001b[39;49m\u001b[43m,\u001b[49m\n\u001b[1;32m     14\u001b[0m \u001b[43m    \u001b[49m\u001b[43mtext_col\u001b[49m\u001b[38;5;241;43m=\u001b[39;49m\u001b[38;5;124;43m\"\u001b[39;49m\u001b[38;5;124;43mname\u001b[39;49m\u001b[38;5;124;43m\"\u001b[39;49m\u001b[43m,\u001b[49m\u001b[43m \u001b[49m\u001b[43mcategory_col\u001b[49m\u001b[38;5;241;43m=\u001b[39;49m\u001b[38;5;124;43m\"\u001b[39;49m\u001b[38;5;124;43mtimezone\u001b[39;49m\u001b[38;5;124;43m\"\u001b[39;49m\u001b[43m,\u001b[49m\n\u001b[1;32m     15\u001b[0m \u001b[43m    \u001b[49m\u001b[43mxscale\u001b[49m\u001b[38;5;241;43m=\u001b[39;49m\u001b[38;5;28;43;01mNone\u001b[39;49;00m\u001b[43m,\u001b[49m\u001b[43m \u001b[49m\u001b[43myscale\u001b[49m\u001b[38;5;241;43m=\u001b[39;49m\u001b[38;5;28;43;01mNone\u001b[39;49;00m\u001b[43m,\u001b[49m\u001b[43m \u001b[49m\u001b[38;5;66;43;03m# \"log\" or None\u001b[39;49;00m\n\u001b[1;32m     16\u001b[0m \u001b[43m    \u001b[49m\u001b[43mlayout\u001b[49m\u001b[38;5;241;43m=\u001b[39;49m\u001b[43m{\u001b[49m\u001b[43m}\u001b[49m\u001b[43m,\u001b[49m\u001b[43m \u001b[49m\u001b[43mmarker\u001b[49m\u001b[38;5;241;43m=\u001b[39;49m\u001b[43m{\u001b[49m\u001b[38;5;124;43m\"\u001b[39;49m\u001b[38;5;124;43msizeref\u001b[39;49m\u001b[38;5;124;43m\"\u001b[39;49m\u001b[43m:\u001b[49m\u001b[43m \u001b[49m\u001b[38;5;241;43m3000\u001b[39;49m\u001b[43m}\u001b[49m\u001b[43m)\u001b[49m\n",
      "Input \u001b[0;32mIn [99]\u001b[0m, in \u001b[0;36moffline_plotly_scatter_bubble\u001b[0;34m(df, x, y, size_col, text_col, category_col, possible_categories, filename, config, xscale, yscale, layout, marker, min_size)\u001b[0m\n\u001b[1;32m    156\u001b[0m     masks \u001b[38;5;241m=\u001b[39m [np\u001b[38;5;241m.\u001b[39marray([\u001b[38;5;28;01mTrue\u001b[39;00m] \u001b[38;5;241m*\u001b[39m \u001b[38;5;28mlen\u001b[39m(df))] \u001b[38;5;241m*\u001b[39m \u001b[38;5;28mlen\u001b[39m(possible_categories)\n\u001b[1;32m    157\u001b[0m data \u001b[38;5;241m=\u001b[39m {\u001b[38;5;124m'\u001b[39m\u001b[38;5;124mdata\u001b[39m\u001b[38;5;124m'\u001b[39m: [\n\u001b[1;32m    158\u001b[0m         Scatter(x\u001b[38;5;241m=\u001b[39mdf[x][mask]\u001b[38;5;241m.\u001b[39mvalues,\n\u001b[1;32m    159\u001b[0m                 y\u001b[38;5;241m=\u001b[39mdf[y][mask]\u001b[38;5;241m.\u001b[39mvalues,\n\u001b[0;32m   (...)\u001b[0m\n\u001b[1;32m    166\u001b[0m         \u001b[38;5;124m'\u001b[39m\u001b[38;5;124mlayout\u001b[39m\u001b[38;5;124m'\u001b[39m: Layout(\u001b[38;5;241m*\u001b[39m\u001b[38;5;241m*\u001b[39mlayout_default)\n\u001b[1;32m    167\u001b[0m         }\n\u001b[0;32m--> 168\u001b[0m \u001b[38;5;28;01mreturn\u001b[39;00m \u001b[43moffline_plotly_data\u001b[49m\u001b[43m(\u001b[49m\u001b[43mdata\u001b[49m\u001b[43m,\u001b[49m\u001b[43m \u001b[49m\u001b[43mfilename\u001b[49m\u001b[38;5;241;43m=\u001b[39;49m\u001b[43mfilename\u001b[49m\u001b[43m,\u001b[49m\u001b[43m \u001b[49m\u001b[43mconfig\u001b[49m\u001b[38;5;241;43m=\u001b[39;49m\u001b[43mconfig_default\u001b[49m\u001b[43m)\u001b[49m\n",
      "Input \u001b[0;32mIn [99]\u001b[0m, in \u001b[0;36moffline_plotly_data\u001b[0;34m(data, filename, config, validate, default_width, default_height, global_requirejs)\u001b[0m\n\u001b[1;32m     74\u001b[0m     js \u001b[38;5;241m=\u001b[39m f\u001b[38;5;241m.\u001b[39mread()\n\u001b[1;32m     75\u001b[0m \u001b[38;5;66;03m# html, divid, width, height = _plot_html(\u001b[39;00m\n\u001b[1;32m     76\u001b[0m \u001b[38;5;66;03m#     data,\u001b[39;00m\n\u001b[1;32m     77\u001b[0m \u001b[38;5;66;03m#     config=config_default,\u001b[39;00m\n\u001b[1;32m     78\u001b[0m \u001b[38;5;66;03m#     validate=validate,\u001b[39;00m\n\u001b[1;32m     79\u001b[0m \u001b[38;5;66;03m#     default_width=default_width, default_height=default_height,\u001b[39;00m\n\u001b[1;32m     80\u001b[0m \u001b[38;5;66;03m#     global_requirejs=global_requirejs)\u001b[39;00m\n\u001b[0;32m---> 81\u001b[0m fig \u001b[38;5;241m=\u001b[39m \u001b[43mgo\u001b[49m\u001b[38;5;241;43m.\u001b[39;49m\u001b[43mFigure\u001b[49m\u001b[43m(\u001b[49m\n\u001b[1;32m     82\u001b[0m \u001b[43m    \u001b[49m\u001b[43mdata\u001b[49m\u001b[43m,\u001b[49m\n\u001b[1;32m     83\u001b[0m \u001b[43m    \u001b[49m\u001b[43mconfig\u001b[49m\u001b[38;5;241;43m=\u001b[39;49m\u001b[43mconfig_default\u001b[49m\u001b[43m,\u001b[49m\n\u001b[1;32m     84\u001b[0m \u001b[43m    \u001b[49m\u001b[43mvalidate\u001b[49m\u001b[38;5;241;43m=\u001b[39;49m\u001b[43mvalidate\u001b[49m\u001b[43m,\u001b[49m\n\u001b[1;32m     85\u001b[0m \u001b[43m    \u001b[49m\u001b[43mdefault_width\u001b[49m\u001b[38;5;241;43m=\u001b[39;49m\u001b[43mdefault_width\u001b[49m\u001b[43m,\u001b[49m\u001b[43m \u001b[49m\u001b[43mdefault_height\u001b[49m\u001b[38;5;241;43m=\u001b[39;49m\u001b[43mdefault_height\u001b[49m\u001b[43m,\u001b[49m\n\u001b[1;32m     86\u001b[0m \u001b[43m    \u001b[49m\u001b[43mglobal_requirejs\u001b[49m\u001b[38;5;241;43m=\u001b[39;49m\u001b[43mglobal_requirejs\u001b[49m\u001b[43m)\u001b[49m\n\u001b[1;32m     87\u001b[0m html \u001b[38;5;241m=\u001b[39m fig\u001b[38;5;241m.\u001b[39mto_html()\n\u001b[1;32m     88\u001b[0m html \u001b[38;5;241m=\u001b[39m PLOTLY_HTML\u001b[38;5;241m.\u001b[39mformat(plotlyjs\u001b[38;5;241m=\u001b[39mjs, plotlyhtml\u001b[38;5;241m=\u001b[39mhtml)\n",
      "File \u001b[0;32m/opt/conda/lib/python3.10/site-packages/plotly/graph_objs/_figure.py:610\u001b[0m, in \u001b[0;36mFigure.__init__\u001b[0;34m(self, data, layout, frames, skip_invalid, **kwargs)\u001b[0m\n\u001b[1;32m      5\u001b[0m \u001b[38;5;28;01mdef\u001b[39;00m \u001b[38;5;21m__init__\u001b[39m(\n\u001b[1;32m      6\u001b[0m     \u001b[38;5;28mself\u001b[39m, data\u001b[38;5;241m=\u001b[39m\u001b[38;5;28;01mNone\u001b[39;00m, layout\u001b[38;5;241m=\u001b[39m\u001b[38;5;28;01mNone\u001b[39;00m, frames\u001b[38;5;241m=\u001b[39m\u001b[38;5;28;01mNone\u001b[39;00m, skip_invalid\u001b[38;5;241m=\u001b[39m\u001b[38;5;28;01mFalse\u001b[39;00m, \u001b[38;5;241m*\u001b[39m\u001b[38;5;241m*\u001b[39mkwargs\n\u001b[1;32m      7\u001b[0m ):\n\u001b[1;32m      8\u001b[0m     \u001b[38;5;124;03m\"\"\"\u001b[39;00m\n\u001b[1;32m      9\u001b[0m \u001b[38;5;124;03m    Create a new :class:Figure instance\u001b[39;00m\n\u001b[1;32m     10\u001b[0m \n\u001b[0;32m   (...)\u001b[0m\n\u001b[1;32m    608\u001b[0m \u001b[38;5;124;03m        is invalid AND skip_invalid is False\u001b[39;00m\n\u001b[1;32m    609\u001b[0m \u001b[38;5;124;03m    \"\"\"\u001b[39;00m\n\u001b[0;32m--> 610\u001b[0m     \u001b[38;5;28;43msuper\u001b[39;49m\u001b[43m(\u001b[49m\u001b[43mFigure\u001b[49m\u001b[43m,\u001b[49m\u001b[43m \u001b[49m\u001b[38;5;28;43mself\u001b[39;49m\u001b[43m)\u001b[49m\u001b[38;5;241;43m.\u001b[39;49m\u001b[38;5;21;43m__init__\u001b[39;49m\u001b[43m(\u001b[49m\u001b[43mdata\u001b[49m\u001b[43m,\u001b[49m\u001b[43m \u001b[49m\u001b[43mlayout\u001b[49m\u001b[43m,\u001b[49m\u001b[43m \u001b[49m\u001b[43mframes\u001b[49m\u001b[43m,\u001b[49m\u001b[43m \u001b[49m\u001b[43mskip_invalid\u001b[49m\u001b[43m,\u001b[49m\u001b[43m \u001b[49m\u001b[38;5;241;43m*\u001b[39;49m\u001b[38;5;241;43m*\u001b[39;49m\u001b[43mkwargs\u001b[49m\u001b[43m)\u001b[49m\n",
      "File \u001b[0;32m/opt/conda/lib/python3.10/site-packages/plotly/basedatatypes.py:647\u001b[0m, in \u001b[0;36mBaseFigure.__init__\u001b[0;34m(self, data, layout_plotly, frames, skip_invalid, **kwargs)\u001b[0m\n\u001b[1;32m    640\u001b[0m                 type_err \u001b[38;5;241m=\u001b[39m \u001b[38;5;167;01mTypeError\u001b[39;00m(\u001b[38;5;124m\"\u001b[39m\u001b[38;5;124minvalid Figure property: \u001b[39m\u001b[38;5;132;01m{}\u001b[39;00m\u001b[38;5;124m\"\u001b[39m\u001b[38;5;241m.\u001b[39mformat(k))\n\u001b[1;32m    641\u001b[0m                 type_err\u001b[38;5;241m.\u001b[39margs \u001b[38;5;241m=\u001b[39m (\n\u001b[1;32m    642\u001b[0m                     type_err\u001b[38;5;241m.\u001b[39margs[\u001b[38;5;241m0\u001b[39m]\n\u001b[1;32m    643\u001b[0m                     \u001b[38;5;241m+\u001b[39m \u001b[38;5;124m\"\"\"\u001b[39m\n\u001b[1;32m    644\u001b[0m \u001b[38;5;132;01m%s\u001b[39;00m\u001b[38;5;124m\"\"\"\u001b[39m\n\u001b[1;32m    645\u001b[0m                     \u001b[38;5;241m%\u001b[39m (err\u001b[38;5;241m.\u001b[39margs[\u001b[38;5;241m0\u001b[39m],),\n\u001b[1;32m    646\u001b[0m                 )\n\u001b[0;32m--> 647\u001b[0m                 \u001b[38;5;28;01mraise\u001b[39;00m type_err\n",
      "\u001b[0;31mTypeError\u001b[0m: invalid Figure property: config\nconfig\nBad property path:\nconfig\n^^^^^^"
     ]
    }
   ],
   "source": [
    "import seaborn\n",
    "from matplotlib import pyplot as plt\n",
    "# from nlpia.plots import offline_plotly_scatter_bubble\n",
    "\n",
    "# df = get_data(\"cities_us_wordvectors_pca2_meta\")\n",
    "\n",
    "html = offline_plotly_scatter_bubble(\n",
    "    # us_2D.sort_values(\"population\", ascending=False)[:350].copy()\\\n",
    "        # .sort_values(\"population\"),\n",
    "    df.copy(),\n",
    "    filename=\"plotly_scatter_bubble.html\",\n",
    "    x=\"x\", y=\"y\",\n",
    "    size_col=\"population\",\n",
    "    text_col=\"name\", category_col=\"timezone\",\n",
    "    xscale=None, yscale=None, # \"log\" or None\n",
    "    layout={}, marker={\"sizeref\": 3000})"
   ]
  },
  {
   "cell_type": "markdown",
   "id": "63923826-535b-46db-bf3b-f377d050f3f1",
   "metadata": {},
   "source": []
  },
  {
   "cell_type": "markdown",
   "id": "8dfb7d53-5438-40aa-ad80-94de7b05d19f",
   "metadata": {},
   "source": [
    "### 6.2.10 Document similarity with Doc2vec"
   ]
  },
  {
   "cell_type": "code",
   "execution_count": 107,
   "id": "b300efc7-fa07-42ed-a306-95510fdb197a",
   "metadata": {},
   "outputs": [
    {
     "data": {
      "text/plain": [
       "8"
      ]
     },
     "execution_count": 107,
     "metadata": {},
     "output_type": "execute_result"
    }
   ],
   "source": [
    "import multiprocessing\n",
    "num_cores = multiprocessing.cpu_count()\n",
    "num_cores"
   ]
  },
  {
   "cell_type": "code",
   "execution_count": 108,
   "id": "5c5af546-ce64-4c81-8d0c-c899d93c8e44",
   "metadata": {},
   "outputs": [],
   "source": [
    "from gensim.models.doc2vec import TaggedDocument, Doc2Vec\n",
    "from gensim.utils import simple_preprocess"
   ]
  },
  {
   "cell_type": "code",
   "execution_count": 109,
   "id": "4db2e102-1fa9-49f7-9e74-95c2053683c9",
   "metadata": {},
   "outputs": [
    {
     "data": {
      "text/plain": [
       "[TaggedDocument(words=['this', 'is', 'the', 'first', 'document'], tags=[0]),\n",
       " TaggedDocument(words=['another', 'document'], tags=[1])]"
      ]
     },
     "execution_count": 109,
     "metadata": {},
     "output_type": "execute_result"
    }
   ],
   "source": [
    "corpus = [\"This is the first document ...\",\n",
    "          \"another document ...\"]\n",
    "training_corpus = []\n",
    "\n",
    "for i, text in enumerate(corpus):\n",
    "    tagged_doc = TaggedDocument(simple_preprocess(text), [i])\n",
    "    training_corpus.append(tagged_doc)\n",
    "    \n",
    "training_corpus"
   ]
  },
  {
   "cell_type": "code",
   "execution_count": 114,
   "id": "a19913a1-bb7c-442c-b702-bdaa4955f93e",
   "metadata": {},
   "outputs": [],
   "source": [
    "model = Doc2Vec(vector_size=100, min_count=2, workers=num_cores, epochs=10)\n",
    "model.build_vocab(training_corpus)\n",
    "model.train(training_corpus, total_examples=model.corpus_count, epochs=model.epochs)"
   ]
  },
  {
   "cell_type": "code",
   "execution_count": 116,
   "id": "a3948dc6-e138-4088-bd3b-b07c59620489",
   "metadata": {},
   "outputs": [
    {
     "data": {
      "text/plain": [
       "array([-1.9862906e-03, -4.5208256e-03, -3.0081994e-03, -8.3802489e-04,\n",
       "        2.7376735e-03,  3.6004251e-03,  2.7155662e-03, -4.7555869e-03,\n",
       "       -4.5315693e-03, -1.0015309e-04,  9.6241356e-04, -1.3302729e-03,\n",
       "        2.1187598e-03, -8.0405711e-04, -4.0762643e-03, -5.2490475e-04,\n",
       "        8.9573802e-04, -4.6298071e-03, -4.1797222e-04, -2.5968987e-03,\n",
       "        9.5779717e-04, -1.5391436e-03, -2.6258333e-03, -2.7084774e-03,\n",
       "        3.2209992e-04, -1.7293631e-04, -2.2746301e-03, -1.7214698e-03,\n",
       "       -3.9839251e-03, -3.2183521e-03,  4.2662583e-03, -3.2810272e-05,\n",
       "        2.3473967e-03, -1.8656036e-03, -9.4478368e-04,  1.8056262e-03,\n",
       "        8.5966231e-04,  8.9674117e-04, -1.8908920e-03,  7.7080843e-04,\n",
       "        1.5331239e-03, -3.1585002e-03,  3.9204834e-03, -4.3007047e-03,\n",
       "       -3.7604561e-03,  3.9935886e-04,  4.4224244e-03,  8.4434508e-04,\n",
       "       -3.3932537e-04, -2.2693961e-03, -1.1991209e-03,  1.2832647e-03,\n",
       "       -7.7242730e-04,  3.3814544e-03, -3.1873148e-03,  2.7874112e-05,\n",
       "       -4.5936648e-03,  2.1012395e-03,  3.6744057e-04, -3.1387676e-03,\n",
       "        1.4893109e-03, -1.2164810e-03,  3.8478272e-03,  2.5120866e-03,\n",
       "        9.6371415e-04,  4.7077655e-04,  2.8700912e-03, -4.0876945e-03,\n",
       "        4.1601099e-03, -3.7275786e-03,  2.2214400e-03,  8.6865964e-04,\n",
       "        3.6160147e-03, -3.8341666e-03,  2.0884585e-03,  4.6112835e-03,\n",
       "       -3.9877654e-03,  1.0168535e-03, -2.6866456e-03, -3.9242846e-03,\n",
       "        2.7242077e-03, -4.2681902e-04,  3.8918995e-03,  1.2789678e-03,\n",
       "       -1.8581867e-04, -1.7816353e-03, -3.2599554e-03, -4.5848656e-03,\n",
       "        3.5036290e-03, -1.7568758e-03, -3.4798044e-03,  4.3471181e-03,\n",
       "       -4.2652726e-04,  3.4380520e-03,  4.4634431e-03, -1.1997378e-03,\n",
       "        2.8688265e-03, -3.6520653e-03,  4.3745195e-03, -1.7725462e-03],\n",
       "      dtype=float32)"
      ]
     },
     "execution_count": 116,
     "metadata": {},
     "output_type": "execute_result"
    }
   ],
   "source": [
    "model.infer_vector(simple_preprocess(\"This is a completely unseen document\"), epochs=10)"
   ]
  }
 ],
 "metadata": {
  "kernelspec": {
   "display_name": "Python 3 (ipykernel)",
   "language": "python",
   "name": "python3"
  },
  "language_info": {
   "codemirror_mode": {
    "name": "ipython",
    "version": 3
   },
   "file_extension": ".py",
   "mimetype": "text/x-python",
   "name": "python",
   "nbconvert_exporter": "python",
   "pygments_lexer": "ipython3",
   "version": "3.10.6"
  }
 },
 "nbformat": 4,
 "nbformat_minor": 5
}
